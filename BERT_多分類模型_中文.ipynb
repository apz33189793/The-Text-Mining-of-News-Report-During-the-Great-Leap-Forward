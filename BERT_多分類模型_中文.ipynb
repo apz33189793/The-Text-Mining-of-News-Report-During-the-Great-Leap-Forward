{
  "nbformat": 4,
  "nbformat_minor": 0,
  "metadata": {
    "kernelspec": {
      "display_name": "Python 3",
      "language": "python",
      "name": "python3"
    },
    "language_info": {
      "codemirror_mode": {
        "name": "ipython",
        "version": 3
      },
      "file_extension": ".py",
      "mimetype": "text/x-python",
      "name": "python",
      "nbconvert_exporter": "python",
      "pygments_lexer": "ipython3",
      "version": "3.8.8"
    },
    "toc": {
      "base_numbering": 1,
      "nav_menu": {},
      "number_sections": true,
      "sideBar": true,
      "skip_h1_title": false,
      "title_cell": "Table of Contents",
      "title_sidebar": "Contents",
      "toc_cell": false,
      "toc_position": {
        "height": "calc(100% - 180px)",
        "left": "10px",
        "top": "150px",
        "width": "304px"
      },
      "toc_section_display": true,
      "toc_window_display": true
    },
    "colab": {
      "name": "BERT_多分類模型_中文",
      "provenance": [],
      "collapsed_sections": [],
      "toc_visible": true
    },
    "accelerator": "GPU",
    "widgets": {
      "application/vnd.jupyter.widget-state+json": {
        "083c68bdb24040e08c34ecc7dbe96a05": {
          "model_module": "@jupyter-widgets/controls",
          "model_name": "HBoxModel",
          "model_module_version": "1.5.0",
          "state": {
            "_view_name": "HBoxView",
            "_dom_classes": [],
            "_model_name": "HBoxModel",
            "_view_module": "@jupyter-widgets/controls",
            "_model_module_version": "1.5.0",
            "_view_count": null,
            "_view_module_version": "1.5.0",
            "box_style": "",
            "layout": "IPY_MODEL_0d47459860f24228ab902f7e4c2c13b4",
            "_model_module": "@jupyter-widgets/controls",
            "children": [
              "IPY_MODEL_c079773d1b524f8cb42e5e1165126685",
              "IPY_MODEL_e75cefa70d98482395aa2753f66c34f7",
              "IPY_MODEL_6f35ee578a054218b123f16acf2bdcaf"
            ]
          }
        },
        "0d47459860f24228ab902f7e4c2c13b4": {
          "model_module": "@jupyter-widgets/base",
          "model_name": "LayoutModel",
          "model_module_version": "1.2.0",
          "state": {
            "_view_name": "LayoutView",
            "grid_template_rows": null,
            "right": null,
            "justify_content": null,
            "_view_module": "@jupyter-widgets/base",
            "overflow": null,
            "_model_module_version": "1.2.0",
            "_view_count": null,
            "flex_flow": null,
            "width": null,
            "min_width": null,
            "border": null,
            "align_items": null,
            "bottom": null,
            "_model_module": "@jupyter-widgets/base",
            "top": null,
            "grid_column": null,
            "overflow_y": null,
            "overflow_x": null,
            "grid_auto_flow": null,
            "grid_area": null,
            "grid_template_columns": null,
            "flex": null,
            "_model_name": "LayoutModel",
            "justify_items": null,
            "grid_row": null,
            "max_height": null,
            "align_content": null,
            "visibility": null,
            "align_self": null,
            "height": null,
            "min_height": null,
            "padding": null,
            "grid_auto_rows": null,
            "grid_gap": null,
            "max_width": null,
            "order": null,
            "_view_module_version": "1.2.0",
            "grid_template_areas": null,
            "object_position": null,
            "object_fit": null,
            "grid_auto_columns": null,
            "margin": null,
            "display": null,
            "left": null
          }
        },
        "c079773d1b524f8cb42e5e1165126685": {
          "model_module": "@jupyter-widgets/controls",
          "model_name": "HTMLModel",
          "model_module_version": "1.5.0",
          "state": {
            "_view_name": "HTMLView",
            "style": "IPY_MODEL_bbe5123ae57e4a7691d9e3987ce9a4de",
            "_dom_classes": [],
            "description": "",
            "_model_name": "HTMLModel",
            "placeholder": "​",
            "_view_module": "@jupyter-widgets/controls",
            "_model_module_version": "1.5.0",
            "value": "Downloading: 100%",
            "_view_count": null,
            "_view_module_version": "1.5.0",
            "description_tooltip": null,
            "_model_module": "@jupyter-widgets/controls",
            "layout": "IPY_MODEL_a054d97b2825430d95616022844f3eb0"
          }
        },
        "e75cefa70d98482395aa2753f66c34f7": {
          "model_module": "@jupyter-widgets/controls",
          "model_name": "FloatProgressModel",
          "model_module_version": "1.5.0",
          "state": {
            "_view_name": "ProgressView",
            "style": "IPY_MODEL_28be110432de4c4b90b7be6defab01b3",
            "_dom_classes": [],
            "description": "",
            "_model_name": "FloatProgressModel",
            "bar_style": "success",
            "max": 109540,
            "_view_module": "@jupyter-widgets/controls",
            "_model_module_version": "1.5.0",
            "value": 109540,
            "_view_count": null,
            "_view_module_version": "1.5.0",
            "orientation": "horizontal",
            "min": 0,
            "description_tooltip": null,
            "_model_module": "@jupyter-widgets/controls",
            "layout": "IPY_MODEL_3cfd36ed33604d72984c43956519f47f"
          }
        },
        "6f35ee578a054218b123f16acf2bdcaf": {
          "model_module": "@jupyter-widgets/controls",
          "model_name": "HTMLModel",
          "model_module_version": "1.5.0",
          "state": {
            "_view_name": "HTMLView",
            "style": "IPY_MODEL_aba086db96de4be98f3573d659d6e040",
            "_dom_classes": [],
            "description": "",
            "_model_name": "HTMLModel",
            "placeholder": "​",
            "_view_module": "@jupyter-widgets/controls",
            "_model_module_version": "1.5.0",
            "value": " 107k/107k [00:00&lt;00:00, 510kB/s]",
            "_view_count": null,
            "_view_module_version": "1.5.0",
            "description_tooltip": null,
            "_model_module": "@jupyter-widgets/controls",
            "layout": "IPY_MODEL_1594a880d84b485682ef0c84724a11a6"
          }
        },
        "bbe5123ae57e4a7691d9e3987ce9a4de": {
          "model_module": "@jupyter-widgets/controls",
          "model_name": "DescriptionStyleModel",
          "model_module_version": "1.5.0",
          "state": {
            "_view_name": "StyleView",
            "_model_name": "DescriptionStyleModel",
            "description_width": "",
            "_view_module": "@jupyter-widgets/base",
            "_model_module_version": "1.5.0",
            "_view_count": null,
            "_view_module_version": "1.2.0",
            "_model_module": "@jupyter-widgets/controls"
          }
        },
        "a054d97b2825430d95616022844f3eb0": {
          "model_module": "@jupyter-widgets/base",
          "model_name": "LayoutModel",
          "model_module_version": "1.2.0",
          "state": {
            "_view_name": "LayoutView",
            "grid_template_rows": null,
            "right": null,
            "justify_content": null,
            "_view_module": "@jupyter-widgets/base",
            "overflow": null,
            "_model_module_version": "1.2.0",
            "_view_count": null,
            "flex_flow": null,
            "width": null,
            "min_width": null,
            "border": null,
            "align_items": null,
            "bottom": null,
            "_model_module": "@jupyter-widgets/base",
            "top": null,
            "grid_column": null,
            "overflow_y": null,
            "overflow_x": null,
            "grid_auto_flow": null,
            "grid_area": null,
            "grid_template_columns": null,
            "flex": null,
            "_model_name": "LayoutModel",
            "justify_items": null,
            "grid_row": null,
            "max_height": null,
            "align_content": null,
            "visibility": null,
            "align_self": null,
            "height": null,
            "min_height": null,
            "padding": null,
            "grid_auto_rows": null,
            "grid_gap": null,
            "max_width": null,
            "order": null,
            "_view_module_version": "1.2.0",
            "grid_template_areas": null,
            "object_position": null,
            "object_fit": null,
            "grid_auto_columns": null,
            "margin": null,
            "display": null,
            "left": null
          }
        },
        "28be110432de4c4b90b7be6defab01b3": {
          "model_module": "@jupyter-widgets/controls",
          "model_name": "ProgressStyleModel",
          "model_module_version": "1.5.0",
          "state": {
            "_view_name": "StyleView",
            "_model_name": "ProgressStyleModel",
            "description_width": "",
            "_view_module": "@jupyter-widgets/base",
            "_model_module_version": "1.5.0",
            "_view_count": null,
            "_view_module_version": "1.2.0",
            "bar_color": null,
            "_model_module": "@jupyter-widgets/controls"
          }
        },
        "3cfd36ed33604d72984c43956519f47f": {
          "model_module": "@jupyter-widgets/base",
          "model_name": "LayoutModel",
          "model_module_version": "1.2.0",
          "state": {
            "_view_name": "LayoutView",
            "grid_template_rows": null,
            "right": null,
            "justify_content": null,
            "_view_module": "@jupyter-widgets/base",
            "overflow": null,
            "_model_module_version": "1.2.0",
            "_view_count": null,
            "flex_flow": null,
            "width": null,
            "min_width": null,
            "border": null,
            "align_items": null,
            "bottom": null,
            "_model_module": "@jupyter-widgets/base",
            "top": null,
            "grid_column": null,
            "overflow_y": null,
            "overflow_x": null,
            "grid_auto_flow": null,
            "grid_area": null,
            "grid_template_columns": null,
            "flex": null,
            "_model_name": "LayoutModel",
            "justify_items": null,
            "grid_row": null,
            "max_height": null,
            "align_content": null,
            "visibility": null,
            "align_self": null,
            "height": null,
            "min_height": null,
            "padding": null,
            "grid_auto_rows": null,
            "grid_gap": null,
            "max_width": null,
            "order": null,
            "_view_module_version": "1.2.0",
            "grid_template_areas": null,
            "object_position": null,
            "object_fit": null,
            "grid_auto_columns": null,
            "margin": null,
            "display": null,
            "left": null
          }
        },
        "aba086db96de4be98f3573d659d6e040": {
          "model_module": "@jupyter-widgets/controls",
          "model_name": "DescriptionStyleModel",
          "model_module_version": "1.5.0",
          "state": {
            "_view_name": "StyleView",
            "_model_name": "DescriptionStyleModel",
            "description_width": "",
            "_view_module": "@jupyter-widgets/base",
            "_model_module_version": "1.5.0",
            "_view_count": null,
            "_view_module_version": "1.2.0",
            "_model_module": "@jupyter-widgets/controls"
          }
        },
        "1594a880d84b485682ef0c84724a11a6": {
          "model_module": "@jupyter-widgets/base",
          "model_name": "LayoutModel",
          "model_module_version": "1.2.0",
          "state": {
            "_view_name": "LayoutView",
            "grid_template_rows": null,
            "right": null,
            "justify_content": null,
            "_view_module": "@jupyter-widgets/base",
            "overflow": null,
            "_model_module_version": "1.2.0",
            "_view_count": null,
            "flex_flow": null,
            "width": null,
            "min_width": null,
            "border": null,
            "align_items": null,
            "bottom": null,
            "_model_module": "@jupyter-widgets/base",
            "top": null,
            "grid_column": null,
            "overflow_y": null,
            "overflow_x": null,
            "grid_auto_flow": null,
            "grid_area": null,
            "grid_template_columns": null,
            "flex": null,
            "_model_name": "LayoutModel",
            "justify_items": null,
            "grid_row": null,
            "max_height": null,
            "align_content": null,
            "visibility": null,
            "align_self": null,
            "height": null,
            "min_height": null,
            "padding": null,
            "grid_auto_rows": null,
            "grid_gap": null,
            "max_width": null,
            "order": null,
            "_view_module_version": "1.2.0",
            "grid_template_areas": null,
            "object_position": null,
            "object_fit": null,
            "grid_auto_columns": null,
            "margin": null,
            "display": null,
            "left": null
          }
        },
        "613aa2a6fcca4c8a95dfd91f7daecfcf": {
          "model_module": "@jupyter-widgets/controls",
          "model_name": "HBoxModel",
          "model_module_version": "1.5.0",
          "state": {
            "_view_name": "HBoxView",
            "_dom_classes": [],
            "_model_name": "HBoxModel",
            "_view_module": "@jupyter-widgets/controls",
            "_model_module_version": "1.5.0",
            "_view_count": null,
            "_view_module_version": "1.5.0",
            "box_style": "",
            "layout": "IPY_MODEL_732e997a2917497798aa8ad38b1fe487",
            "_model_module": "@jupyter-widgets/controls",
            "children": [
              "IPY_MODEL_dd71ec4c7cfa4a1580de566d70e69fdf",
              "IPY_MODEL_6a13d71f9b144df593e8994a6443002a",
              "IPY_MODEL_47483914a9024933b32350bfa7e1fe40"
            ]
          }
        },
        "732e997a2917497798aa8ad38b1fe487": {
          "model_module": "@jupyter-widgets/base",
          "model_name": "LayoutModel",
          "model_module_version": "1.2.0",
          "state": {
            "_view_name": "LayoutView",
            "grid_template_rows": null,
            "right": null,
            "justify_content": null,
            "_view_module": "@jupyter-widgets/base",
            "overflow": null,
            "_model_module_version": "1.2.0",
            "_view_count": null,
            "flex_flow": null,
            "width": null,
            "min_width": null,
            "border": null,
            "align_items": null,
            "bottom": null,
            "_model_module": "@jupyter-widgets/base",
            "top": null,
            "grid_column": null,
            "overflow_y": null,
            "overflow_x": null,
            "grid_auto_flow": null,
            "grid_area": null,
            "grid_template_columns": null,
            "flex": null,
            "_model_name": "LayoutModel",
            "justify_items": null,
            "grid_row": null,
            "max_height": null,
            "align_content": null,
            "visibility": null,
            "align_self": null,
            "height": null,
            "min_height": null,
            "padding": null,
            "grid_auto_rows": null,
            "grid_gap": null,
            "max_width": null,
            "order": null,
            "_view_module_version": "1.2.0",
            "grid_template_areas": null,
            "object_position": null,
            "object_fit": null,
            "grid_auto_columns": null,
            "margin": null,
            "display": null,
            "left": null
          }
        },
        "dd71ec4c7cfa4a1580de566d70e69fdf": {
          "model_module": "@jupyter-widgets/controls",
          "model_name": "HTMLModel",
          "model_module_version": "1.5.0",
          "state": {
            "_view_name": "HTMLView",
            "style": "IPY_MODEL_a47ff29a334b43f1ba356f1c50587553",
            "_dom_classes": [],
            "description": "",
            "_model_name": "HTMLModel",
            "placeholder": "​",
            "_view_module": "@jupyter-widgets/controls",
            "_model_module_version": "1.5.0",
            "value": "Downloading: 100%",
            "_view_count": null,
            "_view_module_version": "1.5.0",
            "description_tooltip": null,
            "_model_module": "@jupyter-widgets/controls",
            "layout": "IPY_MODEL_f7cccf6c13754da5873e67aa97b5e516"
          }
        },
        "6a13d71f9b144df593e8994a6443002a": {
          "model_module": "@jupyter-widgets/controls",
          "model_name": "FloatProgressModel",
          "model_module_version": "1.5.0",
          "state": {
            "_view_name": "ProgressView",
            "style": "IPY_MODEL_4af4eb7203604e149f6fc48f90379dbd",
            "_dom_classes": [],
            "description": "",
            "_model_name": "FloatProgressModel",
            "bar_style": "success",
            "max": 29,
            "_view_module": "@jupyter-widgets/controls",
            "_model_module_version": "1.5.0",
            "value": 29,
            "_view_count": null,
            "_view_module_version": "1.5.0",
            "orientation": "horizontal",
            "min": 0,
            "description_tooltip": null,
            "_model_module": "@jupyter-widgets/controls",
            "layout": "IPY_MODEL_7cb60259962d4c6185133d67d9581faf"
          }
        },
        "47483914a9024933b32350bfa7e1fe40": {
          "model_module": "@jupyter-widgets/controls",
          "model_name": "HTMLModel",
          "model_module_version": "1.5.0",
          "state": {
            "_view_name": "HTMLView",
            "style": "IPY_MODEL_8fe88c0c73f34828af759546129a8f8e",
            "_dom_classes": [],
            "description": "",
            "_model_name": "HTMLModel",
            "placeholder": "​",
            "_view_module": "@jupyter-widgets/controls",
            "_model_module_version": "1.5.0",
            "value": " 29.0/29.0 [00:00&lt;00:00, 1.01kB/s]",
            "_view_count": null,
            "_view_module_version": "1.5.0",
            "description_tooltip": null,
            "_model_module": "@jupyter-widgets/controls",
            "layout": "IPY_MODEL_1dfd66bbb29540fd8f9442a0281e7b7c"
          }
        },
        "a47ff29a334b43f1ba356f1c50587553": {
          "model_module": "@jupyter-widgets/controls",
          "model_name": "DescriptionStyleModel",
          "model_module_version": "1.5.0",
          "state": {
            "_view_name": "StyleView",
            "_model_name": "DescriptionStyleModel",
            "description_width": "",
            "_view_module": "@jupyter-widgets/base",
            "_model_module_version": "1.5.0",
            "_view_count": null,
            "_view_module_version": "1.2.0",
            "_model_module": "@jupyter-widgets/controls"
          }
        },
        "f7cccf6c13754da5873e67aa97b5e516": {
          "model_module": "@jupyter-widgets/base",
          "model_name": "LayoutModel",
          "model_module_version": "1.2.0",
          "state": {
            "_view_name": "LayoutView",
            "grid_template_rows": null,
            "right": null,
            "justify_content": null,
            "_view_module": "@jupyter-widgets/base",
            "overflow": null,
            "_model_module_version": "1.2.0",
            "_view_count": null,
            "flex_flow": null,
            "width": null,
            "min_width": null,
            "border": null,
            "align_items": null,
            "bottom": null,
            "_model_module": "@jupyter-widgets/base",
            "top": null,
            "grid_column": null,
            "overflow_y": null,
            "overflow_x": null,
            "grid_auto_flow": null,
            "grid_area": null,
            "grid_template_columns": null,
            "flex": null,
            "_model_name": "LayoutModel",
            "justify_items": null,
            "grid_row": null,
            "max_height": null,
            "align_content": null,
            "visibility": null,
            "align_self": null,
            "height": null,
            "min_height": null,
            "padding": null,
            "grid_auto_rows": null,
            "grid_gap": null,
            "max_width": null,
            "order": null,
            "_view_module_version": "1.2.0",
            "grid_template_areas": null,
            "object_position": null,
            "object_fit": null,
            "grid_auto_columns": null,
            "margin": null,
            "display": null,
            "left": null
          }
        },
        "4af4eb7203604e149f6fc48f90379dbd": {
          "model_module": "@jupyter-widgets/controls",
          "model_name": "ProgressStyleModel",
          "model_module_version": "1.5.0",
          "state": {
            "_view_name": "StyleView",
            "_model_name": "ProgressStyleModel",
            "description_width": "",
            "_view_module": "@jupyter-widgets/base",
            "_model_module_version": "1.5.0",
            "_view_count": null,
            "_view_module_version": "1.2.0",
            "bar_color": null,
            "_model_module": "@jupyter-widgets/controls"
          }
        },
        "7cb60259962d4c6185133d67d9581faf": {
          "model_module": "@jupyter-widgets/base",
          "model_name": "LayoutModel",
          "model_module_version": "1.2.0",
          "state": {
            "_view_name": "LayoutView",
            "grid_template_rows": null,
            "right": null,
            "justify_content": null,
            "_view_module": "@jupyter-widgets/base",
            "overflow": null,
            "_model_module_version": "1.2.0",
            "_view_count": null,
            "flex_flow": null,
            "width": null,
            "min_width": null,
            "border": null,
            "align_items": null,
            "bottom": null,
            "_model_module": "@jupyter-widgets/base",
            "top": null,
            "grid_column": null,
            "overflow_y": null,
            "overflow_x": null,
            "grid_auto_flow": null,
            "grid_area": null,
            "grid_template_columns": null,
            "flex": null,
            "_model_name": "LayoutModel",
            "justify_items": null,
            "grid_row": null,
            "max_height": null,
            "align_content": null,
            "visibility": null,
            "align_self": null,
            "height": null,
            "min_height": null,
            "padding": null,
            "grid_auto_rows": null,
            "grid_gap": null,
            "max_width": null,
            "order": null,
            "_view_module_version": "1.2.0",
            "grid_template_areas": null,
            "object_position": null,
            "object_fit": null,
            "grid_auto_columns": null,
            "margin": null,
            "display": null,
            "left": null
          }
        },
        "8fe88c0c73f34828af759546129a8f8e": {
          "model_module": "@jupyter-widgets/controls",
          "model_name": "DescriptionStyleModel",
          "model_module_version": "1.5.0",
          "state": {
            "_view_name": "StyleView",
            "_model_name": "DescriptionStyleModel",
            "description_width": "",
            "_view_module": "@jupyter-widgets/base",
            "_model_module_version": "1.5.0",
            "_view_count": null,
            "_view_module_version": "1.2.0",
            "_model_module": "@jupyter-widgets/controls"
          }
        },
        "1dfd66bbb29540fd8f9442a0281e7b7c": {
          "model_module": "@jupyter-widgets/base",
          "model_name": "LayoutModel",
          "model_module_version": "1.2.0",
          "state": {
            "_view_name": "LayoutView",
            "grid_template_rows": null,
            "right": null,
            "justify_content": null,
            "_view_module": "@jupyter-widgets/base",
            "overflow": null,
            "_model_module_version": "1.2.0",
            "_view_count": null,
            "flex_flow": null,
            "width": null,
            "min_width": null,
            "border": null,
            "align_items": null,
            "bottom": null,
            "_model_module": "@jupyter-widgets/base",
            "top": null,
            "grid_column": null,
            "overflow_y": null,
            "overflow_x": null,
            "grid_auto_flow": null,
            "grid_area": null,
            "grid_template_columns": null,
            "flex": null,
            "_model_name": "LayoutModel",
            "justify_items": null,
            "grid_row": null,
            "max_height": null,
            "align_content": null,
            "visibility": null,
            "align_self": null,
            "height": null,
            "min_height": null,
            "padding": null,
            "grid_auto_rows": null,
            "grid_gap": null,
            "max_width": null,
            "order": null,
            "_view_module_version": "1.2.0",
            "grid_template_areas": null,
            "object_position": null,
            "object_fit": null,
            "grid_auto_columns": null,
            "margin": null,
            "display": null,
            "left": null
          }
        },
        "fbf43610b7ea433e917930553e668b2f": {
          "model_module": "@jupyter-widgets/controls",
          "model_name": "HBoxModel",
          "model_module_version": "1.5.0",
          "state": {
            "_view_name": "HBoxView",
            "_dom_classes": [],
            "_model_name": "HBoxModel",
            "_view_module": "@jupyter-widgets/controls",
            "_model_module_version": "1.5.0",
            "_view_count": null,
            "_view_module_version": "1.5.0",
            "box_style": "",
            "layout": "IPY_MODEL_42520e66037e428b98f19d7d70b9e1a3",
            "_model_module": "@jupyter-widgets/controls",
            "children": [
              "IPY_MODEL_4b165eb439cb4dd79517c23da5a60889",
              "IPY_MODEL_01115c7353844a2ea3633b3e586b25a0",
              "IPY_MODEL_260b8a4ce1d64edcb2c75e7fcc8a5d8d"
            ]
          }
        },
        "42520e66037e428b98f19d7d70b9e1a3": {
          "model_module": "@jupyter-widgets/base",
          "model_name": "LayoutModel",
          "model_module_version": "1.2.0",
          "state": {
            "_view_name": "LayoutView",
            "grid_template_rows": null,
            "right": null,
            "justify_content": null,
            "_view_module": "@jupyter-widgets/base",
            "overflow": null,
            "_model_module_version": "1.2.0",
            "_view_count": null,
            "flex_flow": null,
            "width": null,
            "min_width": null,
            "border": null,
            "align_items": null,
            "bottom": null,
            "_model_module": "@jupyter-widgets/base",
            "top": null,
            "grid_column": null,
            "overflow_y": null,
            "overflow_x": null,
            "grid_auto_flow": null,
            "grid_area": null,
            "grid_template_columns": null,
            "flex": null,
            "_model_name": "LayoutModel",
            "justify_items": null,
            "grid_row": null,
            "max_height": null,
            "align_content": null,
            "visibility": null,
            "align_self": null,
            "height": null,
            "min_height": null,
            "padding": null,
            "grid_auto_rows": null,
            "grid_gap": null,
            "max_width": null,
            "order": null,
            "_view_module_version": "1.2.0",
            "grid_template_areas": null,
            "object_position": null,
            "object_fit": null,
            "grid_auto_columns": null,
            "margin": null,
            "display": null,
            "left": null
          }
        },
        "4b165eb439cb4dd79517c23da5a60889": {
          "model_module": "@jupyter-widgets/controls",
          "model_name": "HTMLModel",
          "model_module_version": "1.5.0",
          "state": {
            "_view_name": "HTMLView",
            "style": "IPY_MODEL_d0d1f5eb1c0e4296bcaf723b2d2cd389",
            "_dom_classes": [],
            "description": "",
            "_model_name": "HTMLModel",
            "placeholder": "​",
            "_view_module": "@jupyter-widgets/controls",
            "_model_module_version": "1.5.0",
            "value": "Downloading: 100%",
            "_view_count": null,
            "_view_module_version": "1.5.0",
            "description_tooltip": null,
            "_model_module": "@jupyter-widgets/controls",
            "layout": "IPY_MODEL_df820e34f99e4608b99e12e7e868340c"
          }
        },
        "01115c7353844a2ea3633b3e586b25a0": {
          "model_module": "@jupyter-widgets/controls",
          "model_name": "FloatProgressModel",
          "model_module_version": "1.5.0",
          "state": {
            "_view_name": "ProgressView",
            "style": "IPY_MODEL_09a701c39be44e35939834c3d6d27093",
            "_dom_classes": [],
            "description": "",
            "_model_name": "FloatProgressModel",
            "bar_style": "success",
            "max": 268943,
            "_view_module": "@jupyter-widgets/controls",
            "_model_module_version": "1.5.0",
            "value": 268943,
            "_view_count": null,
            "_view_module_version": "1.5.0",
            "orientation": "horizontal",
            "min": 0,
            "description_tooltip": null,
            "_model_module": "@jupyter-widgets/controls",
            "layout": "IPY_MODEL_ef81bb13a36a4504b773f5c1111d9146"
          }
        },
        "260b8a4ce1d64edcb2c75e7fcc8a5d8d": {
          "model_module": "@jupyter-widgets/controls",
          "model_name": "HTMLModel",
          "model_module_version": "1.5.0",
          "state": {
            "_view_name": "HTMLView",
            "style": "IPY_MODEL_b79744c1a2e24c878bf1572444feb995",
            "_dom_classes": [],
            "description": "",
            "_model_name": "HTMLModel",
            "placeholder": "​",
            "_view_module": "@jupyter-widgets/controls",
            "_model_module_version": "1.5.0",
            "value": " 263k/263k [00:00&lt;00:00, 625kB/s]",
            "_view_count": null,
            "_view_module_version": "1.5.0",
            "description_tooltip": null,
            "_model_module": "@jupyter-widgets/controls",
            "layout": "IPY_MODEL_13b424c1d37346fea9bde43181833a1a"
          }
        },
        "d0d1f5eb1c0e4296bcaf723b2d2cd389": {
          "model_module": "@jupyter-widgets/controls",
          "model_name": "DescriptionStyleModel",
          "model_module_version": "1.5.0",
          "state": {
            "_view_name": "StyleView",
            "_model_name": "DescriptionStyleModel",
            "description_width": "",
            "_view_module": "@jupyter-widgets/base",
            "_model_module_version": "1.5.0",
            "_view_count": null,
            "_view_module_version": "1.2.0",
            "_model_module": "@jupyter-widgets/controls"
          }
        },
        "df820e34f99e4608b99e12e7e868340c": {
          "model_module": "@jupyter-widgets/base",
          "model_name": "LayoutModel",
          "model_module_version": "1.2.0",
          "state": {
            "_view_name": "LayoutView",
            "grid_template_rows": null,
            "right": null,
            "justify_content": null,
            "_view_module": "@jupyter-widgets/base",
            "overflow": null,
            "_model_module_version": "1.2.0",
            "_view_count": null,
            "flex_flow": null,
            "width": null,
            "min_width": null,
            "border": null,
            "align_items": null,
            "bottom": null,
            "_model_module": "@jupyter-widgets/base",
            "top": null,
            "grid_column": null,
            "overflow_y": null,
            "overflow_x": null,
            "grid_auto_flow": null,
            "grid_area": null,
            "grid_template_columns": null,
            "flex": null,
            "_model_name": "LayoutModel",
            "justify_items": null,
            "grid_row": null,
            "max_height": null,
            "align_content": null,
            "visibility": null,
            "align_self": null,
            "height": null,
            "min_height": null,
            "padding": null,
            "grid_auto_rows": null,
            "grid_gap": null,
            "max_width": null,
            "order": null,
            "_view_module_version": "1.2.0",
            "grid_template_areas": null,
            "object_position": null,
            "object_fit": null,
            "grid_auto_columns": null,
            "margin": null,
            "display": null,
            "left": null
          }
        },
        "09a701c39be44e35939834c3d6d27093": {
          "model_module": "@jupyter-widgets/controls",
          "model_name": "ProgressStyleModel",
          "model_module_version": "1.5.0",
          "state": {
            "_view_name": "StyleView",
            "_model_name": "ProgressStyleModel",
            "description_width": "",
            "_view_module": "@jupyter-widgets/base",
            "_model_module_version": "1.5.0",
            "_view_count": null,
            "_view_module_version": "1.2.0",
            "bar_color": null,
            "_model_module": "@jupyter-widgets/controls"
          }
        },
        "ef81bb13a36a4504b773f5c1111d9146": {
          "model_module": "@jupyter-widgets/base",
          "model_name": "LayoutModel",
          "model_module_version": "1.2.0",
          "state": {
            "_view_name": "LayoutView",
            "grid_template_rows": null,
            "right": null,
            "justify_content": null,
            "_view_module": "@jupyter-widgets/base",
            "overflow": null,
            "_model_module_version": "1.2.0",
            "_view_count": null,
            "flex_flow": null,
            "width": null,
            "min_width": null,
            "border": null,
            "align_items": null,
            "bottom": null,
            "_model_module": "@jupyter-widgets/base",
            "top": null,
            "grid_column": null,
            "overflow_y": null,
            "overflow_x": null,
            "grid_auto_flow": null,
            "grid_area": null,
            "grid_template_columns": null,
            "flex": null,
            "_model_name": "LayoutModel",
            "justify_items": null,
            "grid_row": null,
            "max_height": null,
            "align_content": null,
            "visibility": null,
            "align_self": null,
            "height": null,
            "min_height": null,
            "padding": null,
            "grid_auto_rows": null,
            "grid_gap": null,
            "max_width": null,
            "order": null,
            "_view_module_version": "1.2.0",
            "grid_template_areas": null,
            "object_position": null,
            "object_fit": null,
            "grid_auto_columns": null,
            "margin": null,
            "display": null,
            "left": null
          }
        },
        "b79744c1a2e24c878bf1572444feb995": {
          "model_module": "@jupyter-widgets/controls",
          "model_name": "DescriptionStyleModel",
          "model_module_version": "1.5.0",
          "state": {
            "_view_name": "StyleView",
            "_model_name": "DescriptionStyleModel",
            "description_width": "",
            "_view_module": "@jupyter-widgets/base",
            "_model_module_version": "1.5.0",
            "_view_count": null,
            "_view_module_version": "1.2.0",
            "_model_module": "@jupyter-widgets/controls"
          }
        },
        "13b424c1d37346fea9bde43181833a1a": {
          "model_module": "@jupyter-widgets/base",
          "model_name": "LayoutModel",
          "model_module_version": "1.2.0",
          "state": {
            "_view_name": "LayoutView",
            "grid_template_rows": null,
            "right": null,
            "justify_content": null,
            "_view_module": "@jupyter-widgets/base",
            "overflow": null,
            "_model_module_version": "1.2.0",
            "_view_count": null,
            "flex_flow": null,
            "width": null,
            "min_width": null,
            "border": null,
            "align_items": null,
            "bottom": null,
            "_model_module": "@jupyter-widgets/base",
            "top": null,
            "grid_column": null,
            "overflow_y": null,
            "overflow_x": null,
            "grid_auto_flow": null,
            "grid_area": null,
            "grid_template_columns": null,
            "flex": null,
            "_model_name": "LayoutModel",
            "justify_items": null,
            "grid_row": null,
            "max_height": null,
            "align_content": null,
            "visibility": null,
            "align_self": null,
            "height": null,
            "min_height": null,
            "padding": null,
            "grid_auto_rows": null,
            "grid_gap": null,
            "max_width": null,
            "order": null,
            "_view_module_version": "1.2.0",
            "grid_template_areas": null,
            "object_position": null,
            "object_fit": null,
            "grid_auto_columns": null,
            "margin": null,
            "display": null,
            "left": null
          }
        },
        "9fba202124fe4062bfe37fb36a475ddc": {
          "model_module": "@jupyter-widgets/controls",
          "model_name": "HBoxModel",
          "model_module_version": "1.5.0",
          "state": {
            "_view_name": "HBoxView",
            "_dom_classes": [],
            "_model_name": "HBoxModel",
            "_view_module": "@jupyter-widgets/controls",
            "_model_module_version": "1.5.0",
            "_view_count": null,
            "_view_module_version": "1.5.0",
            "box_style": "",
            "layout": "IPY_MODEL_0df66c0af9cf48f2b86912132a64cb9b",
            "_model_module": "@jupyter-widgets/controls",
            "children": [
              "IPY_MODEL_8130d7cf60d8483bbc4e5fdab96896d1",
              "IPY_MODEL_46c9b7cf06dc4533ae9683e6403d4d0d",
              "IPY_MODEL_1c0392e0045147d99ad9395b29df8363"
            ]
          }
        },
        "0df66c0af9cf48f2b86912132a64cb9b": {
          "model_module": "@jupyter-widgets/base",
          "model_name": "LayoutModel",
          "model_module_version": "1.2.0",
          "state": {
            "_view_name": "LayoutView",
            "grid_template_rows": null,
            "right": null,
            "justify_content": null,
            "_view_module": "@jupyter-widgets/base",
            "overflow": null,
            "_model_module_version": "1.2.0",
            "_view_count": null,
            "flex_flow": null,
            "width": null,
            "min_width": null,
            "border": null,
            "align_items": null,
            "bottom": null,
            "_model_module": "@jupyter-widgets/base",
            "top": null,
            "grid_column": null,
            "overflow_y": null,
            "overflow_x": null,
            "grid_auto_flow": null,
            "grid_area": null,
            "grid_template_columns": null,
            "flex": null,
            "_model_name": "LayoutModel",
            "justify_items": null,
            "grid_row": null,
            "max_height": null,
            "align_content": null,
            "visibility": null,
            "align_self": null,
            "height": null,
            "min_height": null,
            "padding": null,
            "grid_auto_rows": null,
            "grid_gap": null,
            "max_width": null,
            "order": null,
            "_view_module_version": "1.2.0",
            "grid_template_areas": null,
            "object_position": null,
            "object_fit": null,
            "grid_auto_columns": null,
            "margin": null,
            "display": null,
            "left": null
          }
        },
        "8130d7cf60d8483bbc4e5fdab96896d1": {
          "model_module": "@jupyter-widgets/controls",
          "model_name": "HTMLModel",
          "model_module_version": "1.5.0",
          "state": {
            "_view_name": "HTMLView",
            "style": "IPY_MODEL_a0325daba1854dfa882395606c96db2a",
            "_dom_classes": [],
            "description": "",
            "_model_name": "HTMLModel",
            "placeholder": "​",
            "_view_module": "@jupyter-widgets/controls",
            "_model_module_version": "1.5.0",
            "value": "Downloading: 100%",
            "_view_count": null,
            "_view_module_version": "1.5.0",
            "description_tooltip": null,
            "_model_module": "@jupyter-widgets/controls",
            "layout": "IPY_MODEL_0333d4376c984a0d9f3915b6abc25285"
          }
        },
        "46c9b7cf06dc4533ae9683e6403d4d0d": {
          "model_module": "@jupyter-widgets/controls",
          "model_name": "FloatProgressModel",
          "model_module_version": "1.5.0",
          "state": {
            "_view_name": "ProgressView",
            "style": "IPY_MODEL_fc32974bfa694d5a81f9ba8540e73d34",
            "_dom_classes": [],
            "description": "",
            "_model_name": "FloatProgressModel",
            "bar_style": "success",
            "max": 624,
            "_view_module": "@jupyter-widgets/controls",
            "_model_module_version": "1.5.0",
            "value": 624,
            "_view_count": null,
            "_view_module_version": "1.5.0",
            "orientation": "horizontal",
            "min": 0,
            "description_tooltip": null,
            "_model_module": "@jupyter-widgets/controls",
            "layout": "IPY_MODEL_57e66c09caa54d81bd7d18888328a835"
          }
        },
        "1c0392e0045147d99ad9395b29df8363": {
          "model_module": "@jupyter-widgets/controls",
          "model_name": "HTMLModel",
          "model_module_version": "1.5.0",
          "state": {
            "_view_name": "HTMLView",
            "style": "IPY_MODEL_da068692ad0247b2ae15961425bc1b4c",
            "_dom_classes": [],
            "description": "",
            "_model_name": "HTMLModel",
            "placeholder": "​",
            "_view_module": "@jupyter-widgets/controls",
            "_model_module_version": "1.5.0",
            "value": " 624/624 [00:00&lt;00:00, 17.5kB/s]",
            "_view_count": null,
            "_view_module_version": "1.5.0",
            "description_tooltip": null,
            "_model_module": "@jupyter-widgets/controls",
            "layout": "IPY_MODEL_2c3839994947459fafc71b97e047c7a9"
          }
        },
        "a0325daba1854dfa882395606c96db2a": {
          "model_module": "@jupyter-widgets/controls",
          "model_name": "DescriptionStyleModel",
          "model_module_version": "1.5.0",
          "state": {
            "_view_name": "StyleView",
            "_model_name": "DescriptionStyleModel",
            "description_width": "",
            "_view_module": "@jupyter-widgets/base",
            "_model_module_version": "1.5.0",
            "_view_count": null,
            "_view_module_version": "1.2.0",
            "_model_module": "@jupyter-widgets/controls"
          }
        },
        "0333d4376c984a0d9f3915b6abc25285": {
          "model_module": "@jupyter-widgets/base",
          "model_name": "LayoutModel",
          "model_module_version": "1.2.0",
          "state": {
            "_view_name": "LayoutView",
            "grid_template_rows": null,
            "right": null,
            "justify_content": null,
            "_view_module": "@jupyter-widgets/base",
            "overflow": null,
            "_model_module_version": "1.2.0",
            "_view_count": null,
            "flex_flow": null,
            "width": null,
            "min_width": null,
            "border": null,
            "align_items": null,
            "bottom": null,
            "_model_module": "@jupyter-widgets/base",
            "top": null,
            "grid_column": null,
            "overflow_y": null,
            "overflow_x": null,
            "grid_auto_flow": null,
            "grid_area": null,
            "grid_template_columns": null,
            "flex": null,
            "_model_name": "LayoutModel",
            "justify_items": null,
            "grid_row": null,
            "max_height": null,
            "align_content": null,
            "visibility": null,
            "align_self": null,
            "height": null,
            "min_height": null,
            "padding": null,
            "grid_auto_rows": null,
            "grid_gap": null,
            "max_width": null,
            "order": null,
            "_view_module_version": "1.2.0",
            "grid_template_areas": null,
            "object_position": null,
            "object_fit": null,
            "grid_auto_columns": null,
            "margin": null,
            "display": null,
            "left": null
          }
        },
        "fc32974bfa694d5a81f9ba8540e73d34": {
          "model_module": "@jupyter-widgets/controls",
          "model_name": "ProgressStyleModel",
          "model_module_version": "1.5.0",
          "state": {
            "_view_name": "StyleView",
            "_model_name": "ProgressStyleModel",
            "description_width": "",
            "_view_module": "@jupyter-widgets/base",
            "_model_module_version": "1.5.0",
            "_view_count": null,
            "_view_module_version": "1.2.0",
            "bar_color": null,
            "_model_module": "@jupyter-widgets/controls"
          }
        },
        "57e66c09caa54d81bd7d18888328a835": {
          "model_module": "@jupyter-widgets/base",
          "model_name": "LayoutModel",
          "model_module_version": "1.2.0",
          "state": {
            "_view_name": "LayoutView",
            "grid_template_rows": null,
            "right": null,
            "justify_content": null,
            "_view_module": "@jupyter-widgets/base",
            "overflow": null,
            "_model_module_version": "1.2.0",
            "_view_count": null,
            "flex_flow": null,
            "width": null,
            "min_width": null,
            "border": null,
            "align_items": null,
            "bottom": null,
            "_model_module": "@jupyter-widgets/base",
            "top": null,
            "grid_column": null,
            "overflow_y": null,
            "overflow_x": null,
            "grid_auto_flow": null,
            "grid_area": null,
            "grid_template_columns": null,
            "flex": null,
            "_model_name": "LayoutModel",
            "justify_items": null,
            "grid_row": null,
            "max_height": null,
            "align_content": null,
            "visibility": null,
            "align_self": null,
            "height": null,
            "min_height": null,
            "padding": null,
            "grid_auto_rows": null,
            "grid_gap": null,
            "max_width": null,
            "order": null,
            "_view_module_version": "1.2.0",
            "grid_template_areas": null,
            "object_position": null,
            "object_fit": null,
            "grid_auto_columns": null,
            "margin": null,
            "display": null,
            "left": null
          }
        },
        "da068692ad0247b2ae15961425bc1b4c": {
          "model_module": "@jupyter-widgets/controls",
          "model_name": "DescriptionStyleModel",
          "model_module_version": "1.5.0",
          "state": {
            "_view_name": "StyleView",
            "_model_name": "DescriptionStyleModel",
            "description_width": "",
            "_view_module": "@jupyter-widgets/base",
            "_model_module_version": "1.5.0",
            "_view_count": null,
            "_view_module_version": "1.2.0",
            "_model_module": "@jupyter-widgets/controls"
          }
        },
        "2c3839994947459fafc71b97e047c7a9": {
          "model_module": "@jupyter-widgets/base",
          "model_name": "LayoutModel",
          "model_module_version": "1.2.0",
          "state": {
            "_view_name": "LayoutView",
            "grid_template_rows": null,
            "right": null,
            "justify_content": null,
            "_view_module": "@jupyter-widgets/base",
            "overflow": null,
            "_model_module_version": "1.2.0",
            "_view_count": null,
            "flex_flow": null,
            "width": null,
            "min_width": null,
            "border": null,
            "align_items": null,
            "bottom": null,
            "_model_module": "@jupyter-widgets/base",
            "top": null,
            "grid_column": null,
            "overflow_y": null,
            "overflow_x": null,
            "grid_auto_flow": null,
            "grid_area": null,
            "grid_template_columns": null,
            "flex": null,
            "_model_name": "LayoutModel",
            "justify_items": null,
            "grid_row": null,
            "max_height": null,
            "align_content": null,
            "visibility": null,
            "align_self": null,
            "height": null,
            "min_height": null,
            "padding": null,
            "grid_auto_rows": null,
            "grid_gap": null,
            "max_width": null,
            "order": null,
            "_view_module_version": "1.2.0",
            "grid_template_areas": null,
            "object_position": null,
            "object_fit": null,
            "grid_auto_columns": null,
            "margin": null,
            "display": null,
            "left": null
          }
        },
        "1105d7c671ab4fa1a1a6ff8f4633bbe0": {
          "model_module": "@jupyter-widgets/controls",
          "model_name": "HBoxModel",
          "model_module_version": "1.5.0",
          "state": {
            "_view_name": "HBoxView",
            "_dom_classes": [],
            "_model_name": "HBoxModel",
            "_view_module": "@jupyter-widgets/controls",
            "_model_module_version": "1.5.0",
            "_view_count": null,
            "_view_module_version": "1.5.0",
            "box_style": "",
            "layout": "IPY_MODEL_fdb74c2a95a44532b97d03fdd1a8c702",
            "_model_module": "@jupyter-widgets/controls",
            "children": [
              "IPY_MODEL_7def30c7ff584e82b69826f5c695f78b",
              "IPY_MODEL_a7f69fe116d74d698f6223c67718afe7",
              "IPY_MODEL_2149db55e87b4a2d97f846703e9bac17"
            ]
          }
        },
        "fdb74c2a95a44532b97d03fdd1a8c702": {
          "model_module": "@jupyter-widgets/base",
          "model_name": "LayoutModel",
          "model_module_version": "1.2.0",
          "state": {
            "_view_name": "LayoutView",
            "grid_template_rows": null,
            "right": null,
            "justify_content": null,
            "_view_module": "@jupyter-widgets/base",
            "overflow": null,
            "_model_module_version": "1.2.0",
            "_view_count": null,
            "flex_flow": null,
            "width": null,
            "min_width": null,
            "border": null,
            "align_items": null,
            "bottom": null,
            "_model_module": "@jupyter-widgets/base",
            "top": null,
            "grid_column": null,
            "overflow_y": null,
            "overflow_x": null,
            "grid_auto_flow": null,
            "grid_area": null,
            "grid_template_columns": null,
            "flex": null,
            "_model_name": "LayoutModel",
            "justify_items": null,
            "grid_row": null,
            "max_height": null,
            "align_content": null,
            "visibility": null,
            "align_self": null,
            "height": null,
            "min_height": null,
            "padding": null,
            "grid_auto_rows": null,
            "grid_gap": null,
            "max_width": null,
            "order": null,
            "_view_module_version": "1.2.0",
            "grid_template_areas": null,
            "object_position": null,
            "object_fit": null,
            "grid_auto_columns": null,
            "margin": null,
            "display": null,
            "left": null
          }
        },
        "7def30c7ff584e82b69826f5c695f78b": {
          "model_module": "@jupyter-widgets/controls",
          "model_name": "HTMLModel",
          "model_module_version": "1.5.0",
          "state": {
            "_view_name": "HTMLView",
            "style": "IPY_MODEL_f22f970bd4cd450e9f75e066da670a9f",
            "_dom_classes": [],
            "description": "",
            "_model_name": "HTMLModel",
            "placeholder": "​",
            "_view_module": "@jupyter-widgets/controls",
            "_model_module_version": "1.5.0",
            "value": "Downloading: 100%",
            "_view_count": null,
            "_view_module_version": "1.5.0",
            "description_tooltip": null,
            "_model_module": "@jupyter-widgets/controls",
            "layout": "IPY_MODEL_651b628718ef4721bbc0165941b4fdff"
          }
        },
        "a7f69fe116d74d698f6223c67718afe7": {
          "model_module": "@jupyter-widgets/controls",
          "model_name": "FloatProgressModel",
          "model_module_version": "1.5.0",
          "state": {
            "_view_name": "ProgressView",
            "style": "IPY_MODEL_07ea33286f85459083f3844159d2e7e5",
            "_dom_classes": [],
            "description": "",
            "_model_name": "FloatProgressModel",
            "bar_style": "success",
            "max": 411577189,
            "_view_module": "@jupyter-widgets/controls",
            "_model_module_version": "1.5.0",
            "value": 411577189,
            "_view_count": null,
            "_view_module_version": "1.5.0",
            "orientation": "horizontal",
            "min": 0,
            "description_tooltip": null,
            "_model_module": "@jupyter-widgets/controls",
            "layout": "IPY_MODEL_dd9e8f3d831b4e8f8515fbe2aeb994b5"
          }
        },
        "2149db55e87b4a2d97f846703e9bac17": {
          "model_module": "@jupyter-widgets/controls",
          "model_name": "HTMLModel",
          "model_module_version": "1.5.0",
          "state": {
            "_view_name": "HTMLView",
            "style": "IPY_MODEL_d59a8d480eea4b719864a2119eb6e90f",
            "_dom_classes": [],
            "description": "",
            "_model_name": "HTMLModel",
            "placeholder": "​",
            "_view_module": "@jupyter-widgets/controls",
            "_model_module_version": "1.5.0",
            "value": " 393M/393M [00:08&lt;00:00, 47.5MB/s]",
            "_view_count": null,
            "_view_module_version": "1.5.0",
            "description_tooltip": null,
            "_model_module": "@jupyter-widgets/controls",
            "layout": "IPY_MODEL_271141cebf134a97a34591d4e4814505"
          }
        },
        "f22f970bd4cd450e9f75e066da670a9f": {
          "model_module": "@jupyter-widgets/controls",
          "model_name": "DescriptionStyleModel",
          "model_module_version": "1.5.0",
          "state": {
            "_view_name": "StyleView",
            "_model_name": "DescriptionStyleModel",
            "description_width": "",
            "_view_module": "@jupyter-widgets/base",
            "_model_module_version": "1.5.0",
            "_view_count": null,
            "_view_module_version": "1.2.0",
            "_model_module": "@jupyter-widgets/controls"
          }
        },
        "651b628718ef4721bbc0165941b4fdff": {
          "model_module": "@jupyter-widgets/base",
          "model_name": "LayoutModel",
          "model_module_version": "1.2.0",
          "state": {
            "_view_name": "LayoutView",
            "grid_template_rows": null,
            "right": null,
            "justify_content": null,
            "_view_module": "@jupyter-widgets/base",
            "overflow": null,
            "_model_module_version": "1.2.0",
            "_view_count": null,
            "flex_flow": null,
            "width": null,
            "min_width": null,
            "border": null,
            "align_items": null,
            "bottom": null,
            "_model_module": "@jupyter-widgets/base",
            "top": null,
            "grid_column": null,
            "overflow_y": null,
            "overflow_x": null,
            "grid_auto_flow": null,
            "grid_area": null,
            "grid_template_columns": null,
            "flex": null,
            "_model_name": "LayoutModel",
            "justify_items": null,
            "grid_row": null,
            "max_height": null,
            "align_content": null,
            "visibility": null,
            "align_self": null,
            "height": null,
            "min_height": null,
            "padding": null,
            "grid_auto_rows": null,
            "grid_gap": null,
            "max_width": null,
            "order": null,
            "_view_module_version": "1.2.0",
            "grid_template_areas": null,
            "object_position": null,
            "object_fit": null,
            "grid_auto_columns": null,
            "margin": null,
            "display": null,
            "left": null
          }
        },
        "07ea33286f85459083f3844159d2e7e5": {
          "model_module": "@jupyter-widgets/controls",
          "model_name": "ProgressStyleModel",
          "model_module_version": "1.5.0",
          "state": {
            "_view_name": "StyleView",
            "_model_name": "ProgressStyleModel",
            "description_width": "",
            "_view_module": "@jupyter-widgets/base",
            "_model_module_version": "1.5.0",
            "_view_count": null,
            "_view_module_version": "1.2.0",
            "bar_color": null,
            "_model_module": "@jupyter-widgets/controls"
          }
        },
        "dd9e8f3d831b4e8f8515fbe2aeb994b5": {
          "model_module": "@jupyter-widgets/base",
          "model_name": "LayoutModel",
          "model_module_version": "1.2.0",
          "state": {
            "_view_name": "LayoutView",
            "grid_template_rows": null,
            "right": null,
            "justify_content": null,
            "_view_module": "@jupyter-widgets/base",
            "overflow": null,
            "_model_module_version": "1.2.0",
            "_view_count": null,
            "flex_flow": null,
            "width": null,
            "min_width": null,
            "border": null,
            "align_items": null,
            "bottom": null,
            "_model_module": "@jupyter-widgets/base",
            "top": null,
            "grid_column": null,
            "overflow_y": null,
            "overflow_x": null,
            "grid_auto_flow": null,
            "grid_area": null,
            "grid_template_columns": null,
            "flex": null,
            "_model_name": "LayoutModel",
            "justify_items": null,
            "grid_row": null,
            "max_height": null,
            "align_content": null,
            "visibility": null,
            "align_self": null,
            "height": null,
            "min_height": null,
            "padding": null,
            "grid_auto_rows": null,
            "grid_gap": null,
            "max_width": null,
            "order": null,
            "_view_module_version": "1.2.0",
            "grid_template_areas": null,
            "object_position": null,
            "object_fit": null,
            "grid_auto_columns": null,
            "margin": null,
            "display": null,
            "left": null
          }
        },
        "d59a8d480eea4b719864a2119eb6e90f": {
          "model_module": "@jupyter-widgets/controls",
          "model_name": "DescriptionStyleModel",
          "model_module_version": "1.5.0",
          "state": {
            "_view_name": "StyleView",
            "_model_name": "DescriptionStyleModel",
            "description_width": "",
            "_view_module": "@jupyter-widgets/base",
            "_model_module_version": "1.5.0",
            "_view_count": null,
            "_view_module_version": "1.2.0",
            "_model_module": "@jupyter-widgets/controls"
          }
        },
        "271141cebf134a97a34591d4e4814505": {
          "model_module": "@jupyter-widgets/base",
          "model_name": "LayoutModel",
          "model_module_version": "1.2.0",
          "state": {
            "_view_name": "LayoutView",
            "grid_template_rows": null,
            "right": null,
            "justify_content": null,
            "_view_module": "@jupyter-widgets/base",
            "overflow": null,
            "_model_module_version": "1.2.0",
            "_view_count": null,
            "flex_flow": null,
            "width": null,
            "min_width": null,
            "border": null,
            "align_items": null,
            "bottom": null,
            "_model_module": "@jupyter-widgets/base",
            "top": null,
            "grid_column": null,
            "overflow_y": null,
            "overflow_x": null,
            "grid_auto_flow": null,
            "grid_area": null,
            "grid_template_columns": null,
            "flex": null,
            "_model_name": "LayoutModel",
            "justify_items": null,
            "grid_row": null,
            "max_height": null,
            "align_content": null,
            "visibility": null,
            "align_self": null,
            "height": null,
            "min_height": null,
            "padding": null,
            "grid_auto_rows": null,
            "grid_gap": null,
            "max_width": null,
            "order": null,
            "_view_module_version": "1.2.0",
            "grid_template_areas": null,
            "object_position": null,
            "object_fit": null,
            "grid_auto_columns": null,
            "margin": null,
            "display": null,
            "left": null
          }
        }
      }
    }
  },
  "cells": [
    {
      "cell_type": "code",
      "metadata": {
        "id": "ob0-PFrbFugx"
      },
      "source": [
        "import numpy as np\n",
        "import pandas as pd \n",
        "import matplotlib.pyplot as plt\n",
        "import torch\n",
        "import torch.optim as optim\n",
        "import torch.nn as nn\n",
        "import warnings\n",
        "warnings.filterwarnings(\"ignore\")\n",
        "%matplotlib inline\n",
        "from torch.utils.data import TensorDataset\n",
        "from torch.utils.data import DataLoader, Dataset \n",
        "import matplotlib.dates as mdates\n",
        "import json"
      ],
      "execution_count": null,
      "outputs": []
    },
    {
      "cell_type": "code",
      "metadata": {
        "colab": {
          "base_uri": "https://localhost:8080/"
        },
        "id": "q0wvhP_pvMW7",
        "outputId": "c51bf6a7-46e8-43c3-a91c-a28f38428a8a"
      },
      "source": [
        "!pip install transformers==4.5.1"
      ],
      "execution_count": null,
      "outputs": [
        {
          "output_type": "stream",
          "name": "stdout",
          "text": [
            "Collecting transformers==4.5.1\n",
            "  Downloading transformers-4.5.1-py3-none-any.whl (2.1 MB)\n",
            "\u001b[K     |████████████████████████████████| 2.1 MB 15.6 MB/s \n",
            "\u001b[?25hRequirement already satisfied: packaging in /usr/local/lib/python3.7/dist-packages (from transformers==4.5.1) (21.2)\n",
            "Requirement already satisfied: importlib-metadata in /usr/local/lib/python3.7/dist-packages (from transformers==4.5.1) (4.8.1)\n",
            "Requirement already satisfied: filelock in /usr/local/lib/python3.7/dist-packages (from transformers==4.5.1) (3.3.2)\n",
            "Requirement already satisfied: requests in /usr/local/lib/python3.7/dist-packages (from transformers==4.5.1) (2.23.0)\n",
            "Requirement already satisfied: tqdm>=4.27 in /usr/local/lib/python3.7/dist-packages (from transformers==4.5.1) (4.62.3)\n",
            "Requirement already satisfied: regex!=2019.12.17 in /usr/local/lib/python3.7/dist-packages (from transformers==4.5.1) (2019.12.20)\n",
            "Requirement already satisfied: numpy>=1.17 in /usr/local/lib/python3.7/dist-packages (from transformers==4.5.1) (1.19.5)\n",
            "Collecting sacremoses\n",
            "  Downloading sacremoses-0.0.46-py3-none-any.whl (895 kB)\n",
            "\u001b[K     |████████████████████████████████| 895 kB 62.4 MB/s \n",
            "\u001b[?25hCollecting tokenizers<0.11,>=0.10.1\n",
            "  Downloading tokenizers-0.10.3-cp37-cp37m-manylinux_2_5_x86_64.manylinux1_x86_64.manylinux_2_12_x86_64.manylinux2010_x86_64.whl (3.3 MB)\n",
            "\u001b[K     |████████████████████████████████| 3.3 MB 59.4 MB/s \n",
            "\u001b[?25hRequirement already satisfied: typing-extensions>=3.6.4 in /usr/local/lib/python3.7/dist-packages (from importlib-metadata->transformers==4.5.1) (3.10.0.2)\n",
            "Requirement already satisfied: zipp>=0.5 in /usr/local/lib/python3.7/dist-packages (from importlib-metadata->transformers==4.5.1) (3.6.0)\n",
            "Requirement already satisfied: pyparsing<3,>=2.0.2 in /usr/local/lib/python3.7/dist-packages (from packaging->transformers==4.5.1) (2.4.7)\n",
            "Requirement already satisfied: chardet<4,>=3.0.2 in /usr/local/lib/python3.7/dist-packages (from requests->transformers==4.5.1) (3.0.4)\n",
            "Requirement already satisfied: idna<3,>=2.5 in /usr/local/lib/python3.7/dist-packages (from requests->transformers==4.5.1) (2.10)\n",
            "Requirement already satisfied: certifi>=2017.4.17 in /usr/local/lib/python3.7/dist-packages (from requests->transformers==4.5.1) (2021.10.8)\n",
            "Requirement already satisfied: urllib3!=1.25.0,!=1.25.1,<1.26,>=1.21.1 in /usr/local/lib/python3.7/dist-packages (from requests->transformers==4.5.1) (1.24.3)\n",
            "Requirement already satisfied: click in /usr/local/lib/python3.7/dist-packages (from sacremoses->transformers==4.5.1) (7.1.2)\n",
            "Requirement already satisfied: joblib in /usr/local/lib/python3.7/dist-packages (from sacremoses->transformers==4.5.1) (1.1.0)\n",
            "Requirement already satisfied: six in /usr/local/lib/python3.7/dist-packages (from sacremoses->transformers==4.5.1) (1.15.0)\n",
            "Installing collected packages: tokenizers, sacremoses, transformers\n",
            "Successfully installed sacremoses-0.0.46 tokenizers-0.10.3 transformers-4.5.1\n"
          ]
        }
      ]
    },
    {
      "cell_type": "code",
      "metadata": {
        "colab": {
          "base_uri": "https://localhost:8080/"
        },
        "id": "krv-_2KTINy7",
        "outputId": "c5d1470a-a0d4-4e60-a1af-e0e093e8902b"
      },
      "source": [
        "pip install -U sentence-transformers  #安裝sentence-transformers"
      ],
      "execution_count": null,
      "outputs": [
        {
          "output_type": "stream",
          "name": "stdout",
          "text": [
            "Collecting sentence-transformers\n",
            "  Downloading sentence-transformers-2.1.0.tar.gz (78 kB)\n",
            "\u001b[K     |████████████████████████████████| 78 kB 6.5 MB/s \n",
            "\u001b[?25hCollecting transformers<5.0.0,>=4.6.0\n",
            "  Downloading transformers-4.12.3-py3-none-any.whl (3.1 MB)\n",
            "\u001b[K     |████████████████████████████████| 3.1 MB 33.1 MB/s \n",
            "\u001b[?25hRequirement already satisfied: tokenizers>=0.10.3 in /usr/local/lib/python3.7/dist-packages (from sentence-transformers) (0.10.3)\n",
            "Requirement already satisfied: tqdm in /usr/local/lib/python3.7/dist-packages (from sentence-transformers) (4.62.3)\n",
            "Requirement already satisfied: torch>=1.6.0 in /usr/local/lib/python3.7/dist-packages (from sentence-transformers) (1.9.0+cu111)\n",
            "Requirement already satisfied: torchvision in /usr/local/lib/python3.7/dist-packages (from sentence-transformers) (0.10.0+cu111)\n",
            "Requirement already satisfied: numpy in /usr/local/lib/python3.7/dist-packages (from sentence-transformers) (1.19.5)\n",
            "Requirement already satisfied: scikit-learn in /usr/local/lib/python3.7/dist-packages (from sentence-transformers) (0.22.2.post1)\n",
            "Requirement already satisfied: scipy in /usr/local/lib/python3.7/dist-packages (from sentence-transformers) (1.4.1)\n",
            "Requirement already satisfied: nltk in /usr/local/lib/python3.7/dist-packages (from sentence-transformers) (3.2.5)\n",
            "Collecting sentencepiece\n",
            "  Downloading sentencepiece-0.1.96-cp37-cp37m-manylinux_2_17_x86_64.manylinux2014_x86_64.whl (1.2 MB)\n",
            "\u001b[K     |████████████████████████████████| 1.2 MB 54.0 MB/s \n",
            "\u001b[?25hCollecting huggingface-hub\n",
            "  Downloading huggingface_hub-0.1.2-py3-none-any.whl (59 kB)\n",
            "\u001b[K     |████████████████████████████████| 59 kB 8.8 MB/s \n",
            "\u001b[?25hRequirement already satisfied: typing-extensions in /usr/local/lib/python3.7/dist-packages (from torch>=1.6.0->sentence-transformers) (3.10.0.2)\n",
            "Requirement already satisfied: requests in /usr/local/lib/python3.7/dist-packages (from transformers<5.0.0,>=4.6.0->sentence-transformers) (2.23.0)\n",
            "Requirement already satisfied: packaging>=20.0 in /usr/local/lib/python3.7/dist-packages (from transformers<5.0.0,>=4.6.0->sentence-transformers) (21.2)\n",
            "Requirement already satisfied: importlib-metadata in /usr/local/lib/python3.7/dist-packages (from transformers<5.0.0,>=4.6.0->sentence-transformers) (4.8.1)\n",
            "Requirement already satisfied: regex!=2019.12.17 in /usr/local/lib/python3.7/dist-packages (from transformers<5.0.0,>=4.6.0->sentence-transformers) (2019.12.20)\n",
            "Collecting pyyaml>=5.1\n",
            "  Downloading PyYAML-6.0-cp37-cp37m-manylinux_2_5_x86_64.manylinux1_x86_64.manylinux_2_12_x86_64.manylinux2010_x86_64.whl (596 kB)\n",
            "\u001b[K     |████████████████████████████████| 596 kB 69.3 MB/s \n",
            "\u001b[?25hRequirement already satisfied: filelock in /usr/local/lib/python3.7/dist-packages (from transformers<5.0.0,>=4.6.0->sentence-transformers) (3.3.2)\n",
            "Requirement already satisfied: sacremoses in /usr/local/lib/python3.7/dist-packages (from transformers<5.0.0,>=4.6.0->sentence-transformers) (0.0.46)\n",
            "Requirement already satisfied: pyparsing<3,>=2.0.2 in /usr/local/lib/python3.7/dist-packages (from packaging>=20.0->transformers<5.0.0,>=4.6.0->sentence-transformers) (2.4.7)\n",
            "Requirement already satisfied: zipp>=0.5 in /usr/local/lib/python3.7/dist-packages (from importlib-metadata->transformers<5.0.0,>=4.6.0->sentence-transformers) (3.6.0)\n",
            "Requirement already satisfied: six in /usr/local/lib/python3.7/dist-packages (from nltk->sentence-transformers) (1.15.0)\n",
            "Requirement already satisfied: urllib3!=1.25.0,!=1.25.1,<1.26,>=1.21.1 in /usr/local/lib/python3.7/dist-packages (from requests->transformers<5.0.0,>=4.6.0->sentence-transformers) (1.24.3)\n",
            "Requirement already satisfied: chardet<4,>=3.0.2 in /usr/local/lib/python3.7/dist-packages (from requests->transformers<5.0.0,>=4.6.0->sentence-transformers) (3.0.4)\n",
            "Requirement already satisfied: certifi>=2017.4.17 in /usr/local/lib/python3.7/dist-packages (from requests->transformers<5.0.0,>=4.6.0->sentence-transformers) (2021.10.8)\n",
            "Requirement already satisfied: idna<3,>=2.5 in /usr/local/lib/python3.7/dist-packages (from requests->transformers<5.0.0,>=4.6.0->sentence-transformers) (2.10)\n",
            "Requirement already satisfied: click in /usr/local/lib/python3.7/dist-packages (from sacremoses->transformers<5.0.0,>=4.6.0->sentence-transformers) (7.1.2)\n",
            "Requirement already satisfied: joblib in /usr/local/lib/python3.7/dist-packages (from sacremoses->transformers<5.0.0,>=4.6.0->sentence-transformers) (1.1.0)\n",
            "Requirement already satisfied: pillow>=5.3.0 in /usr/local/lib/python3.7/dist-packages (from torchvision->sentence-transformers) (7.1.2)\n",
            "Building wheels for collected packages: sentence-transformers\n",
            "  Building wheel for sentence-transformers (setup.py) ... \u001b[?25l\u001b[?25hdone\n",
            "  Created wheel for sentence-transformers: filename=sentence_transformers-2.1.0-py3-none-any.whl size=121000 sha256=ded827ef73e8288c1f21534d43d3e77498b4941abe1b11590ef4f1e07944aff0\n",
            "  Stored in directory: /root/.cache/pip/wheels/90/f0/bb/ed1add84da70092ea526466eadc2bfb197c4bcb8d4fa5f7bad\n",
            "Successfully built sentence-transformers\n",
            "Installing collected packages: pyyaml, huggingface-hub, transformers, sentencepiece, sentence-transformers\n",
            "  Attempting uninstall: pyyaml\n",
            "    Found existing installation: PyYAML 3.13\n",
            "    Uninstalling PyYAML-3.13:\n",
            "      Successfully uninstalled PyYAML-3.13\n",
            "  Attempting uninstall: transformers\n",
            "    Found existing installation: transformers 4.5.1\n",
            "    Uninstalling transformers-4.5.1:\n",
            "      Successfully uninstalled transformers-4.5.1\n",
            "Successfully installed huggingface-hub-0.1.2 pyyaml-6.0 sentence-transformers-2.1.0 sentencepiece-0.1.96 transformers-4.12.3\n"
          ]
        }
      ]
    },
    {
      "cell_type": "code",
      "metadata": {
        "colab": {
          "base_uri": "https://localhost:8080/"
        },
        "id": "CK4ME6DfFugz",
        "outputId": "75efe837-f3cd-4c64-9d3a-0c97a5c9f285"
      },
      "source": [
        "device = 'cuda' if torch.cuda.is_available() else 'cpu'\n",
        "print('Using {} device'.format(device)) "
      ],
      "execution_count": null,
      "outputs": [
        {
          "output_type": "stream",
          "name": "stdout",
          "text": [
            "Using cuda device\n"
          ]
        }
      ]
    },
    {
      "cell_type": "code",
      "metadata": {
        "colab": {
          "base_uri": "https://localhost:8080/"
        },
        "id": "_0YWlQ-HFxFH",
        "outputId": "0c51eb61-8fb2-4fe2-f978-8dabb6f20183"
      },
      "source": [
        "# 使用顯卡型號\n",
        "# K80 < P4 < T4 < P100 <= T4(fp16) < V100\n",
        "!nvidia-smi"
      ],
      "execution_count": null,
      "outputs": [
        {
          "output_type": "stream",
          "name": "stdout",
          "text": [
            "Wed Nov 10 06:34:45 2021       \n",
            "+-----------------------------------------------------------------------------+\n",
            "| NVIDIA-SMI 495.44       Driver Version: 460.32.03    CUDA Version: 11.2     |\n",
            "|-------------------------------+----------------------+----------------------+\n",
            "| GPU  Name        Persistence-M| Bus-Id        Disp.A | Volatile Uncorr. ECC |\n",
            "| Fan  Temp  Perf  Pwr:Usage/Cap|         Memory-Usage | GPU-Util  Compute M. |\n",
            "|                               |                      |               MIG M. |\n",
            "|===============================+======================+======================|\n",
            "|   0  Tesla P100-PCIE...  Off  | 00000000:00:04.0 Off |                    0 |\n",
            "| N/A   36C    P0    30W / 250W |      2MiB / 16280MiB |      0%      Default |\n",
            "|                               |                      |                  N/A |\n",
            "+-------------------------------+----------------------+----------------------+\n",
            "                                                                               \n",
            "+-----------------------------------------------------------------------------+\n",
            "| Processes:                                                                  |\n",
            "|  GPU   GI   CI        PID   Type   Process name                  GPU Memory |\n",
            "|        ID   ID                                                   Usage      |\n",
            "|=============================================================================|\n",
            "|  No running processes found                                                 |\n",
            "+-----------------------------------------------------------------------------+\n"
          ]
        }
      ]
    },
    {
      "cell_type": "markdown",
      "metadata": {
        "id": "crm3JwU-Iy9u"
      },
      "source": [
        "# 載入資料\n"
      ]
    },
    {
      "cell_type": "code",
      "metadata": {
        "colab": {
          "base_uri": "https://localhost:8080/"
        },
        "id": "zk8yeuOwIymP",
        "outputId": "23f55594-25c5-42d8-da61-f02e7da37ee1"
      },
      "source": [
        "import os\n",
        "print('Downloading dataset...')\n",
        "!gdown --id '1I7OVDW-Sy8yL00V4zWlqFOhCMemqEe0I' --output bert_test.xlsx\n"
      ],
      "execution_count": null,
      "outputs": [
        {
          "output_type": "stream",
          "name": "stdout",
          "text": [
            "Downloading dataset...\n",
            "Downloading...\n",
            "From: https://drive.google.com/uc?id=1I7OVDW-Sy8yL00V4zWlqFOhCMemqEe0I\n",
            "To: /content/bert_test.xlsx\n",
            "100% 47.5k/47.5k [00:00<00:00, 37.8MB/s]\n"
          ]
        }
      ]
    },
    {
      "cell_type": "code",
      "metadata": {
        "colab": {
          "base_uri": "https://localhost:8080/",
          "height": 692
        },
        "id": "iLD0vZEYEuoS",
        "outputId": "25bb09f9-bdfd-444b-97ec-36cb44130ef6"
      },
      "source": [
        "import pandas as pd\n",
        "df = pd.read_excel(\"bert_test.xlsx\", header=None, names=['sentence_source', 'sentence', 'label'])\n",
        "df"
      ],
      "execution_count": null,
      "outputs": [
        {
          "output_type": "execute_result",
          "data": {
            "text/html": [
              "<div>\n",
              "<style scoped>\n",
              "    .dataframe tbody tr th:only-of-type {\n",
              "        vertical-align: middle;\n",
              "    }\n",
              "\n",
              "    .dataframe tbody tr th {\n",
              "        vertical-align: top;\n",
              "    }\n",
              "\n",
              "    .dataframe thead th {\n",
              "        text-align: right;\n",
              "    }\n",
              "</style>\n",
              "<table border=\"1\" class=\"dataframe\">\n",
              "  <thead>\n",
              "    <tr style=\"text-align: right;\">\n",
              "      <th></th>\n",
              "      <th>sentence_source</th>\n",
              "      <th>sentence</th>\n",
              "      <th>label</th>\n",
              "    </tr>\n",
              "  </thead>\n",
              "  <tbody>\n",
              "    <tr>\n",
              "      <th>0</th>\n",
              "      <td>1970</td>\n",
              "      <td>毛主席语录    我们的方针要放在什么基点上？放在自己力量的基点上，叫做自力更生。</td>\n",
              "      <td>0</td>\n",
              "    </tr>\n",
              "    <tr>\n",
              "      <th>1</th>\n",
              "      <td>1970</td>\n",
              "      <td>命没有克服不了的困难    ——吉林市油脂厂自力更生、艰苦创业的调查报告    《红旗》杂志...</td>\n",
              "      <td>0</td>\n",
              "    </tr>\n",
              "    <tr>\n",
              "      <th>2</th>\n",
              "      <td>1970</td>\n",
              "      <td>思想教育工程技术人员    上海无线电十四厂革委会组织工人对工程技术人员进行再教育，不断提高...</td>\n",
              "      <td>0</td>\n",
              "    </tr>\n",
              "    <tr>\n",
              "      <th>3</th>\n",
              "      <td>1970</td>\n",
              "      <td>以北京六厂二校为榜样    认真落实党对知识分子的政策    据新华社南京电南京浦镇车辆厂革...</td>\n",
              "      <td>1</td>\n",
              "    </tr>\n",
              "    <tr>\n",
              "      <th>4</th>\n",
              "      <td>1970</td>\n",
              "      <td>一切积极因素”的教导    充分发挥革命技术人员的作用    据新华社合肥电安徽省蚌埠柴油机...</td>\n",
              "      <td>1</td>\n",
              "    </tr>\n",
              "    <tr>\n",
              "      <th>5</th>\n",
              "      <td>1970</td>\n",
              "      <td>七十年代的战斗日子里    ——大庆石油工人新年生产又创新成绩    无限忠于伟大领袖毛主席...</td>\n",
              "      <td>1</td>\n",
              "    </tr>\n",
              "    <tr>\n",
              "      <th>6</th>\n",
              "      <td>1970</td>\n",
              "      <td>寨贫下中农的革命精神大破“地区落后论”    淮阴专区连续四年夺得农业大丰收    实现了粮...</td>\n",
              "      <td>2</td>\n",
              "    </tr>\n",
              "    <tr>\n",
              "      <th>7</th>\n",
              "      <td>1970</td>\n",
              "      <td>身，穷水窝变成粮棉仓    新五公社自力更生、艰苦奋斗，把一万五千多亩泖田改造成良田，夺得粮...</td>\n",
              "      <td>2</td>\n",
              "    </tr>\n",
              "    <tr>\n",
              "      <th>8</th>\n",
              "      <td>1970</td>\n",
              "      <td>发扬敢想敢干革命精神    席庄生产队创造先进植棉法    新华社郑州电河南省泌阳县陈庄公社...</td>\n",
              "      <td>2</td>\n",
              "    </tr>\n",
              "    <tr>\n",
              "      <th>9</th>\n",
              "      <td>1970</td>\n",
              "      <td>油加工机械化半机械化    山东省文登县革委会带领全县人民坚决贯彻执行毛主席的“备战、备荒、...</td>\n",
              "      <td>2</td>\n",
              "    </tr>\n",
              "    <tr>\n",
              "      <th>10</th>\n",
              "      <td>1970</td>\n",
              "      <td>型水电站发挥巨大作用    在毛主席的“备战、备荒、为人民”的伟大战略方针指引下，江西省黎川...</td>\n",
              "      <td>3</td>\n",
              "    </tr>\n",
              "    <tr>\n",
              "      <th>11</th>\n",
              "      <td>1970</td>\n",
              "      <td>兴办地方小型榨糖工业    广西蔗糖主要产区之一合浦县，广大贫下中农、革命群众和革命干部坚决...</td>\n",
              "      <td>3</td>\n",
              "    </tr>\n",
              "    <tr>\n",
              "      <th>12</th>\n",
              "      <td>1970</td>\n",
              "      <td>和民兵正在平整岗地。本报通讯员摄</td>\n",
              "      <td>3</td>\n",
              "    </tr>\n",
              "    <tr>\n",
              "      <th>13</th>\n",
              "      <td>1970</td>\n",
              "      <td>辩证法正确对待新干部    江苏建湖县双河大队党支部书记罗长耕    我们大队在无产阶级文化...</td>\n",
              "      <td>4</td>\n",
              "    </tr>\n",
              "    <tr>\n",
              "      <th>14</th>\n",
              "      <td>1970</td>\n",
              "      <td>想指导，就能创造奇迹    广州铁路南站工人学哲学小组    “巧妇难为无米之炊”，这句成语...</td>\n",
              "      <td>4</td>\n",
              "    </tr>\n",
              "    <tr>\n",
              "      <th>15</th>\n",
              "      <td>1970</td>\n",
              "      <td>调查研究掌握规律争取主动    河南省获嘉县生产资料供应站革命领导小组    伟大领...</td>\n",
              "      <td>4</td>\n",
              "    </tr>\n",
              "    <tr>\n",
              "      <th>16</th>\n",
              "      <td>1970</td>\n",
              "      <td>元旦社论号召日本人民    为打倒美日反动派进行持久猛烈的斗争    帝修反如果把战争强加在...</td>\n",
              "      <td>5</td>\n",
              "    </tr>\n",
              "    <tr>\n",
              "      <th>17</th>\n",
              "      <td>1970</td>\n",
              "      <td>对外贸易状况日益恶化    洪茂    不久前，美帝头子尼克松向美国国会提交了一个贸易咨文，...</td>\n",
              "      <td>5</td>\n",
              "    </tr>\n",
              "    <tr>\n",
              "      <th>18</th>\n",
              "      <td>1970</td>\n",
              "      <td>元旦社论号召日本人民    掀起更大的反对美日反动派的风暴    帝国主义就是战争，必须用革...</td>\n",
              "      <td>5</td>\n",
              "    </tr>\n",
              "    <tr>\n",
              "      <th>19</th>\n",
              "      <td>1970</td>\n",
              "      <td>部队政治部举行招待会    热烈欢送阿尔巴尼亚人民军艺术团    宾主共赞中阿两国人民和两国...</td>\n",
              "      <td>5</td>\n",
              "    </tr>\n",
              "    <tr>\n",
              "      <th>20</th>\n",
              "      <td>1970</td>\n",
              "      <td>学合作联合委员会例会    我科技合作代表团回到北京    新华社八日讯在地拉那参加了中华人...</td>\n",
              "      <td>5</td>\n",
              "    </tr>\n",
              "  </tbody>\n",
              "</table>\n",
              "</div>"
            ],
            "text/plain": [
              "    sentence_source                                           sentence  label\n",
              "0              1970          毛主席语录    我们的方针要放在什么基点上？放在自己力量的基点上，叫做自力更生。      0\n",
              "1              1970  命没有克服不了的困难    ——吉林市油脂厂自力更生、艰苦创业的调查报告    《红旗》杂志...      0\n",
              "2              1970  思想教育工程技术人员    上海无线电十四厂革委会组织工人对工程技术人员进行再教育，不断提高...      0\n",
              "3              1970  以北京六厂二校为榜样    认真落实党对知识分子的政策    据新华社南京电南京浦镇车辆厂革...      1\n",
              "4              1970  一切积极因素”的教导    充分发挥革命技术人员的作用    据新华社合肥电安徽省蚌埠柴油机...      1\n",
              "5              1970  七十年代的战斗日子里    ——大庆石油工人新年生产又创新成绩    无限忠于伟大领袖毛主席...      1\n",
              "6              1970  寨贫下中农的革命精神大破“地区落后论”    淮阴专区连续四年夺得农业大丰收    实现了粮...      2\n",
              "7              1970  身，穷水窝变成粮棉仓    新五公社自力更生、艰苦奋斗，把一万五千多亩泖田改造成良田，夺得粮...      2\n",
              "8              1970  发扬敢想敢干革命精神    席庄生产队创造先进植棉法    新华社郑州电河南省泌阳县陈庄公社...      2\n",
              "9              1970  油加工机械化半机械化    山东省文登县革委会带领全县人民坚决贯彻执行毛主席的“备战、备荒、...      2\n",
              "10             1970  型水电站发挥巨大作用    在毛主席的“备战、备荒、为人民”的伟大战略方针指引下，江西省黎川...      3\n",
              "11             1970  兴办地方小型榨糖工业    广西蔗糖主要产区之一合浦县，广大贫下中农、革命群众和革命干部坚决...      3\n",
              "12             1970                                 和民兵正在平整岗地。本报通讯员摄        3\n",
              "13             1970  辩证法正确对待新干部    江苏建湖县双河大队党支部书记罗长耕    我们大队在无产阶级文化...      4\n",
              "14             1970  想指导，就能创造奇迹    广州铁路南站工人学哲学小组    “巧妇难为无米之炊”，这句成语...      4\n",
              "15             1970      调查研究掌握规律争取主动    河南省获嘉县生产资料供应站革命领导小组    伟大领...      4\n",
              "16             1970  元旦社论号召日本人民    为打倒美日反动派进行持久猛烈的斗争    帝修反如果把战争强加在...      5\n",
              "17             1970  对外贸易状况日益恶化    洪茂    不久前，美帝头子尼克松向美国国会提交了一个贸易咨文，...      5\n",
              "18             1970  元旦社论号召日本人民    掀起更大的反对美日反动派的风暴    帝国主义就是战争，必须用革...      5\n",
              "19             1970  部队政治部举行招待会    热烈欢送阿尔巴尼亚人民军艺术团    宾主共赞中阿两国人民和两国...      5\n",
              "20             1970  学合作联合委员会例会    我科技合作代表团回到北京    新华社八日讯在地拉那参加了中华人...      5"
            ]
          },
          "metadata": {},
          "execution_count": 7
        }
      ]
    },
    {
      "cell_type": "code",
      "metadata": {
        "colab": {
          "base_uri": "https://localhost:8080/",
          "height": 391
        },
        "id": "QP_kGKa046tj",
        "outputId": "39025d48-bb9d-4cd7-8d40-db7885634f71"
      },
      "source": [
        "\n",
        "# 列印資料集的記錄數\n",
        "print('Number of training sentences: {:,}\\n'.format(df.shape[0]))\n",
        "\n",
        "# 抽樣10條資料來預覽一下\n",
        "df.sample(10)\n"
      ],
      "execution_count": null,
      "outputs": [
        {
          "output_type": "stream",
          "name": "stdout",
          "text": [
            "Number of training sentences: 21\n",
            "\n"
          ]
        },
        {
          "output_type": "execute_result",
          "data": {
            "text/html": [
              "<div>\n",
              "<style scoped>\n",
              "    .dataframe tbody tr th:only-of-type {\n",
              "        vertical-align: middle;\n",
              "    }\n",
              "\n",
              "    .dataframe tbody tr th {\n",
              "        vertical-align: top;\n",
              "    }\n",
              "\n",
              "    .dataframe thead th {\n",
              "        text-align: right;\n",
              "    }\n",
              "</style>\n",
              "<table border=\"1\" class=\"dataframe\">\n",
              "  <thead>\n",
              "    <tr style=\"text-align: right;\">\n",
              "      <th></th>\n",
              "      <th>sentence_source</th>\n",
              "      <th>sentence</th>\n",
              "      <th>label</th>\n",
              "    </tr>\n",
              "  </thead>\n",
              "  <tbody>\n",
              "    <tr>\n",
              "      <th>15</th>\n",
              "      <td>1970</td>\n",
              "      <td>调查研究掌握规律争取主动    河南省获嘉县生产资料供应站革命领导小组    伟大领...</td>\n",
              "      <td>4</td>\n",
              "    </tr>\n",
              "    <tr>\n",
              "      <th>0</th>\n",
              "      <td>1970</td>\n",
              "      <td>毛主席语录    我们的方针要放在什么基点上？放在自己力量的基点上，叫做自力更生。</td>\n",
              "      <td>0</td>\n",
              "    </tr>\n",
              "    <tr>\n",
              "      <th>3</th>\n",
              "      <td>1970</td>\n",
              "      <td>以北京六厂二校为榜样    认真落实党对知识分子的政策    据新华社南京电南京浦镇车辆厂革...</td>\n",
              "      <td>1</td>\n",
              "    </tr>\n",
              "    <tr>\n",
              "      <th>18</th>\n",
              "      <td>1970</td>\n",
              "      <td>元旦社论号召日本人民    掀起更大的反对美日反动派的风暴    帝国主义就是战争，必须用革...</td>\n",
              "      <td>5</td>\n",
              "    </tr>\n",
              "    <tr>\n",
              "      <th>6</th>\n",
              "      <td>1970</td>\n",
              "      <td>寨贫下中农的革命精神大破“地区落后论”    淮阴专区连续四年夺得农业大丰收    实现了粮...</td>\n",
              "      <td>2</td>\n",
              "    </tr>\n",
              "    <tr>\n",
              "      <th>14</th>\n",
              "      <td>1970</td>\n",
              "      <td>想指导，就能创造奇迹    广州铁路南站工人学哲学小组    “巧妇难为无米之炊”，这句成语...</td>\n",
              "      <td>4</td>\n",
              "    </tr>\n",
              "    <tr>\n",
              "      <th>4</th>\n",
              "      <td>1970</td>\n",
              "      <td>一切积极因素”的教导    充分发挥革命技术人员的作用    据新华社合肥电安徽省蚌埠柴油机...</td>\n",
              "      <td>1</td>\n",
              "    </tr>\n",
              "    <tr>\n",
              "      <th>8</th>\n",
              "      <td>1970</td>\n",
              "      <td>发扬敢想敢干革命精神    席庄生产队创造先进植棉法    新华社郑州电河南省泌阳县陈庄公社...</td>\n",
              "      <td>2</td>\n",
              "    </tr>\n",
              "    <tr>\n",
              "      <th>12</th>\n",
              "      <td>1970</td>\n",
              "      <td>和民兵正在平整岗地。本报通讯员摄</td>\n",
              "      <td>3</td>\n",
              "    </tr>\n",
              "    <tr>\n",
              "      <th>7</th>\n",
              "      <td>1970</td>\n",
              "      <td>身，穷水窝变成粮棉仓    新五公社自力更生、艰苦奋斗，把一万五千多亩泖田改造成良田，夺得粮...</td>\n",
              "      <td>2</td>\n",
              "    </tr>\n",
              "  </tbody>\n",
              "</table>\n",
              "</div>"
            ],
            "text/plain": [
              "    sentence_source                                           sentence  label\n",
              "15             1970      调查研究掌握规律争取主动    河南省获嘉县生产资料供应站革命领导小组    伟大领...      4\n",
              "0              1970          毛主席语录    我们的方针要放在什么基点上？放在自己力量的基点上，叫做自力更生。      0\n",
              "3              1970  以北京六厂二校为榜样    认真落实党对知识分子的政策    据新华社南京电南京浦镇车辆厂革...      1\n",
              "18             1970  元旦社论号召日本人民    掀起更大的反对美日反动派的风暴    帝国主义就是战争，必须用革...      5\n",
              "6              1970  寨贫下中农的革命精神大破“地区落后论”    淮阴专区连续四年夺得农业大丰收    实现了粮...      2\n",
              "14             1970  想指导，就能创造奇迹    广州铁路南站工人学哲学小组    “巧妇难为无米之炊”，这句成语...      4\n",
              "4              1970  一切积极因素”的教导    充分发挥革命技术人员的作用    据新华社合肥电安徽省蚌埠柴油机...      1\n",
              "8              1970  发扬敢想敢干革命精神    席庄生产队创造先进植棉法    新华社郑州电河南省泌阳县陈庄公社...      2\n",
              "12             1970                                 和民兵正在平整岗地。本报通讯员摄        3\n",
              "7              1970  身，穷水窝变成粮棉仓    新五公社自力更生、艰苦奋斗，把一万五千多亩泖田改造成良田，夺得粮...      2"
            ]
          },
          "metadata": {},
          "execution_count": 9
        }
      ]
    },
    {
      "cell_type": "code",
      "metadata": {
        "id": "Mi4zfZgx46ze"
      },
      "source": [
        "# df.loc[df.label == 0].sample(5)[['sentence', 'label']]\n",
        "# 我們把 sentence 和 label 欄位載入到 numpy 陣列中\n",
        "sentences = df.sentence.values\n",
        "labels = df.label.values\n"
      ],
      "execution_count": null,
      "outputs": []
    },
    {
      "cell_type": "markdown",
      "metadata": {
        "id": "WMEHif5qRA-g"
      },
      "source": [
        "# BERT 分詞器\n",
        "要將文字輸入到 BERT 中，必須先對它們分詞，並使用模型內部提供的詞彙表，把這些詞轉換為詞的下標。\n",
        "\n",
        "先在程式碼中匯入 BERT 庫，這裡使用 \"uncased\" 小寫版本的預訓練模型："
      ]
    },
    {
      "cell_type": "code",
      "metadata": {
        "colab": {
          "base_uri": "https://localhost:8080/",
          "height": 162,
          "referenced_widgets": [
            "083c68bdb24040e08c34ecc7dbe96a05",
            "0d47459860f24228ab902f7e4c2c13b4",
            "c079773d1b524f8cb42e5e1165126685",
            "e75cefa70d98482395aa2753f66c34f7",
            "6f35ee578a054218b123f16acf2bdcaf",
            "bbe5123ae57e4a7691d9e3987ce9a4de",
            "a054d97b2825430d95616022844f3eb0",
            "28be110432de4c4b90b7be6defab01b3",
            "3cfd36ed33604d72984c43956519f47f",
            "aba086db96de4be98f3573d659d6e040",
            "1594a880d84b485682ef0c84724a11a6",
            "613aa2a6fcca4c8a95dfd91f7daecfcf",
            "732e997a2917497798aa8ad38b1fe487",
            "dd71ec4c7cfa4a1580de566d70e69fdf",
            "6a13d71f9b144df593e8994a6443002a",
            "47483914a9024933b32350bfa7e1fe40",
            "a47ff29a334b43f1ba356f1c50587553",
            "f7cccf6c13754da5873e67aa97b5e516",
            "4af4eb7203604e149f6fc48f90379dbd",
            "7cb60259962d4c6185133d67d9581faf",
            "8fe88c0c73f34828af759546129a8f8e",
            "1dfd66bbb29540fd8f9442a0281e7b7c",
            "fbf43610b7ea433e917930553e668b2f",
            "42520e66037e428b98f19d7d70b9e1a3",
            "4b165eb439cb4dd79517c23da5a60889",
            "01115c7353844a2ea3633b3e586b25a0",
            "260b8a4ce1d64edcb2c75e7fcc8a5d8d",
            "d0d1f5eb1c0e4296bcaf723b2d2cd389",
            "df820e34f99e4608b99e12e7e868340c",
            "09a701c39be44e35939834c3d6d27093",
            "ef81bb13a36a4504b773f5c1111d9146",
            "b79744c1a2e24c878bf1572444feb995",
            "13b424c1d37346fea9bde43181833a1a",
            "9fba202124fe4062bfe37fb36a475ddc",
            "0df66c0af9cf48f2b86912132a64cb9b",
            "8130d7cf60d8483bbc4e5fdab96896d1",
            "46c9b7cf06dc4533ae9683e6403d4d0d",
            "1c0392e0045147d99ad9395b29df8363",
            "a0325daba1854dfa882395606c96db2a",
            "0333d4376c984a0d9f3915b6abc25285",
            "fc32974bfa694d5a81f9ba8540e73d34",
            "57e66c09caa54d81bd7d18888328a835",
            "da068692ad0247b2ae15961425bc1b4c",
            "2c3839994947459fafc71b97e047c7a9"
          ]
        },
        "id": "FbSeFGIrJ1Ns",
        "outputId": "ce7695c8-6b02-42a6-cfb1-d9ebf55a0830"
      },
      "source": [
        "from transformers import BertTokenizer\n",
        "\n",
        "# 載入 BERT 分詞器\n",
        "print('Loading BERT tokenizer...')\n",
        "\n",
        "PRETRAINED_MODEL_NAME = \"bert-base-chinese\"  # 指定繁簡中文 BERT-BASE 預訓練模型\n",
        "\n",
        "tokenizer = BertTokenizer.from_pretrained(PRETRAINED_MODEL_NAME)\n"
      ],
      "execution_count": null,
      "outputs": [
        {
          "output_type": "stream",
          "name": "stdout",
          "text": [
            "Loading BERT tokenizer...\n"
          ]
        },
        {
          "output_type": "display_data",
          "data": {
            "application/vnd.jupyter.widget-view+json": {
              "model_id": "083c68bdb24040e08c34ecc7dbe96a05",
              "version_minor": 0,
              "version_major": 2
            },
            "text/plain": [
              "Downloading:   0%|          | 0.00/107k [00:00<?, ?B/s]"
            ]
          },
          "metadata": {}
        },
        {
          "output_type": "display_data",
          "data": {
            "application/vnd.jupyter.widget-view+json": {
              "model_id": "613aa2a6fcca4c8a95dfd91f7daecfcf",
              "version_minor": 0,
              "version_major": 2
            },
            "text/plain": [
              "Downloading:   0%|          | 0.00/29.0 [00:00<?, ?B/s]"
            ]
          },
          "metadata": {}
        },
        {
          "output_type": "display_data",
          "data": {
            "application/vnd.jupyter.widget-view+json": {
              "model_id": "fbf43610b7ea433e917930553e668b2f",
              "version_minor": 0,
              "version_major": 2
            },
            "text/plain": [
              "Downloading:   0%|          | 0.00/263k [00:00<?, ?B/s]"
            ]
          },
          "metadata": {}
        },
        {
          "output_type": "display_data",
          "data": {
            "application/vnd.jupyter.widget-view+json": {
              "model_id": "9fba202124fe4062bfe37fb36a475ddc",
              "version_minor": 0,
              "version_major": 2
            },
            "text/plain": [
              "Downloading:   0%|          | 0.00/624 [00:00<?, ?B/s]"
            ]
          },
          "metadata": {}
        }
      ]
    },
    {
      "cell_type": "markdown",
      "metadata": {
        "id": "jTjYwB-eRKsG"
      },
      "source": [
        "我們輸入一個句子試試："
      ]
    },
    {
      "cell_type": "code",
      "metadata": {
        "colab": {
          "base_uri": "https://localhost:8080/"
        },
        "id": "WfaSq3rwKC86",
        "outputId": "3cbdba2a-0739-4eae-c061-75d063e024cd"
      },
      "source": [
        "# 輸出原始句子\n",
        "print('Original: ', sentences[1])\n",
        "\n",
        "# 將分詞後的內容輸出\n",
        "print('Tokenized: ', tokenizer.tokenize(sentences[1]))\n",
        "\n",
        "# 將每個詞對映到詞典下標\n",
        "print('Token IDs: ', tokenizer.convert_tokens_to_ids(tokenizer.tokenize(sentences[1])))\n"
      ],
      "execution_count": null,
      "outputs": [
        {
          "output_type": "stream",
          "name": "stdout",
          "text": [
            "Original:  命没有克服不了的困难    ——吉林市油脂厂自力更生、艰苦创业的调查报告    《红旗》杂志编者按：吉林市油脂厂的事迹，是一曲自力更生、艰苦奋斗、勤俭办工厂的壮丽的赞歌。从这里，人们可以看到用毛泽东思想武装起来的伟大的中国人民无穷无尽的创造力量。毛主席指出：“社会的财富是工人、农民和劳动知识分子自己创造的。只要这些人掌握了自己的命运，又有一条马克思列宁主义的路线，不是回避问题，而是用积极的态度去解决问题，任何人间的困难总是可以解决的。”这就是我们胜利的源泉，这就是我们前进的方向。    吉林市油脂厂是迎着大跃进的浩荡东风诞生的。共产党员、特等残废军人刘声带领十二名烈军属和街道居民，凑了二十五元资金，三口大锅闹革命，办起了一个朝气蓬勃、欣欣向荣的社会主义企业。    伟大领袖毛主席教导说：“我们的方针要放在什么基点上？放在自己力量的基点上，叫做自力更生。”这个厂的革命群众，全心全意听毛主席的话，按毛主席的指示办事，自力更生，艰苦创业，为革命而生产，用革命精神搞生产。在这里，艰难险阻、困难挫折都不在话下，洋奴哲学、爬行主义全站不住脚。    工人们说：为革命没有克服不了的困难，为革命没有吃不了的辛苦，为革命没有满足的时候。在无产阶级文化大革命中，他们彻底批判了叛徒、内奸、工贼刘少奇的反革命修正主义路线，使毛主席关于“独立自主、自力更生”的伟大思想，在全厂革命群众中深深地扎下了根。    他们依靠工人阶级的革命精神的优势，使工厂的面貌发生了根本的变化。这个厂现有二百一十八人，已由生产单一品种发展到能够生产七十多种不同规格的产品，由炼废油到成批生产具有国内、国际先进水平的产品。一九六九年的总产值达到三百四十万元，比一九六六年提高百分之五十二点七，劳动生产率提高百分之六十四点七。十二年来，给国家上缴利润的总额为国家历年投资总额的四十倍。    靠自己的力量艰苦创业    建厂初期，一无厂房，二无设备，三无资金，四无技术，两手攥空拳，一穷二白。在这种情况下，怎样把工厂办起来？有人在一旁摇头了：“一个残废，一群婆婆娘娘，十二个半人，能办个啥工厂？”刘声，这个在抗美援朝战争中负了重伤、失去双手双脚的特等残废军人，坚定地回答：“没有双脚也要走革命路，没有双手也要开顶风船。半截人不当半截革命派！婆婆娘娘也要为建设社会主义添砖加瓦。”    没有这个条件，没有那个条件，有了要革命的人，是最根本的条件。他们没有东西，七拼八凑，没有办法，七嘴八舌，用破席片、碎木板搭起了不遮风、不挡雨的席板棚，拣来砖头、石块垒起了锅台，到大工厂搜集废油作原料，三口大锅闹革命的火焰就这样点燃了。由于资金少，有几天就连这三口大锅也要断烟火。向国家要吗？工人们说：“决不能抽出大锅底下的火，炼咱们小锅里的油。”他们从家里拿引柴，到外边拣煤渣，咬紧牙关，迎着困难走。    一九六一年，叛徒、内奸、工贼刘少奇在工业上刮起“关、停、并、转”的妖风。旧省委的一个走资派来到油脂厂，轻蔑地说：“这样的工厂，能搞出啥名堂？”不久，就卡掉了他们的原料，并要他们下马。工人们气愤地说：为什么国家需要的东西，不让我们生产？社会主义需要，我们就要生产。他们想尽一切办法，克服种种困难，坚持把厂办下去。    一九六二年，工厂改为地方国营。有人认为，现在是原材料国家供应，产品国家包销，赔赚国家兜着，这下可熬出来了。在这种情况下，是继续把一切放在自己力量的基点上，还是事事向国家伸手，这是能不能沿着“独立自主、自力更生”道路继续前进的问题。    工厂要建废油再生车间，有的同志提出个方案，要国家投资十一万元。这个方案引起了很大争论，多数工人不同意。他们说：“我们宁肯自己克服十分困难，决不给国家增添一分负担”，“社会主义不是等来的，也不是伸手要来的，要靠我们双手去创造”。全厂工人和干部一齐动手，把废旧设备切切割割，拼拼凑凑，拼成罐壁和釜壁，把不同规格的角钢和钢管焊接成支架，制成了三个洗涤罐、一个油水分离器，安装了两个蒸馏釜、两个冷却塔等设备。自己动手用大铁锤打出来一个二十八米高的铁烟囱。制作洗涤罐的碟形罐底，自己没有压力机和胎具，出去加工，要花许多钱。机修工人就在冻土地上按罐底形状挖一个大坑，把钢板烧红，架在坑上，用大木锤砸，奋战四十个小时，砸坏四十八把木锤，硬是打出来两个罐底。他们以蚂蚁啃骨头的精神，没要国家投资，建成了一个可以年处理两千五百吨的废油再生车间。    无产阶级文化大革命，使自力更生的精神更加发扬光大。三年来，他们自己设计，自己施工，盖厂房、仓库四千一百二十平方米，等于前九年建筑面积的一倍半。在兄弟厂的支援和帮助下，自己制造、改制了六十八台主要设备，自己动手安装了全部设备，为国家节省了大量的资金和钢材。    这个厂在“独立自主、自力更生”的道路上，在战胜困难的斗争中，立足于自己动手，立足于现有条件，立足于利废利旧；发扬吃大苦、耐大劳的老八路作风，发扬节约一分钱、一滴油的精神，发扬藐视一切困难的革命英雄气概。工人们说，这三个立足、三个发扬，是可贵的精神，可靠的办法，正确的道路。    革命的需要，就是发展生产的方向    “备战、备荒、为人民”，是毛主席的伟大战略思想，是革命的全局。油脂厂从这个全局出发，革命需要什么，就生产什么，把搞生产同建设社会主义和巩固无产阶级专政紧密地联系起来。    这个厂遵循毛主席关于“以农业为基础、工业为主导”的伟大方针，积极地为农业服务。他们派人到农村去调查，了解到农村迫切需要大车油，就想办法生产。但是生产大车油，开始每吨要亏损几十元。工人们说：毛主席号召支援农业，生产不生产大车油，不是赔钱不赔钱的问题，而是一个坚持什么政治方向的问题，我们一定要干，亏损是可以解决的。旧市委的一小撮走资派，以赔本买卖不能搞为名，逼着油脂厂把大车油生产停下来。无产阶级文化大革命中，工人们彻底批判了刘少奇的“利润挂帅”的修正主义黑货，承担了生产全省农村需用的大车油的任务。他们突出无产阶级政治，加强管理，降低成本，很快地扭转了亏损局面。现在，每吨成本由五百三十元降到三百五十五元，售价也大大下降，深受贫下中农的欢迎。    他们搞生产，不怕麻烦不怕少，革命需要坚决搞。一个发电厂为了攀登一项技术高峰，需要少量的导轨油。油脂厂的工人知道后，为了长无产阶级的志气，打掉修正主义在这个问题上卡我们的脖子的妄想，立即接受了这项任务。他们克服了很多困难，在较短的时间内就试制成功了，帮助发电厂解决了困难。    自觉地考虑到全局的需要，急革命所急，急战备所需。一九六九年，厂革委会的一个领导成员，到附近一个工厂联系工作，在打电话时看到该厂记事板上写着：“速给无锡去电，急运透明硫化切削油。”他回厂之后，和工人们一道讨论，认为我们两个厂只隔一条路，他们急需的油，却要从数千里外运来，不利于备战。这个厂就马上进行试制，经过反复试验，很快就赶制出来，热情地送上门去，并主动地承担了长期供应的任务。在落实党的“九大”提出的各项战斗任务中，他们了解到有关单位正在为试制一项重要战备产品千方百计地攻关，就主动派人参加战斗。同时，在厂内组织了一个攻关小组，以只争朝夕的革命精神，战胜了重重困难，很快地试制成功了，经有关单位鉴定，完全符合要求，为加强战备做出了贡献。    为革命节省每一个铜板    伟大领袖毛主席教导说：“节省每一个铜板为着战争和革命事业”。为革命，节约一滴油、一块煤、一度电、一分钱，是油脂厂的优良传统。十二年来，工厂由穷变富，但是这个传统一直没有变。工人们说：节俭过日子，才能越过越革命。    有一年，油脂厂为市粮食局加工一批桐油。工人在加工中，珍惜每一滴油，把掉在地下的用手抿起来，把沾在抹布上的煮出来，把留在桶底上的用羹匙刮下来。点点滴滴汇大川，由于加强管理，降低消耗，节省出来二十吨桐油，价值四万元。有人提出，把这批油留下，解决工厂的困难，这是合理合法。老工人不同意，他们说：增产节约是我们的本份，节约归自己，合的是本位主义的理，合的是私有观念的法。油脂厂工人坚决把二十吨桐油交给了国家。    随着工厂的扩大，工人的增加，一九六九年年初，厂革委会计划用本厂积累的十六万元盖宿舍和会议室。准备动工的时候，党的“九大”胜利召开了。革委会主任刘声在厂里落实“九大”精神的毛泽东思想学习班上提出一个建议：宿舍和会议室暂时不盖，用十六万元再建一个高温润滑脂车间，把原来为建这个车间国家同意给的三十七万元和一百吨钢材节省下来。这个建议引起了工人们很大的注意，进行了热烈的讨论。从这个厂的实际情况来看，盖宿舍和会议室是需要的，但他们想到毛主席“备战、备荒、为人民”的伟大教导，认为应当把钱花在刀刃上。结果，他们既没有建宿舍和会议室，也没有新建高温润滑脂车间，把这十六万元用来建了一个生产新产品的车间；同时，利用废旧材料改建了一个高温润滑脂车间，改进了工艺，提高了生产能力二十倍。工人们说：“这才是咱们三口大锅闹革命的精神，这才是油脂厂自力更生、艰苦创业的老传统。钱，就应该这样花。”    他们在生产中，坚持无产阶级政治挂帅，发动广大工人群众，人人参加管理，个个当家理财，班班组组有消耗记录，班班组组有核算，建立了一套合理的、行之有效的管理制度，使产品质量不断提高，成本不断降低，为国家提供的积累越来越多。    走自己技术发展的道路    油脂厂遵照毛主席“打破洋框框，走自己工业发展道路”的伟大教导，为革命掌握技术，为革命攀登技术高峰，走立足于土、从土到洋、土洋结合的道路。    开始创业的革命工人，在技术上是一张白纸，既没有进过工厂，更不懂炼油技术。厂里有一个自称“油脂专家”的人，把自己懂得的一星半点技术，当做“祖传秘方”，实际上只掌握了几张配料单，变来变去，糊弄群众。老工人在一块合计：“这个人和咱们不是一条心，咱们不能傻干，要下决心掌握技术。办工厂，发展技术，要依靠咱们。”工人们奋发图强，刻苦钻研，用手摸、眼睛看、鼻子闻、舌头舔的办法，检验产品质量，边干边学，逐步地掌握了技术。过去是普普通通的家庭妇女，现在已经能熟练地掌握大部分产品的生产技术。这个厂在产品试制、工艺设计、建筑安装等方面，都成长起来一支自己的、一专多能的技术队伍。    油脂厂在对待技术、设备上，根据自己的需要和可能，充分利用现有的条件，能洋就洋，不能洋就土，从土到洋，土洋结合。他们在生产中，不断总结群众的实践经验，一步一步地发展，一步一步地提高，创造出一套科学的、合理的、符合实际的工艺流程和生产设备。例如，要提高钙基润滑脂的质量，必须低温出罐。开始没有低温出罐的设备，油脂变稠淌不出来，工人们在摄氏一百度左右的条件下，不怕烤，不怕烫，硬是用大铁杓一杓一杓地掏出来。他们一边坚持生产，一边改造设备，一边改进工艺流程，经过两年来的不断努力，从直火加温到蒸气加温，从单层釜到双层釜，从人工搅拌到机械搅拌、双向搅拌，“土办法”逐步地变成土洋结合的办法，初级的东西变成了高级的东西，生产也实现了机械化、管道化，使钙基润滑脂的质量赶上了国内同类产品的先进水平。    他们经常给自己出难题，大破洋奴哲学，为革命攀登技术高峰。一九六五年，我国的一种生产设备，需要一种非皂基高温润滑脂。资本主义国家用高价和苛刻的条件来卡我们。工人们听到这个消息，都非常气愤，强烈要求承担这个任务。    伟大领袖毛主席教导说：“我们不能走世界各国技术发展的老路，跟在别人后面一步一步地爬行。”油脂厂的工人和技术人员拿出革命加拚命的精神攻难关。负责这项试验工作的佟硕林同志，是个只念过六年书的工人技术员，他患有严重的十二指肠溃疡和胆囊炎，经常发高烧，但他以惊人的毅力，一直坚持在战斗岗位上。他们为了找一种原料，跑了十一个省、区，取回三十三种样品，经过一百零八次试验，攻克了一道道难关，终于试制成功。工人们又提出了更高的奋斗目标，一定要把资本主义国家甩在我们后边。这里的关键问题，是要改造一种稠化剂的性能。工人和技术人员敢想敢干，在有关单位的帮助下，用土办法大胆试验，仅用六十天的时间，就拿下来了。经过对比试验，资本主义国家的非皂基高温润滑脂，使用一次只能连续运转六个月，这个厂生产的同类产品，可以连续运转十一个月。把这种润滑脂用在机车发电机上，比一般润滑脂使用时间提高五十倍以上；用在轧钢厂大型剪断机的辊道轴承上，比用原来的润滑脂使用时间提高九百七十一倍。    油脂厂立足于自己动手，技术上敢攀高峰，敢走前人没有走过的路，他们要干的，就下决心一定干成。现在，他们生产的九个品种、二十八个规格的定型产品，都是靠自己摸索搞出来的。    有革命化的人，才能有革命化的工厂    油脂厂办成一个革命化的、社会主义的企业，有许多经验，而最根本的一条是，在毛泽东思想哺育下，经过阶级斗争、生产斗争、科学实验三大革命运动的锻炼，成长起一支革命化的队伍。有了革命化的人，才能有革命化的工厂。    这个厂有一个革命化的领导班子。他们活学活用毛泽东思想，坚定地按毛主席指示办事，带头学，自觉革命化；带头干，自觉做样子；带头闯，勇于担风险。他们把毛主席关于“自力更生”、“艰苦奋斗”、“勤俭办工厂”的伟大教导，作为办工厂的座右铭，经常学，反复学，指导自己的行动。他们每干一件事情，首先看到的是人的因素，深信自力更生的“力”蕴藏在广大群众之中。  他们紧紧地同群众联系在一起，人不离劳动，心不离群众，哪里有困难，就出现在哪里，分不清谁是工人，谁是领导干部。革委会的一位副主任，一年到头手不离“三把”：锤把、钳把和锹把，被群众称为“革命的老黄牛，艰苦奋斗的好打头。”刘声同志在铺设铁路专用线时，跟着汽车到林区拉枕木，和大家一起爬山，断腿被假腿磨出了血，还坚持往上爬。汽车司机劝他不要再爬了，他说：“革命没有平坦的路，革命就得爬坡，我要为消灭帝修反、解放全人类爬一辈子坡。”工人们说：有了一心跟着毛主席干革命的领导班子，自力更生的革命道路就越走越宽广。    这个厂的领导班子，用毛泽东思想带出了一支心红骨硬的骨干队伍。这个队伍里，有在无产阶级文化大革命中勇敢捍卫毛主席无产阶级革命路线的闯将，有十二年如一日艰苦创业的老工人，有经过人民解放军大学校培养的复员、转业军人，有自觉地接受工人阶级再教育的青年知识分子。他们亲自参加了改变油脂厂一穷二白面貌的战斗，对自力更生、艰苦创业有着深厚的无产阶级感情。他们爱厂，更爱社会主义。五十多岁的老工人祝玉书，原是一个家庭妇女，饱尝过旧社会的苦难，对毛主席无限热爱。她刻苦地活学活用毛泽东思想，实心实意地听毛主席的话，党叫干啥就干啥，勤勤恳恳，兢兢业业，尽心尽力地建设社会主义。她常说：“党是妈，厂是家，我听党的话，我爱我的家。”在无产阶级文化大革命中，她光荣地加入了伟大的中国共产党，成为无产阶级的先锋战士。    油脂厂十分注意对新的一代进行革命传统教育，让自力更生的革命精神代代相传。对新入厂的工人、干部和技术人员上的第一课，就是进行“独立自主、自力更生”的教育，讲厂史，打上“三口大锅闹革命”的烙印。老工人对青年工人言传身带。有个中专毕业生刚进厂时，认为厂小没出息，一提到“三口大锅”就觉得很不光彩。有一次，她把一副用脏了的手套顺手扔掉，老工人不声不响地拣起来，洗净补好。当她搬砖头没有手套时，老工人把这副手套递给她，语重心长地说：“我们三口大锅闹革命的时候，哪有手套啊！你们要接好艰苦奋斗的班！”在老工人的帮助下，这个青年人的思想逐渐地发生了变化。最近，她到市里买玻璃仪器，雇车得花五元钱。她想：五元钱，这可是我们建厂资金的五分之一呀！她不辞辛苦，往返两次，背回了仪器。一代新人正在自力更生的沃土上茁壮成长。    “如果过去也讲自力更生，那末，在新的国际环境下，自力更生就更加重要。”面对美帝国主义、社会帝国主义的战争威胁，吉林市油脂厂的革命群众，紧跟毛主席的伟大战略部署，从战备需要出发，决心“爬坡要爬最陡的坡，登山要登最高的山”，夺取自力更生的新的更大的胜利。吉林省革命委员会吉林市革命委员会调查组（原载《红旗》杂志一九七○年第一期）\n",
            "Tokenized:  ['命', '没', '有', '克', '服', '不', '了', '的', '困', '难', '[UNK]', '[UNK]', '吉', '林', '市', '油', '脂', '厂', '自', '力', '更', '生', '、', '艰', '苦', '创', '业', '的', '调', '查', '报', '告', '《', '红', '旗', '》', '杂', '志', '编', '者', '按', '：', '吉', '林', '市', '油', '脂', '厂', '的', '事', '迹', '，', '是', '一', '曲', '自', '力', '更', '生', '、', '艰', '苦', '奋', '斗', '、', '勤', '俭', '办', '工', '厂', '的', '壮', '丽', '的', '赞', '歌', '。', '从', '这', '里', '，', '人', '们', '可', '以', '看', '到', '用', '毛', '泽', '东', '思', '想', '武', '装', '起', '来', '的', '伟', '大', '的', '中', '国', '人', '民', '无', '穷', '无', '尽', '的', '创', '造', '力', '量', '。', '毛', '主', '席', '指', '出', '：', '[UNK]', '社', '会', '的', '财', '富', '是', '工', '人', '、', '农', '民', '和', '劳', '动', '知', '识', '分', '子', '自', '己', '创', '造', '的', '。', '只', '要', '这', '些', '人', '掌', '握', '了', '自', '己', '的', '命', '运', '，', '又', '有', '一', '条', '马', '克', '思', '列', '宁', '主', '义', '的', '路', '线', '，', '不', '是', '回', '避', '问', '题', '，', '而', '是', '用', '积', '极', '的', '态', '度', '去', '解', '决', '问', '题', '，', '任', '何', '人', '间', '的', '困', '难', '总', '是', '可', '以', '解', '决', '的', '。', '[UNK]', '这', '就', '是', '我', '们', '胜', '利', '的', '源', '泉', '，', '这', '就', '是', '我', '们', '前', '进', '的', '方', '向', '。', '吉', '林', '市', '油', '脂', '厂', '是', '迎', '着', '大', '跃', '进', '的', '浩', '荡', '东', '风', '诞', '生', '的', '。', '共', '产', '党', '员', '、', '特', '等', '残', '废', '军', '人', '刘', '声', '带', '领', '十', '二', '名', '烈', '军', '属', '和', '街', '道', '居', '民', '，', '凑', '了', '二', '十', '五', '元', '资', '金', '，', '三', '口', '大', '锅', '闹', '革', '命', '，', '办', '起', '了', '一', '个', '朝', '气', '蓬', '勃', '、', '欣', '欣', '向', '荣', '的', '社', '会', '主', '义', '企', '业', '。', '伟', '大', '领', '袖', '毛', '主', '席', '教', '导', '说', '：', '[UNK]', '我', '们', '的', '方', '针', '要', '放', '在', '什', '么', '基', '点', '上', '？', '放', '在', '自', '己', '力', '量', '的', '基', '点', '上', '，', '叫', '做', '自', '力', '更', '生', '。', '[UNK]', '这', '个', '厂', '的', '革', '命', '群', '众', '，', '全', '心', '全', '意', '听', '毛', '主', '席', '的', '话', '，', '按', '毛', '主', '席', '的', '指', '示', '办', '事', '，', '自', '力', '更', '生', '，', '艰', '苦', '创', '业', '，', '为', '革', '命', '而', '生', '产', '，', '用', '革', '命', '精', '神', '搞', '生', '产', '。', '在', '这', '里', '，', '艰', '难', '险', '阻', '、', '困', '难', '挫', '折', '都', '不', '在', '话', '下', '，', '洋', '奴', '哲', '学', '、', '爬', '行', '主', '义', '全', '站', '不', '住', '脚', '。', '工', '人', '们', '说', '：', '为', '革', '命', '没', '有', '克', '服', '不', '了', '的', '困', '难', '，', '为', '革', '命', '没', '有', '吃', '不', '了', '的', '辛', '苦', '，', '为', '革', '命', '没', '有', '满', '足', '的', '时', '候', '。', '在', '无', '产', '阶', '级', '文', '化', '大', '革', '命', '中', '，', '他', '们', '彻', '底', '批', '判', '了', '叛', '徒', '、', '内', '奸', '、', '工', '贼', '刘', '少', '奇', '的', '反', '革', '命', '修', '正', '主', '义', '路', '线', '，', '使', '毛', '主', '席', '关', '于', '[UNK]', '独', '立', '自', '主', '、', '自', '力', '更', '生', '[UNK]', '的', '伟', '大', '思', '想', '，', '在', '全', '厂', '革', '命', '群', '众', '中', '深', '深', '地', '扎', '下', '了', '根', '。', '他', '们', '依', '靠', '工', '人', '阶', '级', '的', '革', '命', '精', '神', '的', '优', '势', '，', '使', '工', '厂', '的', '面', '貌', '发', '生', '了', '根', '本', '的', '变', '化', '。', '这', '个', '厂', '现', '有', '二', '百', '一', '十', '八', '人', '，', '已', '由', '生', '产', '单', '一', '品', '种', '发', '展', '到', '能', '够', '生', '产', '七', '十', '多', '种', '不', '同', '规', '格', '的', '产', '品', '，', '由', '炼', '废', '油', '到', '成', '批', '生', '产', '具', '有', '国', '内', '、', '国', '际', '先', '进', '水', '平', '的', '产', '品', '。', '一', '九', '六', '九', '年', '的', '总', '产', '值', '达', '到', '三', '百', '四', '十', '万', '元', '，', '比', '一', '九', '六', '六', '年', '提', '高', '百', '分', '之', '五', '十', '二', '点', '七', '，', '劳', '动', '生', '产', '率', '提', '高', '百', '分', '之', '六', '十', '四', '点', '七', '。', '十', '二', '年', '来', '，', '给', '国', '家', '上', '缴', '利', '润', '的', '总', '额', '为', '国', '家', '历', '年', '投', '资', '总', '额', '的', '四', '十', '倍', '。', '靠', '自', '己', '的', '力', '量', '艰', '苦', '创', '业', '建', '厂', '初', '期', '，', '一', '无', '厂', '房', '，', '二', '无', '设', '备', '，', '三', '无', '资', '金', '，', '四', '无', '技', '术', '，', '两', '手', '攥', '空', '拳', '，', '一', '穷', '二', '白', '。', '在', '这', '种', '情', '况', '下', '，', '怎', '样', '把', '工', '厂', '办', '起', '来', '？', '有', '人', '在', '一', '旁', '摇', '头', '了', '：', '[UNK]', '一', '个', '残', '废', '，', '一', '群', '婆', '婆', '娘', '娘', '，', '十', '二', '个', '半', '人', '，', '能', '办', '个', '啥', '工', '厂', '？', '[UNK]', '刘', '声', '，', '这', '个', '在', '抗', '美', '援', '朝', '战', '争', '中', '负', '了', '重', '伤', '、', '失', '去', '双', '手', '双', '脚', '的', '特', '等', '残', '废', '军', '人', '，', '坚', '定', '地', '回', '答', '：', '[UNK]', '没', '有', '双', '脚', '也', '要', '走', '革', '命', '路', '，', '没', '有', '双', '手', '也', '要', '开', '顶', '风', '船', '。', '半', '截', '人', '不', '当', '半', '截', '革', '命', '派', '！', '婆', '婆', '娘', '娘', '也', '要', '为', '建', '设', '社', '会', '主', '义', '添', '砖', '加', '瓦', '。', '[UNK]', '没', '有', '这', '个', '条', '件', '，', '没', '有', '那', '个', '条', '件', '，', '有', '了', '要', '革', '命', '的', '人', '，', '是', '最', '根', '本', '的', '条', '件', '。', '他', '们', '没', '有', '东', '西', '，', '七', '拼', '八', '凑', '，', '没', '有', '办', '法', '，', '七', '嘴', '八', '舌', '，', '用', '破', '席', '片', '、', '碎', '木', '板', '搭', '起', '了', '不', '遮', '风', '、', '不', '挡', '雨', '的', '席', '板', '棚', '，', '拣', '来', '砖', '头', '、', '石', '块', '垒', '起', '了', '锅', '台', '，', '到', '大', '工', '厂', '搜', '集', '废', '油', '作', '原', '料', '，', '三', '口', '大', '锅', '闹', '革', '命', '的', '火', '焰', '就', '这', '样', '点', '燃', '了', '。', '由', '于', '资', '金', '少', '，', '有', '几', '天', '就', '连', '这', '三', '口', '大', '锅', '也', '要', '断', '烟', '火', '。', '向', '国', '家', '要', '吗', '？', '工', '人', '们', '说', '：', '[UNK]', '决', '不', '能', '抽', '出', '大', '锅', '底', '下', '的', '火', '，', '炼', '咱', '们', '小', '锅', '里', '的', '油', '。', '[UNK]', '他', '们', '从', '家', '里', '拿', '引', '柴', '，', '到', '外', '边', '拣', '煤', '渣', '，', '咬', '紧', '牙', '关', '，', '迎', '着', '困', '难', '走', '。', '一', '九', '六', '一', '年', '，', '叛', '徒', '、', '内', '奸', '、', '工', '贼', '刘', '少', '奇', '在', '工', '业', '上', '刮', '起', '[UNK]', '关', '、', '停', '、', '并', '、', '转', '[UNK]', '的', '妖', '风', '。', '旧', '省', '委', '的', '一', '个', '走', '资', '派', '来', '到', '油', '脂', '厂', '，', '轻', '蔑', '地', '说', '：', '[UNK]', '这', '样', '的', '工', '厂', '，', '能', '搞', '出', '啥', '名', '堂', '？', '[UNK]', '不', '久', '，', '就', '卡', '掉', '了', '他', '们', '的', '原', '料', '，', '并', '要', '他', '们', '下', '马', '。', '工', '人', '们', '气', '愤', '地', '说', '：', '为', '什', '么', '国', '家', '需', '要', '的', '东', '西', '，', '不', '让', '我', '们', '生', '产', '？', '社', '会', '主', '义', '需', '要', '，', '我', '们', '就', '要', '生', '产', '。', '他', '们', '想', '尽', '一', '切', '办', '法', '，', '克', '服', '种', '种', '困', '难', '，', '坚', '持', '把', '厂', '办', '下', '去', '。', '一', '九', '六', '二', '年', '，', '工', '厂', '改', '为', '地', '方', '国', '营', '。', '有', '人', '认', '为', '，', '现', '在', '是', '原', '材', '料', '国', '家', '供', '应', '，', '产', '品', '国', '家', '包', '销', '，', '赔', '赚', '国', '家', '兜', '着', '，', '这', '下', '可', '熬', '出', '来', '了', '。', '在', '这', '种', '情', '况', '下', '，', '是', '继', '续', '把', '一', '切', '放', '在', '自', '己', '力', '量', '的', '基', '点', '上', '，', '还', '是', '事', '事', '向', '国', '家', '伸', '手', '，', '这', '是', '能', '不', '能', '沿', '着', '[UNK]', '独', '立', '自', '主', '、', '自', '力', '更', '生', '[UNK]', '道', '路', '继', '续', '前', '进', '的', '问', '题', '。', '工', '厂', '要', '建', '废', '油', '再', '生', '车', '间', '，', '有', '的', '同', '志', '提', '出', '个', '方', '案', '，', '要', '国', '家', '投', '资', '十', '一', '万', '元', '。', '这', '个', '方', '案', '引', '起', '了', '很', '大', '争', '论', '，', '多', '数', '工', '人', '不', '同', '意', '。', '他', '们', '说', '：', '[UNK]', '我', '们', '宁', '肯', '自', '己', '克', '服', '十', '分', '困', '难', '，', '决', '不', '给', '国', '家', '增', '添', '一', '分', '负', '担', '[UNK]', '，', '[UNK]', '社', '会', '主', '义', '不', '是', '等', '来', '的', '，', '也', '不', '是', '伸', '手', '要', '来', '的', '，', '要', '靠', '我', '们', '双', '手', '去', '创', '造', '[UNK]', '。', '全', '厂', '工', '人', '和', '干', '部', '一', '齐', '动', '手', '，', '把', '废', '旧', '设', '备', '切', '切', '割', '割', '，', '拼', '拼', '凑', '凑', '，', '拼', '成', '罐', '壁', '和', '釜', '壁', '，', '把', '不', '同', '规', '格', '的', '角', '钢', '和', '钢', '管', '焊', '接', '成', '支', '架', '，', '制', '成', '了', '三', '个', '洗', '涤', '罐', '、', '一', '个', '油', '水', '分', '离', '器', '，', '安', '装', '了', '两', '个', '蒸', '馏', '釜', '、', '两', '个', '冷', '却', '塔', '等', '设', '备', '。', '自', '己', '动', '手', '用', '大', '铁', '锤', '打', '出', '来', '一', '个', '二', '十', '八', '米', '高', '的', '铁', '烟', '囱', '。', '制', '作', '洗', '涤', '罐', '的', '碟', '形', '罐', '底', '，', '自', '己', '没', '有', '压', '力', '机', '和', '胎', '具', '，', '出', '去', '加', '工', '，', '要', '花', '许', '多', '钱', '。', '机', '修', '工', '人', '就', '在', '冻', '土', '地', '上', '按', '罐', '底', '形', '状', '挖', '一', '个', '大', '坑', '，', '把', '钢', '板', '烧', '红', '，', '架', '在', '坑', '上', '，', '用', '大', '木', '锤', '砸', '，', '奋', '战', '四', '十', '个', '小', '时', '，', '砸', '坏', '四', '十', '八', '把', '木', '锤', '，', '硬', '是', '打', '出', '来', '两', '个', '罐', '底', '。', '他', '们', '以', '蚂', '蚁', '啃', '骨', '头', '的', '精', '神', '，', '没', '要', '国', '家', '投', '资', '，', '建', '成', '了', '一', '个', '可', '以', '年', '处', '理', '两', '千', '五', '百', '吨', '的', '废', '油', '再', '生', '车', '间', '。', '无', '产', '阶', '级', '文', '化', '大', '革', '命', '，', '使', '自', '力', '更', '生', '的', '精', '神', '更', '加', '发', '扬', '光', '大', '。', '三', '年', '来', '，', '他', '们', '自', '己', '设', '计', '，', '自', '己', '施', '工', '，', '盖', '厂', '房', '、', '仓', '库', '四', '千', '一', '百', '二', '十', '平', '方', '米', '，', '等', '于', '前', '九', '年', '建', '筑', '面', '积', '的', '一', '倍', '半', '。', '在', '兄', '弟', '厂', '的', '支', '援', '和', '帮', '助', '下', '，', '自', '己', '制', '造', '、', '改', '制', '了', '六', '十', '八', '台', '主', '要', '设', '备', '，', '自', '己', '动', '手', '安', '装', '了', '全', '部', '设', '备', '，', '为', '国', '家', '节', '省', '了', '大', '量', '的', '资', '金', '和', '钢', '材', '。', '这', '个', '厂', '在', '[UNK]', '独', '立', '自', '主', '、', '自', '力', '更', '生', '[UNK]', '的', '道', '路', '上', '，', '在', '战', '胜', '困', '难', '的', '斗', '争', '中', '，', '立', '足', '于', '自', '己', '动', '手', '，', '立', '足', '于', '现', '有', '条', '件', '，', '立', '足', '于', '利', '废', '利', '旧', '；', '发', '扬', '吃', '大', '苦', '、', '耐', '大', '劳', '的', '老', '八', '路', '作', '风', '，', '发', '扬', '节', '约', '一', '分', '钱', '、', '一', '滴', '油', '的', '精', '神', '，', '发', '扬', '藐', '视', '一', '切', '困', '难', '的', '革', '命', '英', '雄', '气', '概', '。', '工', '人', '们', '说', '，', '这', '三', '个', '立', '足', '、', '三', '个', '发', '扬', '，', '是', '可', '贵', '的', '精', '神', '，', '可', '靠', '的', '办', '法', '，', '正', '确', '的', '道', '路', '。', '革', '命', '的', '需', '要', '，', '就', '是', '发', '展', '生', '产', '的', '方', '向', '[UNK]', '备', '战', '、', '备', '荒', '、', '为', '人', '民', '[UNK]', '，', '是', '毛', '主', '席', '的', '伟', '大', '战', '略', '思', '想', '，', '是', '革', '命', '的', '全', '局', '。', '油', '脂', '厂', '从', '这', '个', '全', '局', '出', '发', '，', '革', '命', '需', '要', '什', '么', '，', '就', '生', '产', '什', '么', '，', '把', '搞', '生', '产', '同', '建', '设', '社', '会', '主', '义', '和', '巩', '固', '无', '产', '阶', '级', '专', '政', '紧', '密', '地', '联', '系', '起', '来', '。', '这', '个', '厂', '遵', '循', '毛', '主', '席', '关', '于', '[UNK]', '以', '农', '业', '为', '基', '础', '、', '工', '业', '为', '主', '导', '[UNK]', '的', '伟', '大', '方', '针', '，', '积', '极', '地', '为', '农', '业', '服', '务', '。', '他', '们', '派', '人', '到', '农', '村', '去', '调', '查', '，', '了', '解', '到', '农', '村', '迫', '切', '需', '要', '大', '车', '油', '，', '就', '想', '办', '法', '生', '产', '。', '但', '是', '生', '产', '大', '车', '油', '，', '开', '始', '每', '吨', '要', '亏', '损', '几', '十', '元', '。', '工', '人', '们', '说', '：', '毛', '主', '席', '号', '召', '支', '援', '农', '业', '，', '生', '产', '不', '生', '产', '大', '车', '油', '，', '不', '是', '赔', '钱', '不', '赔', '钱', '的', '问', '题', '，', '而', '是', '一', '个', '坚', '持', '什', '么', '政', '治', '方', '向', '的', '问', '题', '，', '我', '们', '一', '定', '要', '干', '，', '亏', '损', '是', '可', '以', '解', '决', '的', '。', '旧', '市', '委', '的', '一', '小', '撮', '走', '资', '派', '，', '以', '赔', '本', '买', '卖', '不', '能', '搞', '为', '名', '，', '逼', '着', '油', '脂', '厂', '把', '大', '车', '油', '生', '产', '停', '下', '来', '。', '无', '产', '阶', '级', '文', '化', '大', '革', '命', '中', '，', '工', '人', '们', '彻', '底', '批', '判', '了', '刘', '少', '奇', '的', '[UNK]', '利', '润', '挂', '帅', '[UNK]', '的', '修', '正', '主', '义', '黑', '货', '，', '承', '担', '了', '生', '产', '全', '省', '农', '村', '需', '用', '的', '大', '车', '油', '的', '任', '务', '。', '他', '们', '突', '出', '无', '产', '阶', '级', '政', '治', '，', '加', '强', '管', '理', '，', '降', '低', '成', '本', '，', '很', '快', '地', '扭', '转', '了', '亏', '损', '局', '面', '。', '现', '在', '，', '每', '吨', '成', '本', '由', '五', '百', '三', '十', '元', '降', '到', '三', '百', '五', '十', '五', '元', '，', '售', '价', '也', '大', '大', '下', '降', '，', '深', '受', '贫', '下', '中', '农', '的', '欢', '迎', '。', '他', '们', '搞', '生', '产', '，', '不', '怕', '麻', '烦', '不', '怕', '少', '，', '革', '命', '需', '要', '坚', '决', '搞', '。', '一', '个', '发', '电', '厂', '为', '了', '攀', '登', '一', '项', '技', '术', '高', '峰', '，', '需', '要', '少', '量', '的', '导', '轨', '油', '。', '油', '脂', '厂', '的', '工', '人', '知', '道', '后', '，', '为', '了', '长', '无', '产', '阶', '级', '的', '志', '气', '，', '打', '掉', '修', '正', '主', '义', '在', '这', '个', '问', '题', '上', '卡', '我', '们', '的', '脖', '子', '的', '妄', '想', '，', '立', '即', '接', '受', '了', '这', '项', '任', '务', '。', '他', '们', '克', '服', '了', '很', '多', '困', '难', '，', '在', '较', '短', '的', '时', '间', '内', '就', '试', '制', '成', '功', '了', '，', '帮', '助', '发', '电', '厂', '解', '决', '了', '困', '难', '。', '自', '觉', '地', '考', '虑', '到', '全', '局', '的', '需', '要', '，', '急', '革', '命', '所', '急', '，', '急', '战', '备', '所', '需', '。', '一', '九', '六', '九', '年', '，', '厂', '革', '委', '会', '的', '一', '个', '领', '导', '成', '员', '，', '到', '附', '近', '一', '个', '工', '厂', '联', '系', '工', '作', '，', '在', '打', '电', '话', '时', '看', '到', '该', '厂', '记', '事', '板', '上', '写', '着', '：', '[UNK]', '速', '给', '无', '锡', '去', '电', '，', '急', '运', '透', '明', '硫', '化', '切', '削', '油', '。', '[UNK]', '他', '回', '厂', '之', '后', '，', '和', '工', '人', '们', '一', '道', '讨', '论', '，', '认', '为', '我', '们', '两', '个', '厂', '只', '隔', '一', '条', '路', '，', '他', '们', '急', '需', '的', '油', '，', '却', '要', '从', '数', '千', '里', '外', '运', '来', '，', '不', '利', '于', '备', '战', '。', '这', '个', '厂', '就', '马', '上', '进', '行', '试', '制', '，', '经', '过', '反', '复', '试', '验', '，', '很', '快', '就', '赶', '制', '出', '来', '，', '热', '情', '地', '送', '上', '门', '去', '，', '并', '主', '动', '地', '承', '担', '了', '长', '期', '供', '应', '的', '任', '务', '。', '在', '落', '实', '党', '的', '[UNK]', '九', '大', '[UNK]', '提', '出', '的', '各', '项', '战', '斗', '任', '务', '中', '，', '他', '们', '了', '解', '到', '有', '关', '单', '位', '正', '在', '为', '试', '制', '一', '项', '重', '要', '战', '备', '产', '品', '千', '方', '百', '计', '地', '攻', '关', '，', '就', '主', '动', '派', '人', '参', '加', '战', '斗', '。', '同', '时', '，', '在', '厂', '内', '组', '织', '了', '一', '个', '攻', '关', '小', '组', '，', '以', '只', '争', '朝', '夕', '的', '革', '命', '精', '神', '，', '战', '胜', '了', '重', '重', '困', '难', '，', '很', '快', '地', '试', '制', '成', '功', '了', '，', '经', '有', '关', '单', '位', '鉴', '定', '，', '完', '全', '符', '合', '要', '求', '，', '为', '加', '强', '战', '备', '做', '出', '了', '贡', '献', '。', '为', '革', '命', '节', '省', '每', '一', '个', '铜', '板', '伟', '大', '领', '袖', '毛', '主', '席', '教', '导', '说', '：', '[UNK]', '节', '省', '每', '一', '个', '铜', '板', '为', '着', '战', '争', '和', '革', '命', '事', '业', '[UNK]', '。', '为', '革', '命', '，', '节', '约', '一', '滴', '油', '、', '一', '块', '煤', '、', '一', '度', '电', '、', '一', '分', '钱', '，', '是', '油', '脂', '厂', '的', '优', '良', '传', '统', '。', '十', '二', '年', '来', '，', '工', '厂', '由', '穷', '变', '富', '，', '但', '是', '这', '个', '传', '统', '一', '直', '没', '有', '变', '。', '工', '人', '们', '说', '：', '节', '俭', '过', '日', '子', '，', '才', '能', '越', '过', '越', '革', '命', '。', '有', '一', '年', '，', '油', '脂', '厂', '为', '市', '粮', '食', '局', '加', '工', '一', '批', '桐', '油', '。', '工', '人', '在', '加', '工', '中', '，', '珍', '惜', '每', '一', '滴', '油', '，', '把', '掉', '在', '地', '下', '的', '用', '手', '抿', '起', '来', '，', '把', '沾', '在', '抹', '布', '上', '的', '煮', '出', '来', '，', '把', '留', '在', '桶', '底', '上', '的', '用', '羹', '匙', '刮', '下', '来', '。', '点', '点', '滴', '滴', '汇', '大', '川', '，', '由', '于', '加', '强', '管', '理', '，', '降', '低', '消', '耗', '，', '节', '省', '出', '来', '二', '十', '吨', '桐', '油', '，', '价', '值', '四', '万', '元', '。', '有', '人', '提', '出', '，', '把', '这', '批', '油', '留', '下', '，', '解', '决', '工', '厂', '的', '困', '难', '，', '这', '是', '合', '理', '合', '法', '。', '老', '工', '人', '不', '同', '意', '，', '他', '们', '说', '：', '增', '产', '节', '约', '是', '我', '们', '的', '本', '份', '，', '节', '约', '归', '自', '己', '，', '合', '的', '是', '本', '位', '主', '义', '的', '理', '，', '合', '的', '是', '私', '有', '观', '念', '的', '法', '。', '油', '脂', '厂', '工', '人', '坚', '决', '把', '二', '十', '吨', '桐', '油', '交', '给', '了', '国', '家', '。', '随', '着', '工', '厂', '的', '扩', '大', '，', '工', '人', '的', '增', '加', '，', '一', '九', '六', '九', '年', '年', '初', '，', '厂', '革', '委', '会', '计', '划', '用', '本', '厂', '积', '累', '的', '十', '六', '万', '元', '盖', '宿', '舍', '和', '会', '议', '室', '。', '准', '备', '动', '工', '的', '时', '候', '，', '党', '的', '[UNK]', '九', '大', '[UNK]', '胜', '利', '召', '开', '了', '。', '革', '委', '会', '主', '任', '刘', '声', '在', '厂', '里', '落', '实', '[UNK]', '九', '大', '[UNK]', '精', '神', '的', '毛', '泽', '东', '思', '想', '学', '习', '班', '上', '提', '出', '一', '个', '建', '议', '：', '宿', '舍', '和', '会', '议', '室', '暂', '时', '不', '盖', '，', '用', '十', '六', '万', '元', '再', '建', '一', '个', '高', '温', '润', '滑', '脂', '车', '间', '，', '把', '原', '来', '为', '建', '这', '个', '车', '间', '国', '家', '同', '意', '给', '的', '三', '十', '七', '万', '元', '和', '一', '百', '吨', '钢', '材', '节', '省', '下', '来', '。', '这', '个', '建', '议', '引', '起', '了', '工', '人', '们', '很', '大', '的', '注', '意', '，', '进', '行', '了', '热', '烈', '的', '讨', '论', '。', '从', '这', '个', '厂', '的', '实', '际', '情', '况', '来', '看', '，', '盖', '宿', '舍', '和', '会', '议', '室', '是', '需', '要', '的', '，', '但', '他', '们', '想', '到', '毛', '主', '席', '[UNK]', '备', '战', '、', '备', '荒', '、', '为', '人', '民', '[UNK]', '的', '伟', '大', '教', '导', '，', '认', '为', '应', '当', '把', '钱', '花', '在', '刀', '刃', '上', '。', '结', '果', '，', '他', '们', '既', '没', '有', '建', '宿', '舍', '和', '会', '议', '室', '，', '也', '没', '有', '新', '建', '高', '温', '润', '滑', '脂', '车', '间', '，', '把', '这', '十', '六', '万', '元', '用', '来', '建', '了', '一', '个', '生', '产', '新', '产', '品', '的', '车', '间', '；', '同', '时', '，', '利', '用', '废', '旧', '材', '料', '改', '建', '了', '一', '个', '高', '温', '润', '滑', '脂', '车', '间', '，', '改', '进', '了', '工', '艺', '，', '提', '高', '了', '生', '产', '能', '力', '二', '十', '倍', '。', '工', '人', '们', '说', '：', '[UNK]', '这', '才', '是', '咱', '们', '三', '口', '大', '锅', '闹', '革', '命', '的', '精', '神', '，', '这', '才', '是', '油', '脂', '厂', '自', '力', '更', '生', '、', '艰', '苦', '创', '业', '的', '老', '传', '统', '。', '钱', '，', '就', '应', '该', '这', '样', '花', '。', '[UNK]', '他', '们', '在', '生', '产', '中', '，', '坚', '持', '无', '产', '阶', '级', '政', '治', '挂', '帅', '，', '发', '动', '广', '大', '工', '人', '群', '众', '，', '人', '人', '参', '加', '管', '理', '，', '个', '个', '当', '家', '理', '财', '，', '班', '班', '组', '组', '有', '消', '耗', '记', '录', '，', '班', '班', '组', '组', '有', '核', '算', '，', '建', '立', '了', '一', '套', '合', '理', '的', '、', '行', '之', '有', '效', '的', '管', '理', '制', '度', '，', '使', '产', '品', '质', '量', '不', '断', '提', '高', '，', '成', '本', '不', '断', '降', '低', '，', '为', '国', '家', '提', '供', '的', '积', '累', '越', '来', '越', '多', '。', '走', '自', '己', '技', '术', '发', '展', '的', '道', '路', '油', '脂', '厂', '遵', '照', '毛', '主', '席', '[UNK]', '打', '破', '洋', '框', '框', '，', '走', '自', '己', '工', '业', '发', '展', '道', '路', '[UNK]', '的', '伟', '大', '教', '导', '，', '为', '革', '命', '掌', '握', '技', '术', '，', '为', '革', '命', '攀', '登', '技', '术', '高', '峰', '，', '走', '立', '足', '于', '土', '、', '从', '土', '到', '洋', '、', '土', '洋', '结', '合', '的', '道', '路', '。', '开', '始', '创', '业', '的', '革', '命', '工', '人', '，', '在', '技', '术', '上', '是', '一', '张', '白', '纸', '，', '既', '没', '有', '进', '过', '工', '厂', '，', '更', '不', '懂', '炼', '油', '技', '术', '。', '厂', '里', '有', '一', '个', '自', '称', '[UNK]', '油', '脂', '专', '家', '[UNK]', '的', '人', '，', '把', '自', '己', '懂', '得', '的', '一', '星', '半', '点', '技', '术', '，', '当', '做', '[UNK]', '祖', '传', '秘', '方', '[UNK]', '，', '实', '际', '上', '只', '掌', '握', '了', '几', '张', '配', '料', '单', '，', '变', '来', '变', '去', '，', '糊', '弄', '群', '众', '。', '老', '工', '人', '在', '一', '块', '合', '计', '：', '[UNK]', '这', '个', '人', '和', '咱', '们', '不', '是', '一', '条', '心', '，', '咱', '们', '不', '能', '傻', '干', '，', '要', '下', '决', '心', '掌', '握', '技', '术', '。', '办', '工', '厂', '，', '发', '展', '技', '术', '，', '要', '依', '靠', '咱', '们', '。', '[UNK]', '工', '人', '们', '奋', '发', '图', '强', '，', '刻', '苦', '钻', '研', '，', '用', '手', '摸', '、', '眼', '睛', '看', '、', '鼻', '子', '闻', '、', '舌', '头', '舔', '的', '办', '法', '，', '检', '验', '产', '品', '质', '量', '，', '边', '干', '边', '学', '，', '逐', '步', '地', '掌', '握', '了', '技', '术', '。', '过', '去', '是', '普', '普', '通', '通', '的', '家', '庭', '妇', '女', '，', '现', '在', '已', '经', '能', '熟', '练', '地', '掌', '握', '大', '部', '分', '产', '品', '的', '生', '产', '技', '术', '。', '这', '个', '厂', '在', '产', '品', '试', '制', '、', '工', '艺', '设', '计', '、', '建', '筑', '安', '装', '等', '方', '面', '，', '都', '成', '长', '起', '来', '一', '支', '自', '己', '的', '、', '一', '专', '多', '能', '的', '技', '术', '队', '伍', '。', '油', '脂', '厂', '在', '对', '待', '技', '术', '、', '设', '备', '上', '，', '根', '据', '自', '己', '的', '需', '要', '和', '可', '能', '，', '充', '分', '利', '用', '现', '有', '的', '条', '件', '，', '能', '洋', '就', '洋', '，', '不', '能', '洋', '就', '土', '，', '从', '土', '到', '洋', '，', '土', '洋', '结', '合', '。', '他', '们', '在', '生', '产', '中', '，', '不', '断', '总', '结', '群', '众', '的', '实', '践', '经', '验', '，', '一', '步', '一', '步', '地', '发', '展', '，', '一', '步', '一', '步', '地', '提', '高', '，', '创', '造', '出', '一', '套', '科', '学', '的', '、', '合', '理', '的', '、', '符', '合', '实', '际', '的', '工', '艺', '流', '程', '和', '生', '产', '设', '备', '。', '例', '如', '，', '要', '提', '高', '钙', '基', '润', '滑', '脂', '的', '质', '量', '，', '必', '须', '低', '温', '出', '罐', '。', '开', '始', '没', '有', '低', '温', '出', '罐', '的', '设', '备', '，', '油', '脂', '变', '稠', '淌', '不', '出', '来', '，', '工', '人', '们', '在', '摄', '氏', '一', '百', '度', '左', '右', '的', '条', '件', '下', '，', '不', '怕', '烤', '，', '不', '怕', '烫', '，', '硬', '是', '用', '大', '铁', '杓', '一', '杓', '一', '杓', '地', '掏', '出', '来', '。', '他', '们', '一', '边', '坚', '持', '生', '产', '，', '一', '边', '改', '造', '设', '备', '，', '一', '边', '改', '进', '工', '艺', '流', '程', '，', '经', '过', '两', '年', '来', '的', '不', '断', '努', '力', '，', '从', '直', '火', '加', '温', '到', '蒸', '气', '加', '温', '，', '从', '单', '层', '釜', '到', '双', '层', '釜', '，', '从', '人', '工', '搅', '拌', '到', '机', '械', '搅', '拌', '、', '双', '向', '搅', '拌', '，', '[UNK]', '土', '办', '法', '[UNK]', '逐', '步', '地', '变', '成', '土', '洋', '结', '合', '的', '办', '法', '，', '初', '级', '的', '东', '西', '变', '成', '了', '高', '级', '的', '东', '西', '，', '生', '产', '也', '实', '现', '了', '机', '械', '化', '、', '管', '道', '化', '，', '使', '钙', '基', '润', '滑', '脂', '的', '质', '量', '赶', '上', '了', '国', '内', '同', '类', '产', '品', '的', '先', '进', '水', '平', '。', '他', '们', '经', '常', '给', '自', '己', '出', '难', '题', '，', '大', '破', '洋', '奴', '哲', '学', '，', '为', '革', '命', '攀', '登', '技', '术', '高', '峰', '。', '一', '九', '六', '五', '年', '，', '我', '国', '的', '一', '种', '生', '产', '设', '备', '，', '需', '要', '一', '种', '非', '皂', '基', '高', '温', '润', '滑', '脂', '。', '资', '本', '主', '义', '国', '家', '用', '高', '价', '和', '苛', '刻', '的', '条', '件', '来', '卡', '我', '们', '。', '工', '人', '们', '听', '到', '这', '个', '消', '息', '，', '都', '非', '常', '气', '愤', '，', '强', '烈', '要', '求', '承', '担', '这', '个', '任', '务', '。', '伟', '大', '领', '袖', '毛', '主', '席', '教', '导', '说', '：', '[UNK]', '我', '们', '不', '能', '走', '世', '界', '各', '国', '技', '术', '发', '展', '的', '老', '路', '，', '跟', '在', '别', '人', '后', '面', '一', '步', '一', '步', '地', '爬', '行', '。', '[UNK]', '油', '脂', '厂', '的', '工', '人', '和', '技', '术', '人', '员', '拿', '出', '革', '命', '加', '拚', '命', '的', '精', '神', '攻', '难', '关', '。', '负', '责', '这', '项', '试', '验', '工', '作', '的', '佟', '硕', '林', '同', '志', '，', '是', '个', '只', '念', '过', '六', '年', '书', '的', '工', '人', '技', '术', '员', '，', '他', '患', '有', '严', '重', '的', '十', '二', '指', '肠', '溃', '疡', '和', '胆', '囊', '炎', '，', '经', '常', '发', '高', '烧', '，', '但', '他', '以', '惊', '人', '的', '毅', '力', '，', '一', '直', '坚', '持', '在', '战', '斗', '岗', '位', '上', '。', '他', '们', '为', '了', '找', '一', '种', '原', '料', '，', '跑', '了', '十', '一', '个', '省', '、', '区', '，', '取', '回', '三', '十', '三', '种', '样', '品', '，', '经', '过', '一', '百', '零', '八', '次', '试', '验', '，', '攻', '克', '了', '一', '道', '道', '难', '关', '，', '终', '于', '试', '制', '成', '功', '。', '工', '人', '们', '又', '提', '出', '了', '更', '高', '的', '奋', '斗', '目', '标', '，', '一', '定', '要', '把', '资', '本', '主', '义', '国', '家', '甩', '在', '我', '们', '后', '边', '。', '这', '里', '的', '关', '键', '问', '题', '，', '是', '要', '改', '造', '一', '种', '稠', '化', '剂', '的', '性', '能', '。', '工', '人', '和', '技', '术', '人', '员', '敢', '想', '敢', '干', '，', '在', '有', '关', '单', '位', '的', '帮', '助', '下', '，', '用', '土', '办', '法', '大', '胆', '试', '验', '，', '仅', '用', '六', '十', '天', '的', '时', '间', '，', '就', '拿', '下', '来', '了', '。', '经', '过', '对', '比', '试', '验', '，', '资', '本', '主', '义', '国', '家', '的', '非', '皂', '基', '高', '温', '润', '滑', '脂', '，', '使', '用', '一', '次', '只', '能', '连', '续', '运', '转', '六', '个', '月', '，', '这', '个', '厂', '生', '产', '的', '同', '类', '产', '品', '，', '可', '以', '连', '续', '运', '转', '十', '一', '个', '月', '。', '把', '这', '种', '润', '滑', '脂', '用', '在', '机', '车', '发', '电', '机', '上', '，', '比', '一', '般', '润', '滑', '脂', '使', '用', '时', '间', '提', '高', '五', '十', '倍', '以', '上', '；', '用', '在', '轧', '钢', '厂', '大', '型', '剪', '断', '机', '的', '辊', '道', '轴', '承', '上', '，', '比', '用', '原', '来', '的', '润', '滑', '脂', '使', '用', '时', '间', '提', '高', '九', '百', '七', '十', '一', '倍', '。', '油', '脂', '厂', '立', '足', '于', '自', '己', '动', '手', '，', '技', '术', '上', '敢', '攀', '高', '峰', '，', '敢', '走', '前', '人', '没', '有', '走', '过', '的', '路', '，', '他', '们', '要', '干', '的', '，', '就', '下', '决', '心', '一', '定', '干', '成', '。', '现', '在', '，', '他', '们', '生', '产', '的', '九', '个', '品', '种', '、', '二', '十', '八', '个', '规', '格', '的', '定', '型', '产', '品', '，', '都', '是', '靠', '自', '己', '摸', '索', '搞', '出', '来', '的', '。', '有', '革', '命', '化', '的', '人', '，', '才', '能', '有', '革', '命', '化', '的', '工', '厂', '油', '脂', '厂', '办', '成', '一', '个', '革', '命', '化', '的', '、', '社', '会', '主', '义', '的', '企', '业', '，', '有', '许', '多', '经', '验', '，', '而', '最', '根', '本', '的', '一', '条', '是', '，', '在', '毛', '泽', '东', '思', '想', '哺', '育', '下', '，', '经', '过', '阶', '级', '斗', '争', '、', '生', '产', '斗', '争', '、', '科', '学', '实', '验', '三', '大', '革', '命', '运', '动', '的', '锻', '炼', '，', '成', '长', '起', '一', '支', '革', '命', '化', '的', '队', '伍', '。', '有', '了', '革', '命', '化', '的', '人', '，', '才', '能', '有', '革', '命', '化', '的', '工', '厂', '。', '这', '个', '厂', '有', '一', '个', '革', '命', '化', '的', '领', '导', '班', '子', '。', '他', '们', '活', '学', '活', '用', '毛', '泽', '东', '思', '想', '，', '坚', '定', '地', '按', '毛', '主', '席', '指', '示', '办', '事', '，', '带', '头', '学', '，', '自', '觉', '革', '命', '化', '；', '带', '头', '干', '，', '自', '觉', '做', '样', '子', '；', '带', '头', '闯', '，', '勇', '于', '担', '风', '险', '。', '他', '们', '把', '毛', '主', '席', '关', '于', '[UNK]', '自', '力', '更', '生', '[UNK]', '、', '[UNK]', '艰', '苦', '奋', '斗', '[UNK]', '、', '[UNK]', '勤', '俭', '办', '工', '厂', '[UNK]', '的', '伟', '大', '教', '导', '，', '作', '为', '办', '工', '厂', '的', '座', '右', '铭', '，', '经', '常', '学', '，', '反', '复', '学', '，', '指', '导', '自', '己', '的', '行', '动', '。', '他', '们', '每', '干', '一', '件', '事', '情', '，', '首', '先', '看', '到', '的', '是', '人', '的', '因', '素', '，', '深', '信', '自', '力', '更', '生', '的', '[UNK]', '力', '[UNK]', '蕴', '藏', '在', '广', '大', '群', '众', '之', '中', '。', '他', '们', '紧', '紧', '地', '同', '群', '众', '联', '系', '在', '一', '起', '，', '人', '不', '离', '劳', '动', '，', '心', '不', '离', '群', '众', '，', '哪', '里', '有', '困', '难', '，', '就', '出', '现', '在', '哪', '里', '，', '分', '不', '清', '谁', '是', '工', '人', '，', '谁', '是', '领', '导', '干', '部', '。', '革', '委', '会', '的', '一', '位', '副', '主', '任', '，', '一', '年', '到', '头', '手', '不', '离', '[UNK]', '三', '把', '[UNK]', '：', '锤', '把', '、', '钳', '把', '和', '锹', '把', '，', '被', '群', '众', '称', '为', '[UNK]', '革', '命', '的', '老', '黄', '牛', '，', '艰', '苦', '奋', '斗', '的', '好', '打', '头', '。', '[UNK]', '刘', '声', '同', '志', '在', '铺', '设', '铁', '路', '专', '用', '线', '时', '，', '跟', '着', '汽', '车', '到', '林', '区', '拉', '枕', '木', '，', '和', '大', '家', '一', '起', '爬', '山', '，', '断', '腿', '被', '假', '腿', '磨', '出', '了', '血', '，', '还', '坚', '持', '往', '上', '爬', '。', '汽', '车', '司', '机', '劝', '他', '不', '要', '再', '爬', '了', '，', '他', '说', '：', '[UNK]', '革', '命', '没', '有', '平', '坦', '的', '路', '，', '革', '命', '就', '得', '爬', '坡', '，', '我', '要', '为', '消', '灭', '帝', '修', '反', '、', '解', '放', '全', '人', '类', '爬', '一', '辈', '子', '坡', '。', '[UNK]', '工', '人', '们', '说', '：', '有', '了', '一', '心', '跟', '着', '毛', '主', '席', '干', '革', '命', '的', '领', '导', '班', '子', '，', '自', '力', '更', '生', '的', '革', '命', '道', '路', '就', '越', '走', '越', '宽', '广', '。', '这', '个', '厂', '的', '领', '导', '班', '子', '，', '用', '毛', '泽', '东', '思', '想', '带', '出', '了', '一', '支', '心', '红', '骨', '硬', '的', '骨', '干', '队', '伍', '。', '这', '个', '队', '伍', '里', '，', '有', '在', '无', '产', '阶', '级', '文', '化', '大', '革', '命', '中', '勇', '敢', '捍', '卫', '毛', '主', '席', '无', '产', '阶', '级', '革', '命', '路', '线', '的', '闯', '将', '，', '有', '十', '二', '年', '如', '一', '日', '艰', '苦', '创', '业', '的', '老', '工', '人', '，', '有', '经', '过', '人', '民', '解', '放', '军', '大', '学', '校', '培', '养', '的', '复', '员', '、', '转', '业', '军', '人', '，', '有', '自', '觉', '地', '接', '受', '工', '人', '阶', '级', '再', '教', '育', '的', '青', '年', '知', '识', '分', '子', '。', '他', '们', '亲', '自', '参', '加', '了', '改', '变', '油', '脂', '厂', '一', '穷', '二', '白', '面', '貌', '的', '战', '斗', '，', '对', '自', '力', '更', '生', '、', '艰', '苦', '创', '业', '有', '着', '深', '厚', '的', '无', '产', '阶', '级', '感', '情', '。', '他', '们', '爱', '厂', '，', '更', '爱', '社', '会', '主', '义', '。', '五', '十', '多', '岁', '的', '老', '工', '人', '祝', '玉', '书', '，', '原', '是', '一', '个', '家', '庭', '妇', '女', '，', '饱', '尝', '过', '旧', '社', '会', '的', '苦', '难', '，', '对', '毛', '主', '席', '无', '限', '热', '爱', '。', '她', '刻', '苦', '地', '活', '学', '活', '用', '毛', '泽', '东', '思', '想', '，', '实', '心', '实', '意', '地', '听', '毛', '主', '席', '的', '话', '，', '党', '叫', '干', '啥', '就', '干', '啥', '，', '勤', '勤', '恳', '恳', '，', '兢', '兢', '业', '业', '，', '尽', '心', '尽', '力', '地', '建', '设', '社', '会', '主', '义', '。', '她', '常', '说', '：', '[UNK]', '党', '是', '妈', '，', '厂', '是', '家', '，', '我', '听', '党', '的', '话', '，', '我', '爱', '我', '的', '家', '。', '[UNK]', '在', '无', '产', '阶', '级', '文', '化', '大', '革', '命', '中', '，', '她', '光', '荣', '地', '加', '入', '了', '伟', '大', '的', '中', '国', '共', '产', '党', '，', '成', '为', '无', '产', '阶', '级', '的', '先', '锋', '战', '士', '。', '油', '脂', '厂', '十', '分', '注', '意', '对', '新', '的', '一', '代', '进', '行', '革', '命', '传', '统', '教', '育', '，', '让', '自', '力', '更', '生', '的', '革', '命', '精', '神', '代', '代', '相', '传', '。', '对', '新', '入', '厂', '的', '工', '人', '、', '干', '部', '和', '技', '术', '人', '员', '上', '的', '第', '一', '课', '，', '就', '是', '进', '行', '[UNK]', '独', '立', '自', '主', '、', '自', '力', '更', '生', '[UNK]', '的', '教', '育', '，', '讲', '厂', '史', '，', '打', '上', '[UNK]', '三', '口', '大', '锅', '闹', '革', '命', '[UNK]', '的', '烙', '印', '。', '老', '工', '人', '对', '青', '年', '工', '人', '言', '传', '身', '带', '。', '有', '个', '中', '专', '毕', '业', '生', '刚', '进', '厂', '时', '，', '认', '为', '厂', '小', '没', '出', '息', '，', '一', '提', '到', '[UNK]', '三', '口', '大', '锅', '[UNK]', '就', '觉', '得', '很', '不', '光', '彩', '。', '有', '一', '次', '，', '她', '把', '一', '副', '用', '脏', '了', '的', '手', '套', '顺', '手', '扔', '掉', '，', '老', '工', '人', '不', '声', '不', '响', '地', '拣', '起', '来', '，', '洗', '净', '补', '好', '。', '当', '她', '搬', '砖', '头', '没', '有', '手', '套', '时', '，', '老', '工', '人', '把', '这', '副', '手', '套', '递', '给', '她', '，', '语', '重', '心', '长', '地', '说', '：', '[UNK]', '我', '们', '三', '口', '大', '锅', '闹', '革', '命', '的', '时', '候', '，', '哪', '有', '手', '套', '啊', '！', '你', '们', '要', '接', '好', '艰', '苦', '奋', '斗', '的', '班', '！', '[UNK]', '在', '老', '工', '人', '的', '帮', '助', '下', '，', '这', '个', '青', '年', '人', '的', '思', '想', '逐', '渐', '地', '发', '生', '了', '变', '化', '。', '最', '近', '，', '她', '到', '市', '里', '买', '玻', '璃', '仪', '器', '，', '雇', '车', '得', '花', '五', '元', '钱', '。', '她', '想', '：', '五', '元', '钱', '，', '这', '可', '是', '我', '们', '建', '厂', '资', '金', '的', '五', '分', '之', '一', '呀', '！', '她', '不', '辞', '辛', '苦', '，', '往', '返', '两', '次', '，', '背', '回', '了', '仪', '器', '。', '一', '代', '新', '人', '正', '在', '自', '力', '更', '生', '的', '沃', '土', '上', '茁', '壮', '成', '长', '。', '[UNK]', '如', '果', '过', '去', '也', '讲', '自', '力', '更', '生', '，', '那', '末', '，', '在', '新', '的', '国', '际', '环', '境', '下', '，', '自', '力', '更', '生', '就', '更', '加', '重', '要', '。', '[UNK]', '面', '对', '美', '帝', '国', '主', '义', '、', '社', '会', '帝', '国', '主', '义', '的', '战', '争', '威', '胁', '，', '吉', '林', '市', '油', '脂', '厂', '的', '革', '命', '群', '众', '，', '紧', '跟', '毛', '主', '席', '的', '伟', '大', '战', '略', '部', '署', '，', '从', '战', '备', '需', '要', '出', '发', '，', '决', '心', '[UNK]', '爬', '坡', '要', '爬', '最', '陡', '的', '坡', '，', '登', '山', '要', '登', '最', '高', '的', '山', '[UNK]', '，', '夺', '取', '自', '力', '更', '生', '的', '新', '的', '更', '大', '的', '胜', '利', '。', '吉', '林', '省', '革', '命', '委', '员', '会', '吉', '林', '市', '革', '命', '委', '员', '会', '调', '查', '组', '（', '原', '载', '《', '红', '旗', '》', '杂', '志', '一', '九', '七', '○', '年', '第', '一', '期', '）']\n",
            "Token IDs:  [1462, 3766, 3300, 1046, 3302, 679, 749, 4638, 1737, 7410, 100, 100, 1395, 3360, 2356, 3779, 5544, 1322, 5632, 1213, 3291, 4495, 510, 5680, 5736, 1158, 689, 4638, 6444, 3389, 2845, 1440, 517, 5273, 3186, 518, 3325, 2562, 5356, 5442, 2902, 8038, 1395, 3360, 2356, 3779, 5544, 1322, 4638, 752, 6839, 8024, 3221, 671, 3289, 5632, 1213, 3291, 4495, 510, 5680, 5736, 1939, 3159, 510, 1249, 933, 1215, 2339, 1322, 4638, 1896, 714, 4638, 6614, 3625, 511, 794, 6821, 7027, 8024, 782, 812, 1377, 809, 4692, 1168, 4500, 3688, 3813, 691, 2590, 2682, 3636, 6163, 6629, 3341, 4638, 836, 1920, 4638, 704, 1744, 782, 3696, 3187, 4956, 3187, 2226, 4638, 1158, 6863, 1213, 7030, 511, 3688, 712, 2375, 2900, 1139, 8038, 100, 4852, 833, 4638, 6568, 2168, 3221, 2339, 782, 510, 1093, 3696, 1469, 1227, 1220, 4761, 6399, 1146, 2094, 5632, 2346, 1158, 6863, 4638, 511, 1372, 6206, 6821, 763, 782, 2958, 2995, 749, 5632, 2346, 4638, 1462, 6817, 8024, 1348, 3300, 671, 3340, 7716, 1046, 2590, 1154, 2123, 712, 721, 4638, 6662, 5296, 8024, 679, 3221, 1726, 6912, 7309, 7579, 8024, 5445, 3221, 4500, 4916, 3353, 4638, 2578, 2428, 1343, 6237, 1104, 7309, 7579, 8024, 818, 862, 782, 7313, 4638, 1737, 7410, 2600, 3221, 1377, 809, 6237, 1104, 4638, 511, 100, 6821, 2218, 3221, 2769, 812, 5526, 1164, 4638, 3975, 3787, 8024, 6821, 2218, 3221, 2769, 812, 1184, 6822, 4638, 3175, 1403, 511, 1395, 3360, 2356, 3779, 5544, 1322, 3221, 6816, 4708, 1920, 6645, 6822, 4638, 3856, 5782, 691, 7599, 6414, 4495, 4638, 511, 1066, 772, 1054, 1447, 510, 4294, 5023, 3655, 2426, 1092, 782, 1155, 1898, 2372, 7566, 1282, 753, 1399, 4164, 1092, 2247, 1469, 6125, 6887, 2233, 3696, 8024, 1122, 749, 753, 1282, 758, 1039, 6598, 7032, 8024, 676, 1366, 1920, 7222, 7317, 7484, 1462, 8024, 1215, 6629, 749, 671, 702, 3308, 3698, 5908, 1234, 510, 3615, 3615, 1403, 5783, 4638, 4852, 833, 712, 721, 821, 689, 511, 836, 1920, 7566, 6153, 3688, 712, 2375, 3136, 2193, 6432, 8038, 100, 2769, 812, 4638, 3175, 7151, 6206, 3123, 1762, 784, 720, 1825, 4157, 677, 8043, 3123, 1762, 5632, 2346, 1213, 7030, 4638, 1825, 4157, 677, 8024, 1373, 976, 5632, 1213, 3291, 4495, 511, 100, 6821, 702, 1322, 4638, 7484, 1462, 5408, 830, 8024, 1059, 2552, 1059, 2692, 1420, 3688, 712, 2375, 4638, 6413, 8024, 2902, 3688, 712, 2375, 4638, 2900, 4850, 1215, 752, 8024, 5632, 1213, 3291, 4495, 8024, 5680, 5736, 1158, 689, 8024, 711, 7484, 1462, 5445, 4495, 772, 8024, 4500, 7484, 1462, 5125, 4868, 3018, 4495, 772, 511, 1762, 6821, 7027, 8024, 5680, 7410, 7372, 7349, 510, 1737, 7410, 2919, 2835, 6963, 679, 1762, 6413, 678, 8024, 3817, 1958, 1528, 2110, 510, 4260, 6121, 712, 721, 1059, 4991, 679, 857, 5558, 511, 2339, 782, 812, 6432, 8038, 711, 7484, 1462, 3766, 3300, 1046, 3302, 679, 749, 4638, 1737, 7410, 8024, 711, 7484, 1462, 3766, 3300, 1391, 679, 749, 4638, 6789, 5736, 8024, 711, 7484, 1462, 3766, 3300, 4007, 6639, 4638, 3198, 952, 511, 1762, 3187, 772, 7348, 5277, 3152, 1265, 1920, 7484, 1462, 704, 8024, 800, 812, 2515, 2419, 2821, 1161, 749, 1361, 2530, 510, 1079, 1960, 510, 2339, 6592, 1155, 2208, 1936, 4638, 1353, 7484, 1462, 934, 3633, 712, 721, 6662, 5296, 8024, 886, 3688, 712, 2375, 1068, 754, 100, 4324, 4989, 5632, 712, 510, 5632, 1213, 3291, 4495, 100, 4638, 836, 1920, 2590, 2682, 8024, 1762, 1059, 1322, 7484, 1462, 5408, 830, 704, 3918, 3918, 1765, 2799, 678, 749, 3418, 511, 800, 812, 898, 7479, 2339, 782, 7348, 5277, 4638, 7484, 1462, 5125, 4868, 4638, 831, 1232, 8024, 886, 2339, 1322, 4638, 7481, 6505, 1355, 4495, 749, 3418, 3315, 4638, 1359, 1265, 511, 6821, 702, 1322, 4385, 3300, 753, 4636, 671, 1282, 1061, 782, 8024, 2347, 4507, 4495, 772, 1296, 671, 1501, 4905, 1355, 2245, 1168, 5543, 1916, 4495, 772, 673, 1282, 1914, 4905, 679, 1398, 6226, 3419, 4638, 772, 1501, 8024, 4507, 4159, 2426, 3779, 1168, 2768, 2821, 4495, 772, 1072, 3300, 1744, 1079, 510, 1744, 7354, 1044, 6822, 3717, 2398, 4638, 772, 1501, 511, 671, 736, 1063, 736, 2399, 4638, 2600, 772, 966, 6809, 1168, 676, 4636, 1724, 1282, 674, 1039, 8024, 3683, 671, 736, 1063, 1063, 2399, 2990, 7770, 4636, 1146, 722, 758, 1282, 753, 4157, 673, 8024, 1227, 1220, 4495, 772, 4372, 2990, 7770, 4636, 1146, 722, 1063, 1282, 1724, 4157, 673, 511, 1282, 753, 2399, 3341, 8024, 5314, 1744, 2157, 677, 5373, 1164, 3883, 4638, 2600, 7583, 711, 1744, 2157, 1325, 2399, 2832, 6598, 2600, 7583, 4638, 1724, 1282, 945, 511, 7479, 5632, 2346, 4638, 1213, 7030, 5680, 5736, 1158, 689, 2456, 1322, 1159, 3309, 8024, 671, 3187, 1322, 2791, 8024, 753, 3187, 6392, 1906, 8024, 676, 3187, 6598, 7032, 8024, 1724, 3187, 2825, 3318, 8024, 697, 2797, 3114, 4958, 2891, 8024, 671, 4956, 753, 4635, 511, 1762, 6821, 4905, 2658, 1105, 678, 8024, 2582, 3416, 2828, 2339, 1322, 1215, 6629, 3341, 8043, 3300, 782, 1762, 671, 3178, 3031, 1928, 749, 8038, 100, 671, 702, 3655, 2426, 8024, 671, 5408, 2038, 2038, 2023, 2023, 8024, 1282, 753, 702, 1288, 782, 8024, 5543, 1215, 702, 1567, 2339, 1322, 8043, 100, 1155, 1898, 8024, 6821, 702, 1762, 2834, 5401, 3001, 3308, 2773, 751, 704, 6566, 749, 7028, 839, 510, 1927, 1343, 1352, 2797, 1352, 5558, 4638, 4294, 5023, 3655, 2426, 1092, 782, 8024, 1780, 2137, 1765, 1726, 5031, 8038, 100, 3766, 3300, 1352, 5558, 738, 6206, 6624, 7484, 1462, 6662, 8024, 3766, 3300, 1352, 2797, 738, 6206, 2458, 7553, 7599, 5670, 511, 1288, 2779, 782, 679, 2496, 1288, 2779, 7484, 1462, 3836, 8013, 2038, 2038, 2023, 2023, 738, 6206, 711, 2456, 6392, 4852, 833, 712, 721, 3924, 4778, 1217, 4482, 511, 100, 3766, 3300, 6821, 702, 3340, 816, 8024, 3766, 3300, 6929, 702, 3340, 816, 8024, 3300, 749, 6206, 7484, 1462, 4638, 782, 8024, 3221, 3297, 3418, 3315, 4638, 3340, 816, 511, 800, 812, 3766, 3300, 691, 6205, 8024, 673, 2894, 1061, 1122, 8024, 3766, 3300, 1215, 3791, 8024, 673, 1673, 1061, 5649, 8024, 4500, 4788, 2375, 4275, 510, 4810, 3312, 3352, 3022, 6629, 749, 679, 6902, 7599, 510, 679, 2913, 7433, 4638, 2375, 3352, 3476, 8024, 2880, 3341, 4778, 1928, 510, 4767, 1779, 1799, 6629, 749, 7222, 1378, 8024, 1168, 1920, 2339, 1322, 3017, 7415, 2426, 3779, 868, 1333, 3160, 8024, 676, 1366, 1920, 7222, 7317, 7484, 1462, 4638, 4125, 4195, 2218, 6821, 3416, 4157, 4234, 749, 511, 4507, 754, 6598, 7032, 2208, 8024, 3300, 1126, 1921, 2218, 6825, 6821, 676, 1366, 1920, 7222, 738, 6206, 3171, 4170, 4125, 511, 1403, 1744, 2157, 6206, 1408, 8043, 2339, 782, 812, 6432, 8038, 100, 1104, 679, 5543, 2853, 1139, 1920, 7222, 2419, 678, 4638, 4125, 8024, 4159, 1493, 812, 2207, 7222, 7027, 4638, 3779, 511, 100, 800, 812, 794, 2157, 7027, 2897, 2471, 3395, 8024, 1168, 1912, 6804, 2880, 4209, 3942, 8024, 1490, 5165, 4280, 1068, 8024, 6816, 4708, 1737, 7410, 6624, 511, 671, 736, 1063, 671, 2399, 8024, 1361, 2530, 510, 1079, 1960, 510, 2339, 6592, 1155, 2208, 1936, 1762, 2339, 689, 677, 1167, 6629, 100, 1068, 510, 977, 510, 2400, 510, 6760, 100, 4638, 1973, 7599, 511, 3191, 4689, 1999, 4638, 671, 702, 6624, 6598, 3836, 3341, 1168, 3779, 5544, 1322, 8024, 6768, 5912, 1765, 6432, 8038, 100, 6821, 3416, 4638, 2339, 1322, 8024, 5543, 3018, 1139, 1567, 1399, 1828, 8043, 100, 679, 719, 8024, 2218, 1305, 2957, 749, 800, 812, 4638, 1333, 3160, 8024, 2400, 6206, 800, 812, 678, 7716, 511, 2339, 782, 812, 3698, 2699, 1765, 6432, 8038, 711, 784, 720, 1744, 2157, 7444, 6206, 4638, 691, 6205, 8024, 679, 6375, 2769, 812, 4495, 772, 8043, 4852, 833, 712, 721, 7444, 6206, 8024, 2769, 812, 2218, 6206, 4495, 772, 511, 800, 812, 2682, 2226, 671, 1147, 1215, 3791, 8024, 1046, 3302, 4905, 4905, 1737, 7410, 8024, 1780, 2898, 2828, 1322, 1215, 678, 1343, 511, 671, 736, 1063, 753, 2399, 8024, 2339, 1322, 3121, 711, 1765, 3175, 1744, 5852, 511, 3300, 782, 6371, 711, 8024, 4385, 1762, 3221, 1333, 3332, 3160, 1744, 2157, 897, 2418, 8024, 772, 1501, 1744, 2157, 1259, 7218, 8024, 6608, 6611, 1744, 2157, 1055, 4708, 8024, 6821, 678, 1377, 4228, 1139, 3341, 749, 511, 1762, 6821, 4905, 2658, 1105, 678, 8024, 3221, 5326, 5330, 2828, 671, 1147, 3123, 1762, 5632, 2346, 1213, 7030, 4638, 1825, 4157, 677, 8024, 6820, 3221, 752, 752, 1403, 1744, 2157, 847, 2797, 8024, 6821, 3221, 5543, 679, 5543, 3784, 4708, 100, 4324, 4989, 5632, 712, 510, 5632, 1213, 3291, 4495, 100, 6887, 6662, 5326, 5330, 1184, 6822, 4638, 7309, 7579, 511, 2339, 1322, 6206, 2456, 2426, 3779, 1086, 4495, 6756, 7313, 8024, 3300, 4638, 1398, 2562, 2990, 1139, 702, 3175, 3428, 8024, 6206, 1744, 2157, 2832, 6598, 1282, 671, 674, 1039, 511, 6821, 702, 3175, 3428, 2471, 6629, 749, 2523, 1920, 751, 6389, 8024, 1914, 3144, 2339, 782, 679, 1398, 2692, 511, 800, 812, 6432, 8038, 100, 2769, 812, 2123, 5507, 5632, 2346, 1046, 3302, 1282, 1146, 1737, 7410, 8024, 1104, 679, 5314, 1744, 2157, 1872, 3924, 671, 1146, 6566, 2857, 100, 8024, 100, 4852, 833, 712, 721, 679, 3221, 5023, 3341, 4638, 8024, 738, 679, 3221, 847, 2797, 6206, 3341, 4638, 8024, 6206, 7479, 2769, 812, 1352, 2797, 1343, 1158, 6863, 100, 511, 1059, 1322, 2339, 782, 1469, 2397, 6956, 671, 7970, 1220, 2797, 8024, 2828, 2426, 3191, 6392, 1906, 1147, 1147, 1200, 1200, 8024, 2894, 2894, 1122, 1122, 8024, 2894, 2768, 5380, 1880, 1469, 7035, 1880, 8024, 2828, 679, 1398, 6226, 3419, 4638, 6235, 7167, 1469, 7167, 5052, 4184, 2970, 2768, 3118, 3373, 8024, 1169, 2768, 749, 676, 702, 3819, 3882, 5380, 510, 671, 702, 3779, 3717, 1146, 4895, 1690, 8024, 2128, 6163, 749, 697, 702, 5892, 7671, 7035, 510, 697, 702, 1107, 1316, 1849, 5023, 6392, 1906, 511, 5632, 2346, 1220, 2797, 4500, 1920, 7188, 7237, 2802, 1139, 3341, 671, 702, 753, 1282, 1061, 5101, 7770, 4638, 7188, 4170, 1738, 511, 1169, 868, 3819, 3882, 5380, 4638, 4817, 2501, 5380, 2419, 8024, 5632, 2346, 3766, 3300, 1327, 1213, 3322, 1469, 5522, 1072, 8024, 1139, 1343, 1217, 2339, 8024, 6206, 5709, 6387, 1914, 7178, 511, 3322, 934, 2339, 782, 2218, 1762, 1108, 1759, 1765, 677, 2902, 5380, 2419, 2501, 4307, 2905, 671, 702, 1920, 1778, 8024, 2828, 7167, 3352, 4173, 5273, 8024, 3373, 1762, 1778, 677, 8024, 4500, 1920, 3312, 7237, 4790, 8024, 1939, 2773, 1724, 1282, 702, 2207, 3198, 8024, 4790, 1776, 1724, 1282, 1061, 2828, 3312, 7237, 8024, 4801, 3221, 2802, 1139, 3341, 697, 702, 5380, 2419, 511, 800, 812, 809, 6010, 6009, 1553, 7755, 1928, 4638, 5125, 4868, 8024, 3766, 6206, 1744, 2157, 2832, 6598, 8024, 2456, 2768, 749, 671, 702, 1377, 809, 2399, 1905, 4415, 697, 1283, 758, 4636, 1417, 4638, 2426, 3779, 1086, 4495, 6756, 7313, 511, 3187, 772, 7348, 5277, 3152, 1265, 1920, 7484, 1462, 8024, 886, 5632, 1213, 3291, 4495, 4638, 5125, 4868, 3291, 1217, 1355, 2813, 1045, 1920, 511, 676, 2399, 3341, 8024, 800, 812, 5632, 2346, 6392, 6369, 8024, 5632, 2346, 3177, 2339, 8024, 4667, 1322, 2791, 510, 797, 2417, 1724, 1283, 671, 4636, 753, 1282, 2398, 3175, 5101, 8024, 5023, 754, 1184, 736, 2399, 2456, 5029, 7481, 4916, 4638, 671, 945, 1288, 511, 1762, 1040, 2475, 1322, 4638, 3118, 3001, 1469, 2376, 1221, 678, 8024, 5632, 2346, 1169, 6863, 510, 3121, 1169, 749, 1063, 1282, 1061, 1378, 712, 6206, 6392, 1906, 8024, 5632, 2346, 1220, 2797, 2128, 6163, 749, 1059, 6956, 6392, 1906, 8024, 711, 1744, 2157, 5688, 4689, 749, 1920, 7030, 4638, 6598, 7032, 1469, 7167, 3332, 511, 6821, 702, 1322, 1762, 100, 4324, 4989, 5632, 712, 510, 5632, 1213, 3291, 4495, 100, 4638, 6887, 6662, 677, 8024, 1762, 2773, 5526, 1737, 7410, 4638, 3159, 751, 704, 8024, 4989, 6639, 754, 5632, 2346, 1220, 2797, 8024, 4989, 6639, 754, 4385, 3300, 3340, 816, 8024, 4989, 6639, 754, 1164, 2426, 1164, 3191, 8039, 1355, 2813, 1391, 1920, 5736, 510, 5447, 1920, 1227, 4638, 5439, 1061, 6662, 868, 7599, 8024, 1355, 2813, 5688, 5276, 671, 1146, 7178, 510, 671, 4017, 3779, 4638, 5125, 4868, 8024, 1355, 2813, 5967, 6228, 671, 1147, 1737, 7410, 4638, 7484, 1462, 5739, 7413, 3698, 3519, 511, 2339, 782, 812, 6432, 8024, 6821, 676, 702, 4989, 6639, 510, 676, 702, 1355, 2813, 8024, 3221, 1377, 6586, 4638, 5125, 4868, 8024, 1377, 7479, 4638, 1215, 3791, 8024, 3633, 4802, 4638, 6887, 6662, 511, 7484, 1462, 4638, 7444, 6206, 8024, 2218, 3221, 1355, 2245, 4495, 772, 4638, 3175, 1403, 100, 1906, 2773, 510, 1906, 5774, 510, 711, 782, 3696, 100, 8024, 3221, 3688, 712, 2375, 4638, 836, 1920, 2773, 4526, 2590, 2682, 8024, 3221, 7484, 1462, 4638, 1059, 2229, 511, 3779, 5544, 1322, 794, 6821, 702, 1059, 2229, 1139, 1355, 8024, 7484, 1462, 7444, 6206, 784, 720, 8024, 2218, 4495, 772, 784, 720, 8024, 2828, 3018, 4495, 772, 1398, 2456, 6392, 4852, 833, 712, 721, 1469, 2343, 1743, 3187, 772, 7348, 5277, 683, 3124, 5165, 2166, 1765, 5468, 5143, 6629, 3341, 511, 6821, 702, 1322, 6905, 2542, 3688, 712, 2375, 1068, 754, 100, 809, 1093, 689, 711, 1825, 4794, 510, 2339, 689, 711, 712, 2193, 100, 4638, 836, 1920, 3175, 7151, 8024, 4916, 3353, 1765, 711, 1093, 689, 3302, 1218, 511, 800, 812, 3836, 782, 1168, 1093, 3333, 1343, 6444, 3389, 8024, 749, 6237, 1168, 1093, 3333, 6833, 1147, 7444, 6206, 1920, 6756, 3779, 8024, 2218, 2682, 1215, 3791, 4495, 772, 511, 852, 3221, 4495, 772, 1920, 6756, 3779, 8024, 2458, 1993, 3680, 1417, 6206, 755, 2938, 1126, 1282, 1039, 511, 2339, 782, 812, 6432, 8038, 3688, 712, 2375, 1384, 1374, 3118, 3001, 1093, 689, 8024, 4495, 772, 679, 4495, 772, 1920, 6756, 3779, 8024, 679, 3221, 6608, 7178, 679, 6608, 7178, 4638, 7309, 7579, 8024, 5445, 3221, 671, 702, 1780, 2898, 784, 720, 3124, 3780, 3175, 1403, 4638, 7309, 7579, 8024, 2769, 812, 671, 2137, 6206, 2397, 8024, 755, 2938, 3221, 1377, 809, 6237, 1104, 4638, 511, 3191, 2356, 1999, 4638, 671, 2207, 3065, 6624, 6598, 3836, 8024, 809, 6608, 3315, 743, 1297, 679, 5543, 3018, 711, 1399, 8024, 6873, 4708, 3779, 5544, 1322, 2828, 1920, 6756, 3779, 4495, 772, 977, 678, 3341, 511, 3187, 772, 7348, 5277, 3152, 1265, 1920, 7484, 1462, 704, 8024, 2339, 782, 812, 2515, 2419, 2821, 1161, 749, 1155, 2208, 1936, 4638, 100, 1164, 3883, 2899, 2358, 100, 4638, 934, 3633, 712, 721, 7946, 6573, 8024, 2824, 2857, 749, 4495, 772, 1059, 4689, 1093, 3333, 7444, 4500, 4638, 1920, 6756, 3779, 4638, 818, 1218, 511, 800, 812, 4960, 1139, 3187, 772, 7348, 5277, 3124, 3780, 8024, 1217, 2487, 5052, 4415, 8024, 7360, 856, 2768, 3315, 8024, 2523, 2571, 1765, 2814, 6760, 749, 755, 2938, 2229, 7481, 511, 4385, 1762, 8024, 3680, 1417, 2768, 3315, 4507, 758, 4636, 676, 1282, 1039, 7360, 1168, 676, 4636, 758, 1282, 758, 1039, 8024, 1545, 817, 738, 1920, 1920, 678, 7360, 8024, 3918, 1358, 6577, 678, 704, 1093, 4638, 3614, 6816, 511, 800, 812, 3018, 4495, 772, 8024, 679, 2586, 7937, 4172, 679, 2586, 2208, 8024, 7484, 1462, 7444, 6206, 1780, 1104, 3018, 511, 671, 702, 1355, 4510, 1322, 711, 749, 3102, 4633, 671, 7555, 2825, 3318, 7770, 2292, 8024, 7444, 6206, 2208, 7030, 4638, 2193, 6758, 3779, 511, 3779, 5544, 1322, 4638, 2339, 782, 4761, 6887, 1400, 8024, 711, 749, 7270, 3187, 772, 7348, 5277, 4638, 2562, 3698, 8024, 2802, 2957, 934, 3633, 712, 721, 1762, 6821, 702, 7309, 7579, 677, 1305, 2769, 812, 4638, 5556, 2094, 4638, 1965, 2682, 8024, 4989, 1315, 2970, 1358, 749, 6821, 7555, 818, 1218, 511, 800, 812, 1046, 3302, 749, 2523, 1914, 1737, 7410, 8024, 1762, 6772, 4764, 4638, 3198, 7313, 1079, 2218, 6407, 1169, 2768, 1216, 749, 8024, 2376, 1221, 1355, 4510, 1322, 6237, 1104, 749, 1737, 7410, 511, 5632, 6230, 1765, 5440, 5991, 1168, 1059, 2229, 4638, 7444, 6206, 8024, 2593, 7484, 1462, 2792, 2593, 8024, 2593, 2773, 1906, 2792, 7444, 511, 671, 736, 1063, 736, 2399, 8024, 1322, 7484, 1999, 833, 4638, 671, 702, 7566, 2193, 2768, 1447, 8024, 1168, 7353, 6818, 671, 702, 2339, 1322, 5468, 5143, 2339, 868, 8024, 1762, 2802, 4510, 6413, 3198, 4692, 1168, 6421, 1322, 6381, 752, 3352, 677, 1091, 4708, 8038, 100, 6862, 5314, 3187, 7234, 1343, 4510, 8024, 2593, 6817, 6851, 3209, 4800, 1265, 1147, 1181, 3779, 511, 100, 800, 1726, 1322, 722, 1400, 8024, 1469, 2339, 782, 812, 671, 6887, 6374, 6389, 8024, 6371, 711, 2769, 812, 697, 702, 1322, 1372, 7392, 671, 3340, 6662, 8024, 800, 812, 2593, 7444, 4638, 3779, 8024, 1316, 6206, 794, 3144, 1283, 7027, 1912, 6817, 3341, 8024, 679, 1164, 754, 1906, 2773, 511, 6821, 702, 1322, 2218, 7716, 677, 6822, 6121, 6407, 1169, 8024, 5307, 6814, 1353, 1908, 6407, 7741, 8024, 2523, 2571, 2218, 6628, 1169, 1139, 3341, 8024, 4178, 2658, 1765, 6843, 677, 7305, 1343, 8024, 2400, 712, 1220, 1765, 2824, 2857, 749, 7270, 3309, 897, 2418, 4638, 818, 1218, 511, 1762, 5862, 2141, 1054, 4638, 100, 736, 1920, 100, 2990, 1139, 4638, 1392, 7555, 2773, 3159, 818, 1218, 704, 8024, 800, 812, 749, 6237, 1168, 3300, 1068, 1296, 855, 3633, 1762, 711, 6407, 1169, 671, 7555, 7028, 6206, 2773, 1906, 772, 1501, 1283, 3175, 4636, 6369, 1765, 3122, 1068, 8024, 2218, 712, 1220, 3836, 782, 1346, 1217, 2773, 3159, 511, 1398, 3198, 8024, 1762, 1322, 1079, 5299, 5302, 749, 671, 702, 3122, 1068, 2207, 5299, 8024, 809, 1372, 751, 3308, 1911, 4638, 7484, 1462, 5125, 4868, 8024, 2773, 5526, 749, 7028, 7028, 1737, 7410, 8024, 2523, 2571, 1765, 6407, 1169, 2768, 1216, 749, 8024, 5307, 3300, 1068, 1296, 855, 7063, 2137, 8024, 2130, 1059, 5016, 1394, 6206, 3724, 8024, 711, 1217, 2487, 2773, 1906, 976, 1139, 749, 6567, 4346, 511, 711, 7484, 1462, 5688, 4689, 3680, 671, 702, 7198, 3352, 836, 1920, 7566, 6153, 3688, 712, 2375, 3136, 2193, 6432, 8038, 100, 5688, 4689, 3680, 671, 702, 7198, 3352, 711, 4708, 2773, 751, 1469, 7484, 1462, 752, 689, 100, 511, 711, 7484, 1462, 8024, 5688, 5276, 671, 4017, 3779, 510, 671, 1779, 4209, 510, 671, 2428, 4510, 510, 671, 1146, 7178, 8024, 3221, 3779, 5544, 1322, 4638, 831, 5679, 837, 5320, 511, 1282, 753, 2399, 3341, 8024, 2339, 1322, 4507, 4956, 1359, 2168, 8024, 852, 3221, 6821, 702, 837, 5320, 671, 4684, 3766, 3300, 1359, 511, 2339, 782, 812, 6432, 8038, 5688, 933, 6814, 3189, 2094, 8024, 2798, 5543, 6632, 6814, 6632, 7484, 1462, 511, 3300, 671, 2399, 8024, 3779, 5544, 1322, 711, 2356, 5117, 7608, 2229, 1217, 2339, 671, 2821, 3432, 3779, 511, 2339, 782, 1762, 1217, 2339, 704, 8024, 4397, 2667, 3680, 671, 4017, 3779, 8024, 2828, 2957, 1762, 1765, 678, 4638, 4500, 2797, 2854, 6629, 3341, 8024, 2828, 3783, 1762, 2851, 2357, 677, 4638, 4215, 1139, 3341, 8024, 2828, 4522, 1762, 3446, 2419, 677, 4638, 4500, 5416, 1267, 1167, 678, 3341, 511, 4157, 4157, 4017, 4017, 3726, 1920, 2335, 8024, 4507, 754, 1217, 2487, 5052, 4415, 8024, 7360, 856, 3867, 5450, 8024, 5688, 4689, 1139, 3341, 753, 1282, 1417, 3432, 3779, 8024, 817, 966, 1724, 674, 1039, 511, 3300, 782, 2990, 1139, 8024, 2828, 6821, 2821, 3779, 4522, 678, 8024, 6237, 1104, 2339, 1322, 4638, 1737, 7410, 8024, 6821, 3221, 1394, 4415, 1394, 3791, 511, 5439, 2339, 782, 679, 1398, 2692, 8024, 800, 812, 6432, 8038, 1872, 772, 5688, 5276, 3221, 2769, 812, 4638, 3315, 819, 8024, 5688, 5276, 2495, 5632, 2346, 8024, 1394, 4638, 3221, 3315, 855, 712, 721, 4638, 4415, 8024, 1394, 4638, 3221, 4900, 3300, 6225, 2573, 4638, 3791, 511, 3779, 5544, 1322, 2339, 782, 1780, 1104, 2828, 753, 1282, 1417, 3432, 3779, 769, 5314, 749, 1744, 2157, 511, 7390, 4708, 2339, 1322, 4638, 2810, 1920, 8024, 2339, 782, 4638, 1872, 1217, 8024, 671, 736, 1063, 736, 2399, 2399, 1159, 8024, 1322, 7484, 1999, 833, 6369, 1153, 4500, 3315, 1322, 4916, 5168, 4638, 1282, 1063, 674, 1039, 4667, 2162, 5650, 1469, 833, 6379, 2147, 511, 1114, 1906, 1220, 2339, 4638, 3198, 952, 8024, 1054, 4638, 100, 736, 1920, 100, 5526, 1164, 1374, 2458, 749, 511, 7484, 1999, 833, 712, 818, 1155, 1898, 1762, 1322, 7027, 5862, 2141, 100, 736, 1920, 100, 5125, 4868, 4638, 3688, 3813, 691, 2590, 2682, 2110, 739, 4408, 677, 2990, 1139, 671, 702, 2456, 6379, 8038, 2162, 5650, 1469, 833, 6379, 2147, 3257, 3198, 679, 4667, 8024, 4500, 1282, 1063, 674, 1039, 1086, 2456, 671, 702, 7770, 3946, 3883, 3998, 5544, 6756, 7313, 8024, 2828, 1333, 3341, 711, 2456, 6821, 702, 6756, 7313, 1744, 2157, 1398, 2692, 5314, 4638, 676, 1282, 673, 674, 1039, 1469, 671, 4636, 1417, 7167, 3332, 5688, 4689, 678, 3341, 511, 6821, 702, 2456, 6379, 2471, 6629, 749, 2339, 782, 812, 2523, 1920, 4638, 3800, 2692, 8024, 6822, 6121, 749, 4178, 4164, 4638, 6374, 6389, 511, 794, 6821, 702, 1322, 4638, 2141, 7354, 2658, 1105, 3341, 4692, 8024, 4667, 2162, 5650, 1469, 833, 6379, 2147, 3221, 7444, 6206, 4638, 8024, 852, 800, 812, 2682, 1168, 3688, 712, 2375, 100, 1906, 2773, 510, 1906, 5774, 510, 711, 782, 3696, 100, 4638, 836, 1920, 3136, 2193, 8024, 6371, 711, 2418, 2496, 2828, 7178, 5709, 1762, 1143, 1145, 677, 511, 5310, 3362, 8024, 800, 812, 3188, 3766, 3300, 2456, 2162, 5650, 1469, 833, 6379, 2147, 8024, 738, 3766, 3300, 3173, 2456, 7770, 3946, 3883, 3998, 5544, 6756, 7313, 8024, 2828, 6821, 1282, 1063, 674, 1039, 4500, 3341, 2456, 749, 671, 702, 4495, 772, 3173, 772, 1501, 4638, 6756, 7313, 8039, 1398, 3198, 8024, 1164, 4500, 2426, 3191, 3332, 3160, 3121, 2456, 749, 671, 702, 7770, 3946, 3883, 3998, 5544, 6756, 7313, 8024, 3121, 6822, 749, 2339, 5686, 8024, 2990, 7770, 749, 4495, 772, 5543, 1213, 753, 1282, 945, 511, 2339, 782, 812, 6432, 8038, 100, 6821, 2798, 3221, 1493, 812, 676, 1366, 1920, 7222, 7317, 7484, 1462, 4638, 5125, 4868, 8024, 6821, 2798, 3221, 3779, 5544, 1322, 5632, 1213, 3291, 4495, 510, 5680, 5736, 1158, 689, 4638, 5439, 837, 5320, 511, 7178, 8024, 2218, 2418, 6421, 6821, 3416, 5709, 511, 100, 800, 812, 1762, 4495, 772, 704, 8024, 1780, 2898, 3187, 772, 7348, 5277, 3124, 3780, 2899, 2358, 8024, 1355, 1220, 2408, 1920, 2339, 782, 5408, 830, 8024, 782, 782, 1346, 1217, 5052, 4415, 8024, 702, 702, 2496, 2157, 4415, 6568, 8024, 4408, 4408, 5299, 5299, 3300, 3867, 5450, 6381, 2497, 8024, 4408, 4408, 5299, 5299, 3300, 3417, 5050, 8024, 2456, 4989, 749, 671, 1947, 1394, 4415, 4638, 510, 6121, 722, 3300, 3126, 4638, 5052, 4415, 1169, 2428, 8024, 886, 772, 1501, 6574, 7030, 679, 3171, 2990, 7770, 8024, 2768, 3315, 679, 3171, 7360, 856, 8024, 711, 1744, 2157, 2990, 897, 4638, 4916, 5168, 6632, 3341, 6632, 1914, 511, 6624, 5632, 2346, 2825, 3318, 1355, 2245, 4638, 6887, 6662, 3779, 5544, 1322, 6905, 4212, 3688, 712, 2375, 100, 2802, 4788, 3817, 3427, 3427, 8024, 6624, 5632, 2346, 2339, 689, 1355, 2245, 6887, 6662, 100, 4638, 836, 1920, 3136, 2193, 8024, 711, 7484, 1462, 2958, 2995, 2825, 3318, 8024, 711, 7484, 1462, 3102, 4633, 2825, 3318, 7770, 2292, 8024, 6624, 4989, 6639, 754, 1759, 510, 794, 1759, 1168, 3817, 510, 1759, 3817, 5310, 1394, 4638, 6887, 6662, 511, 2458, 1993, 1158, 689, 4638, 7484, 1462, 2339, 782, 8024, 1762, 2825, 3318, 677, 3221, 671, 2476, 4635, 5291, 8024, 3188, 3766, 3300, 6822, 6814, 2339, 1322, 8024, 3291, 679, 2743, 4159, 3779, 2825, 3318, 511, 1322, 7027, 3300, 671, 702, 5632, 4917, 100, 3779, 5544, 683, 2157, 100, 4638, 782, 8024, 2828, 5632, 2346, 2743, 2533, 4638, 671, 3215, 1288, 4157, 2825, 3318, 8024, 2496, 976, 100, 4862, 837, 4908, 3175, 100, 8024, 2141, 7354, 677, 1372, 2958, 2995, 749, 1126, 2476, 6981, 3160, 1296, 8024, 1359, 3341, 1359, 1343, 8024, 5128, 2462, 5408, 830, 511, 5439, 2339, 782, 1762, 671, 1779, 1394, 6369, 8038, 100, 6821, 702, 782, 1469, 1493, 812, 679, 3221, 671, 3340, 2552, 8024, 1493, 812, 679, 5543, 1004, 2397, 8024, 6206, 678, 1104, 2552, 2958, 2995, 2825, 3318, 511, 1215, 2339, 1322, 8024, 1355, 2245, 2825, 3318, 8024, 6206, 898, 7479, 1493, 812, 511, 100, 2339, 782, 812, 1939, 1355, 1745, 2487, 8024, 1174, 5736, 7183, 4777, 8024, 4500, 2797, 3043, 510, 4706, 4714, 4692, 510, 7965, 2094, 7319, 510, 5649, 1928, 5654, 4638, 1215, 3791, 8024, 3466, 7741, 772, 1501, 6574, 7030, 8024, 6804, 2397, 6804, 2110, 8024, 6852, 3635, 1765, 2958, 2995, 749, 2825, 3318, 511, 6814, 1343, 3221, 3249, 3249, 6858, 6858, 4638, 2157, 2431, 1967, 1957, 8024, 4385, 1762, 2347, 5307, 5543, 4225, 5298, 1765, 2958, 2995, 1920, 6956, 1146, 772, 1501, 4638, 4495, 772, 2825, 3318, 511, 6821, 702, 1322, 1762, 772, 1501, 6407, 1169, 510, 2339, 5686, 6392, 6369, 510, 2456, 5029, 2128, 6163, 5023, 3175, 7481, 8024, 6963, 2768, 7270, 6629, 3341, 671, 3118, 5632, 2346, 4638, 510, 671, 683, 1914, 5543, 4638, 2825, 3318, 7339, 824, 511, 3779, 5544, 1322, 1762, 2190, 2521, 2825, 3318, 510, 6392, 1906, 677, 8024, 3418, 2945, 5632, 2346, 4638, 7444, 6206, 1469, 1377, 5543, 8024, 1041, 1146, 1164, 4500, 4385, 3300, 4638, 3340, 816, 8024, 5543, 3817, 2218, 3817, 8024, 679, 5543, 3817, 2218, 1759, 8024, 794, 1759, 1168, 3817, 8024, 1759, 3817, 5310, 1394, 511, 800, 812, 1762, 4495, 772, 704, 8024, 679, 3171, 2600, 5310, 5408, 830, 4638, 2141, 6664, 5307, 7741, 8024, 671, 3635, 671, 3635, 1765, 1355, 2245, 8024, 671, 3635, 671, 3635, 1765, 2990, 7770, 8024, 1158, 6863, 1139, 671, 1947, 4906, 2110, 4638, 510, 1394, 4415, 4638, 510, 5016, 1394, 2141, 7354, 4638, 2339, 5686, 3837, 4923, 1469, 4495, 772, 6392, 1906, 511, 891, 1963, 8024, 6206, 2990, 7770, 7159, 1825, 3883, 3998, 5544, 4638, 6574, 7030, 8024, 2553, 7557, 856, 3946, 1139, 5380, 511, 2458, 1993, 3766, 3300, 856, 3946, 1139, 5380, 4638, 6392, 1906, 8024, 3779, 5544, 1359, 4932, 3901, 679, 1139, 3341, 8024, 2339, 782, 812, 1762, 3029, 3694, 671, 4636, 2428, 2340, 1381, 4638, 3340, 816, 678, 8024, 679, 2586, 4171, 8024, 679, 2586, 4176, 8024, 4801, 3221, 4500, 1920, 7188, 3334, 671, 3334, 671, 3334, 1765, 2959, 1139, 3341, 511, 800, 812, 671, 6804, 1780, 2898, 4495, 772, 8024, 671, 6804, 3121, 6863, 6392, 1906, 8024, 671, 6804, 3121, 6822, 2339, 5686, 3837, 4923, 8024, 5307, 6814, 697, 2399, 3341, 4638, 679, 3171, 1222, 1213, 8024, 794, 4684, 4125, 1217, 3946, 1168, 5892, 3698, 1217, 3946, 8024, 794, 1296, 2231, 7035, 1168, 1352, 2231, 7035, 8024, 794, 782, 2339, 3009, 2863, 1168, 3322, 3462, 3009, 2863, 510, 1352, 1403, 3009, 2863, 8024, 100, 1759, 1215, 3791, 100, 6852, 3635, 1765, 1359, 2768, 1759, 3817, 5310, 1394, 4638, 1215, 3791, 8024, 1159, 5277, 4638, 691, 6205, 1359, 2768, 749, 7770, 5277, 4638, 691, 6205, 8024, 4495, 772, 738, 2141, 4385, 749, 3322, 3462, 1265, 510, 5052, 6887, 1265, 8024, 886, 7159, 1825, 3883, 3998, 5544, 4638, 6574, 7030, 6628, 677, 749, 1744, 1079, 1398, 5102, 772, 1501, 4638, 1044, 6822, 3717, 2398, 511, 800, 812, 5307, 2382, 5314, 5632, 2346, 1139, 7410, 7579, 8024, 1920, 4788, 3817, 1958, 1528, 2110, 8024, 711, 7484, 1462, 3102, 4633, 2825, 3318, 7770, 2292, 511, 671, 736, 1063, 758, 2399, 8024, 2769, 1744, 4638, 671, 4905, 4495, 772, 6392, 1906, 8024, 7444, 6206, 671, 4905, 7478, 4637, 1825, 7770, 3946, 3883, 3998, 5544, 511, 6598, 3315, 712, 721, 1744, 2157, 4500, 7770, 817, 1469, 5729, 1174, 4638, 3340, 816, 3341, 1305, 2769, 812, 511, 2339, 782, 812, 1420, 1168, 6821, 702, 3867, 2622, 8024, 6963, 7478, 2382, 3698, 2699, 8024, 2487, 4164, 6206, 3724, 2824, 2857, 6821, 702, 818, 1218, 511, 836, 1920, 7566, 6153, 3688, 712, 2375, 3136, 2193, 6432, 8038, 100, 2769, 812, 679, 5543, 6624, 686, 4518, 1392, 1744, 2825, 3318, 1355, 2245, 4638, 5439, 6662, 8024, 6656, 1762, 1166, 782, 1400, 7481, 671, 3635, 671, 3635, 1765, 4260, 6121, 511, 100, 3779, 5544, 1322, 4638, 2339, 782, 1469, 2825, 3318, 782, 1447, 2897, 1139, 7484, 1462, 1217, 2874, 1462, 4638, 5125, 4868, 3122, 7410, 1068, 511, 6566, 6569, 6821, 7555, 6407, 7741, 2339, 868, 4638, 871, 4798, 3360, 1398, 2562, 8024, 3221, 702, 1372, 2573, 6814, 1063, 2399, 741, 4638, 2339, 782, 2825, 3318, 1447, 8024, 800, 2642, 3300, 698, 7028, 4638, 1282, 753, 2900, 5499, 3971, 4550, 1469, 5519, 1718, 4142, 8024, 5307, 2382, 1355, 7770, 4173, 8024, 852, 800, 809, 2661, 782, 4638, 3675, 1213, 8024, 671, 4684, 1780, 2898, 1762, 2773, 3159, 2266, 855, 677, 511, 800, 812, 711, 749, 2823, 671, 4905, 1333, 3160, 8024, 6651, 749, 1282, 671, 702, 4689, 510, 1277, 8024, 1357, 1726, 676, 1282, 676, 4905, 3416, 1501, 8024, 5307, 6814, 671, 4636, 7439, 1061, 3613, 6407, 7741, 8024, 3122, 1046, 749, 671, 6887, 6887, 7410, 1068, 8024, 5303, 754, 6407, 1169, 2768, 1216, 511, 2339, 782, 812, 1348, 2990, 1139, 749, 3291, 7770, 4638, 1939, 3159, 4680, 3403, 8024, 671, 2137, 6206, 2828, 6598, 3315, 712, 721, 1744, 2157, 4501, 1762, 2769, 812, 1400, 6804, 511, 6821, 7027, 4638, 1068, 7241, 7309, 7579, 8024, 3221, 6206, 3121, 6863, 671, 4905, 4932, 1265, 1177, 4638, 2595, 5543, 511, 2339, 782, 1469, 2825, 3318, 782, 1447, 3140, 2682, 3140, 2397, 8024, 1762, 3300, 1068, 1296, 855, 4638, 2376, 1221, 678, 8024, 4500, 1759, 1215, 3791, 1920, 5519, 6407, 7741, 8024, 788, 4500, 1063, 1282, 1921, 4638, 3198, 7313, 8024, 2218, 2897, 678, 3341, 749, 511, 5307, 6814, 2190, 3683, 6407, 7741, 8024, 6598, 3315, 712, 721, 1744, 2157, 4638, 7478, 4637, 1825, 7770, 3946, 3883, 3998, 5544, 8024, 886, 4500, 671, 3613, 1372, 5543, 6825, 5330, 6817, 6760, 1063, 702, 3299, 8024, 6821, 702, 1322, 4495, 772, 4638, 1398, 5102, 772, 1501, 8024, 1377, 809, 6825, 5330, 6817, 6760, 1282, 671, 702, 3299, 511, 2828, 6821, 4905, 3883, 3998, 5544, 4500, 1762, 3322, 6756, 1355, 4510, 3322, 677, 8024, 3683, 671, 5663, 3883, 3998, 5544, 886, 4500, 3198, 7313, 2990, 7770, 758, 1282, 945, 809, 677, 8039, 4500, 1762, 6757, 7167, 1322, 1920, 1798, 1198, 3171, 3322, 4638, 6779, 6887, 6766, 2824, 677, 8024, 3683, 4500, 1333, 3341, 4638, 3883, 3998, 5544, 886, 4500, 3198, 7313, 2990, 7770, 736, 4636, 673, 1282, 671, 945, 511, 3779, 5544, 1322, 4989, 6639, 754, 5632, 2346, 1220, 2797, 8024, 2825, 3318, 677, 3140, 3102, 7770, 2292, 8024, 3140, 6624, 1184, 782, 3766, 3300, 6624, 6814, 4638, 6662, 8024, 800, 812, 6206, 2397, 4638, 8024, 2218, 678, 1104, 2552, 671, 2137, 2397, 2768, 511, 4385, 1762, 8024, 800, 812, 4495, 772, 4638, 736, 702, 1501, 4905, 510, 753, 1282, 1061, 702, 6226, 3419, 4638, 2137, 1798, 772, 1501, 8024, 6963, 3221, 7479, 5632, 2346, 3043, 5164, 3018, 1139, 3341, 4638, 511, 3300, 7484, 1462, 1265, 4638, 782, 8024, 2798, 5543, 3300, 7484, 1462, 1265, 4638, 2339, 1322, 3779, 5544, 1322, 1215, 2768, 671, 702, 7484, 1462, 1265, 4638, 510, 4852, 833, 712, 721, 4638, 821, 689, 8024, 3300, 6387, 1914, 5307, 7741, 8024, 5445, 3297, 3418, 3315, 4638, 671, 3340, 3221, 8024, 1762, 3688, 3813, 691, 2590, 2682, 1529, 5509, 678, 8024, 5307, 6814, 7348, 5277, 3159, 751, 510, 4495, 772, 3159, 751, 510, 4906, 2110, 2141, 7741, 676, 1920, 7484, 1462, 6817, 1220, 4638, 7248, 4159, 8024, 2768, 7270, 6629, 671, 3118, 7484, 1462, 1265, 4638, 7339, 824, 511, 3300, 749, 7484, 1462, 1265, 4638, 782, 8024, 2798, 5543, 3300, 7484, 1462, 1265, 4638, 2339, 1322, 511, 6821, 702, 1322, 3300, 671, 702, 7484, 1462, 1265, 4638, 7566, 2193, 4408, 2094, 511, 800, 812, 3833, 2110, 3833, 4500, 3688, 3813, 691, 2590, 2682, 8024, 1780, 2137, 1765, 2902, 3688, 712, 2375, 2900, 4850, 1215, 752, 8024, 2372, 1928, 2110, 8024, 5632, 6230, 7484, 1462, 1265, 8039, 2372, 1928, 2397, 8024, 5632, 6230, 976, 3416, 2094, 8039, 2372, 1928, 7310, 8024, 1235, 754, 2857, 7599, 7372, 511, 800, 812, 2828, 3688, 712, 2375, 1068, 754, 100, 5632, 1213, 3291, 4495, 100, 510, 100, 5680, 5736, 1939, 3159, 100, 510, 100, 1249, 933, 1215, 2339, 1322, 100, 4638, 836, 1920, 3136, 2193, 8024, 868, 711, 1215, 2339, 1322, 4638, 2429, 1381, 7208, 8024, 5307, 2382, 2110, 8024, 1353, 1908, 2110, 8024, 2900, 2193, 5632, 2346, 4638, 6121, 1220, 511, 800, 812, 3680, 2397, 671, 816, 752, 2658, 8024, 7674, 1044, 4692, 1168, 4638, 3221, 782, 4638, 1728, 5162, 8024, 3918, 928, 5632, 1213, 3291, 4495, 4638, 100, 1213, 100, 5943, 5966, 1762, 2408, 1920, 5408, 830, 722, 704, 511, 800, 812, 5165, 5165, 1765, 1398, 5408, 830, 5468, 5143, 1762, 671, 6629, 8024, 782, 679, 4895, 1227, 1220, 8024, 2552, 679, 4895, 5408, 830, 8024, 1525, 7027, 3300, 1737, 7410, 8024, 2218, 1139, 4385, 1762, 1525, 7027, 8024, 1146, 679, 3926, 6443, 3221, 2339, 782, 8024, 6443, 3221, 7566, 2193, 2397, 6956, 511, 7484, 1999, 833, 4638, 671, 855, 1199, 712, 818, 8024, 671, 2399, 1168, 1928, 2797, 679, 4895, 100, 676, 2828, 100, 8038, 7237, 2828, 510, 7179, 2828, 1469, 7246, 2828, 8024, 6158, 5408, 830, 4917, 711, 100, 7484, 1462, 4638, 5439, 7942, 4281, 8024, 5680, 5736, 1939, 3159, 4638, 1962, 2802, 1928, 511, 100, 1155, 1898, 1398, 2562, 1762, 7215, 6392, 7188, 6662, 683, 4500, 5296, 3198, 8024, 6656, 4708, 3749, 6756, 1168, 3360, 1277, 2861, 3359, 3312, 8024, 1469, 1920, 2157, 671, 6629, 4260, 2255, 8024, 3171, 5597, 6158, 969, 5597, 4836, 1139, 749, 6117, 8024, 6820, 1780, 2898, 2518, 677, 4260, 511, 3749, 6756, 1385, 3322, 1214, 800, 679, 6206, 1086, 4260, 749, 8024, 800, 6432, 8038, 100, 7484, 1462, 3766, 3300, 2398, 1788, 4638, 6662, 8024, 7484, 1462, 2218, 2533, 4260, 1786, 8024, 2769, 6206, 711, 3867, 4127, 2370, 934, 1353, 510, 6237, 3123, 1059, 782, 5102, 4260, 671, 6777, 2094, 1786, 511, 100, 2339, 782, 812, 6432, 8038, 3300, 749, 671, 2552, 6656, 4708, 3688, 712, 2375, 2397, 7484, 1462, 4638, 7566, 2193, 4408, 2094, 8024, 5632, 1213, 3291, 4495, 4638, 7484, 1462, 6887, 6662, 2218, 6632, 6624, 6632, 2160, 2408, 511, 6821, 702, 1322, 4638, 7566, 2193, 4408, 2094, 8024, 4500, 3688, 3813, 691, 2590, 2682, 2372, 1139, 749, 671, 3118, 2552, 5273, 7755, 4801, 4638, 7755, 2397, 7339, 824, 511, 6821, 702, 7339, 824, 7027, 8024, 3300, 1762, 3187, 772, 7348, 5277, 3152, 1265, 1920, 7484, 1462, 704, 1235, 3140, 2932, 1310, 3688, 712, 2375, 3187, 772, 7348, 5277, 7484, 1462, 6662, 5296, 4638, 7310, 2199, 8024, 3300, 1282, 753, 2399, 1963, 671, 3189, 5680, 5736, 1158, 689, 4638, 5439, 2339, 782, 8024, 3300, 5307, 6814, 782, 3696, 6237, 3123, 1092, 1920, 2110, 3413, 1824, 1075, 4638, 1908, 1447, 510, 6760, 689, 1092, 782, 8024, 3300, 5632, 6230, 1765, 2970, 1358, 2339, 782, 7348, 5277, 1086, 3136, 5509, 4638, 7471, 2399, 4761, 6399, 1146, 2094, 511, 800, 812, 779, 5632, 1346, 1217, 749, 3121, 1359, 3779, 5544, 1322, 671, 4956, 753, 4635, 7481, 6505, 4638, 2773, 3159, 8024, 2190, 5632, 1213, 3291, 4495, 510, 5680, 5736, 1158, 689, 3300, 4708, 3918, 1331, 4638, 3187, 772, 7348, 5277, 2697, 2658, 511, 800, 812, 4263, 1322, 8024, 3291, 4263, 4852, 833, 712, 721, 511, 758, 1282, 1914, 2259, 4638, 5439, 2339, 782, 4867, 4373, 741, 8024, 1333, 3221, 671, 702, 2157, 2431, 1967, 1957, 8024, 7653, 2214, 6814, 3191, 4852, 833, 4638, 5736, 7410, 8024, 2190, 3688, 712, 2375, 3187, 7361, 4178, 4263, 511, 1961, 1174, 5736, 1765, 3833, 2110, 3833, 4500, 3688, 3813, 691, 2590, 2682, 8024, 2141, 2552, 2141, 2692, 1765, 1420, 3688, 712, 2375, 4638, 6413, 8024, 1054, 1373, 2397, 1567, 2218, 2397, 1567, 8024, 1249, 1249, 2624, 2624, 8024, 1056, 1056, 689, 689, 8024, 2226, 2552, 2226, 1213, 1765, 2456, 6392, 4852, 833, 712, 721, 511, 1961, 2382, 6432, 8038, 100, 1054, 3221, 1968, 8024, 1322, 3221, 2157, 8024, 2769, 1420, 1054, 4638, 6413, 8024, 2769, 4263, 2769, 4638, 2157, 511, 100, 1762, 3187, 772, 7348, 5277, 3152, 1265, 1920, 7484, 1462, 704, 8024, 1961, 1045, 5783, 1765, 1217, 1057, 749, 836, 1920, 4638, 704, 1744, 1066, 772, 1054, 8024, 2768, 711, 3187, 772, 7348, 5277, 4638, 1044, 7226, 2773, 1894, 511, 3779, 5544, 1322, 1282, 1146, 3800, 2692, 2190, 3173, 4638, 671, 807, 6822, 6121, 7484, 1462, 837, 5320, 3136, 5509, 8024, 6375, 5632, 1213, 3291, 4495, 4638, 7484, 1462, 5125, 4868, 807, 807, 4685, 837, 511, 2190, 3173, 1057, 1322, 4638, 2339, 782, 510, 2397, 6956, 1469, 2825, 3318, 782, 1447, 677, 4638, 5018, 671, 6440, 8024, 2218, 3221, 6822, 6121, 100, 4324, 4989, 5632, 712, 510, 5632, 1213, 3291, 4495, 100, 4638, 3136, 5509, 8024, 6382, 1322, 1380, 8024, 2802, 677, 100, 676, 1366, 1920, 7222, 7317, 7484, 1462, 100, 4638, 4168, 1313, 511, 5439, 2339, 782, 2190, 7471, 2399, 2339, 782, 6241, 837, 6716, 2372, 511, 3300, 702, 704, 683, 3684, 689, 4495, 1157, 6822, 1322, 3198, 8024, 6371, 711, 1322, 2207, 3766, 1139, 2622, 8024, 671, 2990, 1168, 100, 676, 1366, 1920, 7222, 100, 2218, 6230, 2533, 2523, 679, 1045, 2506, 511, 3300, 671, 3613, 8024, 1961, 2828, 671, 1199, 4500, 5552, 749, 4638, 2797, 1947, 7556, 2797, 2803, 2957, 8024, 5439, 2339, 782, 679, 1898, 679, 1510, 1765, 2880, 6629, 3341, 8024, 3819, 1112, 6133, 1962, 511, 2496, 1961, 3021, 4778, 1928, 3766, 3300, 2797, 1947, 3198, 8024, 5439, 2339, 782, 2828, 6821, 1199, 2797, 1947, 6853, 5314, 1961, 8024, 6427, 7028, 2552, 7270, 1765, 6432, 8038, 100, 2769, 812, 676, 1366, 1920, 7222, 7317, 7484, 1462, 4638, 3198, 952, 8024, 1525, 3300, 2797, 1947, 1557, 8013, 872, 812, 6206, 2970, 1962, 5680, 5736, 1939, 3159, 4638, 4408, 8013, 100, 1762, 5439, 2339, 782, 4638, 2376, 1221, 678, 8024, 6821, 702, 7471, 2399, 782, 4638, 2590, 2682, 6852, 3933, 1765, 1355, 4495, 749, 1359, 1265, 511, 3297, 6818, 8024, 1961, 1168, 2356, 7027, 743, 4390, 4461, 811, 1690, 8024, 7416, 6756, 2533, 5709, 758, 1039, 7178, 511, 1961, 2682, 8038, 758, 1039, 7178, 8024, 6821, 1377, 3221, 2769, 812, 2456, 1322, 6598, 7032, 4638, 758, 1146, 722, 671, 1435, 8013, 1961, 679, 6791, 6789, 5736, 8024, 2518, 6819, 697, 3613, 8024, 5520, 1726, 749, 811, 1690, 511, 671, 807, 3173, 782, 3633, 1762, 5632, 1213, 3291, 4495, 4638, 3753, 1759, 677, 5743, 1896, 2768, 7270, 511, 100, 1963, 3362, 6814, 1343, 738, 6382, 5632, 1213, 3291, 4495, 8024, 6929, 3314, 8024, 1762, 3173, 4638, 1744, 7354, 4384, 1862, 678, 8024, 5632, 1213, 3291, 4495, 2218, 3291, 1217, 7028, 6206, 511, 100, 7481, 2190, 5401, 2370, 1744, 712, 721, 510, 4852, 833, 2370, 1744, 712, 721, 4638, 2773, 751, 2014, 5516, 8024, 1395, 3360, 2356, 3779, 5544, 1322, 4638, 7484, 1462, 5408, 830, 8024, 5165, 6656, 3688, 712, 2375, 4638, 836, 1920, 2773, 4526, 6956, 5392, 8024, 794, 2773, 1906, 7444, 6206, 1139, 1355, 8024, 1104, 2552, 100, 4260, 1786, 6206, 4260, 3297, 7367, 4638, 1786, 8024, 4633, 2255, 6206, 4633, 3297, 7770, 4638, 2255, 100, 8024, 1932, 1357, 5632, 1213, 3291, 4495, 4638, 3173, 4638, 3291, 1920, 4638, 5526, 1164, 511, 1395, 3360, 4689, 7484, 1462, 1999, 1447, 833, 1395, 3360, 2356, 7484, 1462, 1999, 1447, 833, 6444, 3389, 5299, 8020, 1333, 6770, 517, 5273, 3186, 518, 3325, 2562, 671, 736, 673, 472, 2399, 5018, 671, 3309, 8021]\n"
          ]
        }
      ]
    },
    {
      "cell_type": "markdown",
      "metadata": {
        "id": "vcKw3RV_WqCq"
      },
      "source": [
        "# 對資料集分詞\n",
        "transformers 庫提供的 encode 函式會為我們處理大多數解析和資料預處理的工作。\n",
        "\n",
        "在編碼文字之前，我們需要確定 MAX_LEN 這個引數，下面的程式碼可以計算資料集中句子\n",
        "\n",
        "BERT批次輸入的最大文本長度為512個Tokens"
      ]
    },
    {
      "cell_type": "code",
      "metadata": {
        "colab": {
          "base_uri": "https://localhost:8080/"
        },
        "id": "pv0u-6kmKC_3",
        "outputId": "b9beefbc-b274-4d7c-fb5b-fab138c896f4"
      },
      "source": [
        "# MAX_LEN = 128  # 每個 epoch 要訓練 5'28''\n",
        "MAX_LEN = 128   # 每個 epoch 要訓練 2'27''\n",
        "\n",
        "max_len = 0\n",
        "for sent in sentences:\n",
        "  \n",
        "    # 將文字分詞，並新增 `[CLS]` 和 `[SEP]` 符號\n",
        "    input_ids = tokenizer.encode(sent, add_special_tokens=True) #字詞的ID\n",
        "    max_len = max(max_len, len(input_ids))\n",
        "\n",
        "print('Max sentence length: ', max_len)\n"
      ],
      "execution_count": null,
      "outputs": [
        {
          "output_type": "stream",
          "name": "stderr",
          "text": [
            "Token indices sequence length is longer than the specified maximum sequence length for this model (6427 > 512). Running this sequence through the model will result in indexing errors\n"
          ]
        },
        {
          "output_type": "stream",
          "name": "stdout",
          "text": [
            "Max sentence length:  6427\n"
          ]
        }
      ]
    },
    {
      "cell_type": "markdown",
      "metadata": {
        "id": "hWAma4xCXOq8"
      },
      "source": [
        "為了避免不會出現更長的句子，這裡我們將 MAX_LEN 設為 64。下面我們正式開始分詞。\n",
        "\n",
        "函式 tokenizer.encode_plus 包含以下步驟：\n",
        "\n",
        "將句子分詞為 tokens。\n",
        "在兩端新增特殊符號 [CLS] 和[SEP]。\n",
        "將 tokens 對映為下標 IDs。\n",
        "將列表填充或截斷為固定的長度。\n",
        "建立 attention masks，將填充的和非填充 tokens 區分開來"
      ]
    },
    {
      "cell_type": "markdown",
      "metadata": {
        "id": "8zitQuR5USae"
      },
      "source": [
        "# 特殊Tokens 對應編碼\n",
        "\n",
        "## [MASK] ：表示這個詞被遮擋。需要帶著[]，並且mask是大寫，對應的編碼是103\n",
        "## [SEP]: 表示分隔開兩個句子。對應的編碼是102\n",
        "## [CLS]:用於分類場景，該位置可表示整句話的語義。對應的編碼是101\n",
        "## [UNK]：文本中的元素不在詞典中，用該符號表示生僻字。對應編碼是100\n",
        "## [PAD]：針對有長度要求的場景，填充文本長度，使得文本長度達到要求。對應編碼是0\n",
        "\n",
        "————————————————\n",
        "\n",
        "原文：https://blog.csdn.net/pearl8899/article/details/119328276\n"
      ]
    },
    {
      "cell_type": "code",
      "metadata": {
        "colab": {
          "base_uri": "https://localhost:8080/"
        },
        "id": "d7YaHtVOKDCl",
        "outputId": "10fe291b-dcf1-45bb-c722-f58e53f52a6e"
      },
      "source": [
        "# 將資料集分完詞後儲存到列表中\n",
        "input_ids = []\n",
        "attention_masks = []\n",
        "\n",
        "for sent in sentences:\n",
        "    encoded_dict = tokenizer.encode_plus(\n",
        "                        sent,                      # 輸入文字\n",
        "                        add_special_tokens = True, # 新增 '[CLS]' 和 '[SEP]'\n",
        "                        max_length = 64,           # 填充 & 截斷長度\n",
        "                        pad_to_max_length = True,\n",
        "                        return_attention_mask = True,   # 返回 attn. masks.\n",
        "                        return_tensors = 'pt',     # 返回 pytorch tensors 格式的資料\n",
        "                   )\n",
        "    \n",
        "    # 將編碼後的文字加入到列表  \n",
        "    input_ids.append(encoded_dict['input_ids'])\n",
        "    \n",
        "    # 將文字的 attention mask 也加入到 attention_masks 列表\n",
        "    attention_masks.append(encoded_dict['attention_mask'])\n",
        "\n",
        "# 將列表轉換為 tensor\n",
        "input_ids = torch.cat(input_ids, dim=0)\n",
        "attention_masks = torch.cat(attention_masks, dim=0)\n",
        "labels = torch.tensor(labels) # 每段新聞的標籤\n",
        "\n",
        "\n",
        "\n",
        "# 輸出第 1 行文字的原始和編碼後的資訊\n",
        "print('Original: ', sentences[0])\n",
        "print('Token IDs:', input_ids[0])"
      ],
      "execution_count": null,
      "outputs": [
        {
          "output_type": "stream",
          "name": "stderr",
          "text": [
            "Truncation was not explicitly activated but `max_length` is provided a specific value, please use `truncation=True` to explicitly truncate examples to max length. Defaulting to 'longest_first' truncation strategy. If you encode pairs of sequences (GLUE-style) with the tokenizer you can select this strategy more precisely by providing a specific strategy to `truncation`.\n"
          ]
        },
        {
          "output_type": "stream",
          "name": "stdout",
          "text": [
            "Original:      毛主席语录    我们的方针要放在什么基点上？放在自己力量的基点上，叫做自力更生。\n",
            "Token IDs: tensor([ 101, 3688,  712, 2375, 6427, 2497, 2769,  812, 4638, 3175, 7151, 6206,\n",
            "        3123, 1762,  784,  720, 1825, 4157,  677, 8043, 3123, 1762, 5632, 2346,\n",
            "        1213, 7030, 4638, 1825, 4157,  677, 8024, 1373,  976, 5632, 1213, 3291,\n",
            "        4495,  511,  102,    0,    0,    0,    0,    0,    0,    0,    0,    0,\n",
            "           0,    0,    0,    0,    0,    0,    0,    0,    0,    0,    0,    0,\n",
            "           0,    0,    0,    0])\n"
          ]
        }
      ]
    },
    {
      "cell_type": "code",
      "metadata": {
        "colab": {
          "base_uri": "https://localhost:8080/"
        },
        "id": "uKy8BjLKO3cQ",
        "outputId": "1f5aad0a-1cd7-430e-cbfc-2eaac7069645"
      },
      "source": [
        "input_ids[1]"
      ],
      "execution_count": null,
      "outputs": [
        {
          "output_type": "execute_result",
          "data": {
            "text/plain": [
              "tensor([ 101, 1462, 3766, 3300, 1046, 3302,  679,  749, 4638, 1737, 7410,  100,\n",
              "         100, 1395, 3360, 2356, 3779, 5544, 1322, 5632, 1213, 3291, 4495,  510,\n",
              "        5680, 5736, 1158,  689, 4638, 6444, 3389, 2845, 1440,  517, 5273, 3186,\n",
              "         518, 3325, 2562, 5356, 5442, 2902, 8038, 1395, 3360, 2356, 3779, 5544,\n",
              "        1322, 4638,  752, 6839, 8024, 3221,  671, 3289, 5632, 1213, 3291, 4495,\n",
              "         510, 5680, 5736,  102])"
            ]
          },
          "metadata": {},
          "execution_count": 15
        }
      ]
    },
    {
      "cell_type": "code",
      "metadata": {
        "colab": {
          "base_uri": "https://localhost:8080/"
        },
        "id": "C_l-WPGfOTpf",
        "outputId": "0df015eb-1013-4ce4-979d-f5c7ee0894c9"
      },
      "source": [
        "print(labels)"
      ],
      "execution_count": null,
      "outputs": [
        {
          "output_type": "stream",
          "name": "stdout",
          "text": [
            "tensor([0, 0, 0, 1, 1, 1, 2, 2, 2, 2, 3, 3, 3, 4, 4, 4, 5, 5, 5, 5, 5])\n"
          ]
        }
      ]
    },
    {
      "cell_type": "markdown",
      "metadata": {
        "id": "RdV_aXrAZH9z"
      },
      "source": [
        "拆分訓練與測試集"
      ]
    },
    {
      "cell_type": "code",
      "metadata": {
        "colab": {
          "base_uri": "https://localhost:8080/"
        },
        "id": "gOuHY1QaJ1Sp",
        "outputId": "a1d5f8c6-1632-43d6-9ea8-fadb4639a1fe"
      },
      "source": [
        "from torch.utils.data import TensorDataset, random_split\n",
        "\n",
        "# 將輸入資料合併為 TensorDataset 物件\n",
        "dataset = TensorDataset(input_ids, attention_masks, labels)\n",
        "\n",
        "# 計算訓練集和驗證集大小\n",
        "train_size = int(0.9 * len(dataset))\n",
        "val_size = len(dataset) - train_size\n",
        "\n",
        "# 按照資料大小隨機拆分訓練集和測試集\n",
        "train_dataset, val_dataset = random_split(dataset, [train_size, val_size])\n",
        "\n",
        "print('{:>5,} training samples'.format(train_size))\n",
        "print('{:>5,} validation samples'.format(val_size))\n"
      ],
      "execution_count": null,
      "outputs": [
        {
          "output_type": "stream",
          "name": "stdout",
          "text": [
            "   18 training samples\n",
            "    3 validation samples\n"
          ]
        }
      ]
    },
    {
      "cell_type": "markdown",
      "metadata": {
        "id": "SV86PEYKZUlk"
      },
      "source": [
        "把資料放進Loader 疊代會比較省記憶體"
      ]
    },
    {
      "cell_type": "code",
      "metadata": {
        "id": "fJ_FFAz5J1Uf"
      },
      "source": [
        "from torch.utils.data import DataLoader, RandomSampler, SequentialSampler\n",
        "\n",
        "# 在 fine-tune 的訓練中，BERT 作者建議小批量大小設為 16 或 32\n",
        "batch_size = 32\n",
        "\n",
        "# 為訓練和驗證集建立 Dataloader，對訓練樣本隨機洗牌\n",
        "train_dataloader = DataLoader(\n",
        "            train_dataset,  # 訓練樣本\n",
        "            sampler = RandomSampler(train_dataset), # 隨機小批量\n",
        "            batch_size = batch_size # 以小批量進行訓練\n",
        "        )\n",
        "\n",
        "# 驗證集不需要隨機化，這裡順序讀取就好\n",
        "validation_dataloader = DataLoader(\n",
        "            val_dataset, # 驗證樣本\n",
        "            sampler = SequentialSampler(val_dataset), # 順序選取小批量\n",
        "            batch_size = batch_size \n",
        "        )"
      ],
      "execution_count": null,
      "outputs": []
    },
    {
      "cell_type": "markdown",
      "metadata": {
        "id": "0gFCkVRrc2DB"
      },
      "source": [
        "# 輸出向量任務\n"
      ]
    },
    {
      "cell_type": "markdown",
      "metadata": {
        "id": "4jF1rfJfb9WS"
      },
      "source": [
        "# 分類pre-train model"
      ]
    },
    {
      "cell_type": "code",
      "metadata": {
        "id": "-5llL5-_zUeF",
        "colab": {
          "base_uri": "https://localhost:8080/",
          "height": 1000,
          "referenced_widgets": [
            "1105d7c671ab4fa1a1a6ff8f4633bbe0",
            "fdb74c2a95a44532b97d03fdd1a8c702",
            "7def30c7ff584e82b69826f5c695f78b",
            "a7f69fe116d74d698f6223c67718afe7",
            "2149db55e87b4a2d97f846703e9bac17",
            "f22f970bd4cd450e9f75e066da670a9f",
            "651b628718ef4721bbc0165941b4fdff",
            "07ea33286f85459083f3844159d2e7e5",
            "dd9e8f3d831b4e8f8515fbe2aeb994b5",
            "d59a8d480eea4b719864a2119eb6e90f",
            "271141cebf134a97a34591d4e4814505"
          ]
        },
        "outputId": "e3996f1c-1b61-49a5-d986-7f735d4bc4e2"
      },
      "source": [
        "from transformers import BertForSequenceClassification, AdamW, BertConfig\n",
        "\n",
        "# 載入 BertForSequenceClassification, 預訓練 BERT 模型 + 頂層的線性分類層 \n",
        "model = BertForSequenceClassification.from_pretrained(\n",
        "    \n",
        "    PRETRAINED_MODEL_NAME, # 小寫的 12 層預訓練模型\n",
        "    num_labels = 6, # 分類數 6 表示6分類\n",
        "                    # 你可以改變這個數字，用於多分類任務\n",
        "                      \n",
        "    output_attentions = False, # 模型是否返回 attentions weights.\n",
        "    output_hidden_states = False,# 模型是否返回所有隱層狀態.\n",
        "    return_dict=False \n",
        ")\n",
        "\n",
        "# 在 gpu 中執行該模型\n",
        "model.cuda()"
      ],
      "execution_count": null,
      "outputs": [
        {
          "output_type": "display_data",
          "data": {
            "application/vnd.jupyter.widget-view+json": {
              "model_id": "1105d7c671ab4fa1a1a6ff8f4633bbe0",
              "version_minor": 0,
              "version_major": 2
            },
            "text/plain": [
              "Downloading:   0%|          | 0.00/393M [00:00<?, ?B/s]"
            ]
          },
          "metadata": {}
        },
        {
          "output_type": "stream",
          "name": "stderr",
          "text": [
            "Some weights of the model checkpoint at bert-base-chinese were not used when initializing BertForSequenceClassification: ['cls.predictions.decoder.weight', 'cls.predictions.transform.dense.weight', 'cls.seq_relationship.weight', 'cls.predictions.transform.LayerNorm.bias', 'cls.seq_relationship.bias', 'cls.predictions.bias', 'cls.predictions.transform.LayerNorm.weight', 'cls.predictions.transform.dense.bias']\n",
            "- This IS expected if you are initializing BertForSequenceClassification from the checkpoint of a model trained on another task or with another architecture (e.g. initializing a BertForSequenceClassification model from a BertForPreTraining model).\n",
            "- This IS NOT expected if you are initializing BertForSequenceClassification from the checkpoint of a model that you expect to be exactly identical (initializing a BertForSequenceClassification model from a BertForSequenceClassification model).\n",
            "Some weights of BertForSequenceClassification were not initialized from the model checkpoint at bert-base-chinese and are newly initialized: ['classifier.bias', 'classifier.weight']\n",
            "You should probably TRAIN this model on a down-stream task to be able to use it for predictions and inference.\n"
          ]
        },
        {
          "output_type": "execute_result",
          "data": {
            "text/plain": [
              "BertForSequenceClassification(\n",
              "  (bert): BertModel(\n",
              "    (embeddings): BertEmbeddings(\n",
              "      (word_embeddings): Embedding(21128, 768, padding_idx=0)\n",
              "      (position_embeddings): Embedding(512, 768)\n",
              "      (token_type_embeddings): Embedding(2, 768)\n",
              "      (LayerNorm): LayerNorm((768,), eps=1e-12, elementwise_affine=True)\n",
              "      (dropout): Dropout(p=0.1, inplace=False)\n",
              "    )\n",
              "    (encoder): BertEncoder(\n",
              "      (layer): ModuleList(\n",
              "        (0): BertLayer(\n",
              "          (attention): BertAttention(\n",
              "            (self): BertSelfAttention(\n",
              "              (query): Linear(in_features=768, out_features=768, bias=True)\n",
              "              (key): Linear(in_features=768, out_features=768, bias=True)\n",
              "              (value): Linear(in_features=768, out_features=768, bias=True)\n",
              "              (dropout): Dropout(p=0.1, inplace=False)\n",
              "            )\n",
              "            (output): BertSelfOutput(\n",
              "              (dense): Linear(in_features=768, out_features=768, bias=True)\n",
              "              (LayerNorm): LayerNorm((768,), eps=1e-12, elementwise_affine=True)\n",
              "              (dropout): Dropout(p=0.1, inplace=False)\n",
              "            )\n",
              "          )\n",
              "          (intermediate): BertIntermediate(\n",
              "            (dense): Linear(in_features=768, out_features=3072, bias=True)\n",
              "          )\n",
              "          (output): BertOutput(\n",
              "            (dense): Linear(in_features=3072, out_features=768, bias=True)\n",
              "            (LayerNorm): LayerNorm((768,), eps=1e-12, elementwise_affine=True)\n",
              "            (dropout): Dropout(p=0.1, inplace=False)\n",
              "          )\n",
              "        )\n",
              "        (1): BertLayer(\n",
              "          (attention): BertAttention(\n",
              "            (self): BertSelfAttention(\n",
              "              (query): Linear(in_features=768, out_features=768, bias=True)\n",
              "              (key): Linear(in_features=768, out_features=768, bias=True)\n",
              "              (value): Linear(in_features=768, out_features=768, bias=True)\n",
              "              (dropout): Dropout(p=0.1, inplace=False)\n",
              "            )\n",
              "            (output): BertSelfOutput(\n",
              "              (dense): Linear(in_features=768, out_features=768, bias=True)\n",
              "              (LayerNorm): LayerNorm((768,), eps=1e-12, elementwise_affine=True)\n",
              "              (dropout): Dropout(p=0.1, inplace=False)\n",
              "            )\n",
              "          )\n",
              "          (intermediate): BertIntermediate(\n",
              "            (dense): Linear(in_features=768, out_features=3072, bias=True)\n",
              "          )\n",
              "          (output): BertOutput(\n",
              "            (dense): Linear(in_features=3072, out_features=768, bias=True)\n",
              "            (LayerNorm): LayerNorm((768,), eps=1e-12, elementwise_affine=True)\n",
              "            (dropout): Dropout(p=0.1, inplace=False)\n",
              "          )\n",
              "        )\n",
              "        (2): BertLayer(\n",
              "          (attention): BertAttention(\n",
              "            (self): BertSelfAttention(\n",
              "              (query): Linear(in_features=768, out_features=768, bias=True)\n",
              "              (key): Linear(in_features=768, out_features=768, bias=True)\n",
              "              (value): Linear(in_features=768, out_features=768, bias=True)\n",
              "              (dropout): Dropout(p=0.1, inplace=False)\n",
              "            )\n",
              "            (output): BertSelfOutput(\n",
              "              (dense): Linear(in_features=768, out_features=768, bias=True)\n",
              "              (LayerNorm): LayerNorm((768,), eps=1e-12, elementwise_affine=True)\n",
              "              (dropout): Dropout(p=0.1, inplace=False)\n",
              "            )\n",
              "          )\n",
              "          (intermediate): BertIntermediate(\n",
              "            (dense): Linear(in_features=768, out_features=3072, bias=True)\n",
              "          )\n",
              "          (output): BertOutput(\n",
              "            (dense): Linear(in_features=3072, out_features=768, bias=True)\n",
              "            (LayerNorm): LayerNorm((768,), eps=1e-12, elementwise_affine=True)\n",
              "            (dropout): Dropout(p=0.1, inplace=False)\n",
              "          )\n",
              "        )\n",
              "        (3): BertLayer(\n",
              "          (attention): BertAttention(\n",
              "            (self): BertSelfAttention(\n",
              "              (query): Linear(in_features=768, out_features=768, bias=True)\n",
              "              (key): Linear(in_features=768, out_features=768, bias=True)\n",
              "              (value): Linear(in_features=768, out_features=768, bias=True)\n",
              "              (dropout): Dropout(p=0.1, inplace=False)\n",
              "            )\n",
              "            (output): BertSelfOutput(\n",
              "              (dense): Linear(in_features=768, out_features=768, bias=True)\n",
              "              (LayerNorm): LayerNorm((768,), eps=1e-12, elementwise_affine=True)\n",
              "              (dropout): Dropout(p=0.1, inplace=False)\n",
              "            )\n",
              "          )\n",
              "          (intermediate): BertIntermediate(\n",
              "            (dense): Linear(in_features=768, out_features=3072, bias=True)\n",
              "          )\n",
              "          (output): BertOutput(\n",
              "            (dense): Linear(in_features=3072, out_features=768, bias=True)\n",
              "            (LayerNorm): LayerNorm((768,), eps=1e-12, elementwise_affine=True)\n",
              "            (dropout): Dropout(p=0.1, inplace=False)\n",
              "          )\n",
              "        )\n",
              "        (4): BertLayer(\n",
              "          (attention): BertAttention(\n",
              "            (self): BertSelfAttention(\n",
              "              (query): Linear(in_features=768, out_features=768, bias=True)\n",
              "              (key): Linear(in_features=768, out_features=768, bias=True)\n",
              "              (value): Linear(in_features=768, out_features=768, bias=True)\n",
              "              (dropout): Dropout(p=0.1, inplace=False)\n",
              "            )\n",
              "            (output): BertSelfOutput(\n",
              "              (dense): Linear(in_features=768, out_features=768, bias=True)\n",
              "              (LayerNorm): LayerNorm((768,), eps=1e-12, elementwise_affine=True)\n",
              "              (dropout): Dropout(p=0.1, inplace=False)\n",
              "            )\n",
              "          )\n",
              "          (intermediate): BertIntermediate(\n",
              "            (dense): Linear(in_features=768, out_features=3072, bias=True)\n",
              "          )\n",
              "          (output): BertOutput(\n",
              "            (dense): Linear(in_features=3072, out_features=768, bias=True)\n",
              "            (LayerNorm): LayerNorm((768,), eps=1e-12, elementwise_affine=True)\n",
              "            (dropout): Dropout(p=0.1, inplace=False)\n",
              "          )\n",
              "        )\n",
              "        (5): BertLayer(\n",
              "          (attention): BertAttention(\n",
              "            (self): BertSelfAttention(\n",
              "              (query): Linear(in_features=768, out_features=768, bias=True)\n",
              "              (key): Linear(in_features=768, out_features=768, bias=True)\n",
              "              (value): Linear(in_features=768, out_features=768, bias=True)\n",
              "              (dropout): Dropout(p=0.1, inplace=False)\n",
              "            )\n",
              "            (output): BertSelfOutput(\n",
              "              (dense): Linear(in_features=768, out_features=768, bias=True)\n",
              "              (LayerNorm): LayerNorm((768,), eps=1e-12, elementwise_affine=True)\n",
              "              (dropout): Dropout(p=0.1, inplace=False)\n",
              "            )\n",
              "          )\n",
              "          (intermediate): BertIntermediate(\n",
              "            (dense): Linear(in_features=768, out_features=3072, bias=True)\n",
              "          )\n",
              "          (output): BertOutput(\n",
              "            (dense): Linear(in_features=3072, out_features=768, bias=True)\n",
              "            (LayerNorm): LayerNorm((768,), eps=1e-12, elementwise_affine=True)\n",
              "            (dropout): Dropout(p=0.1, inplace=False)\n",
              "          )\n",
              "        )\n",
              "        (6): BertLayer(\n",
              "          (attention): BertAttention(\n",
              "            (self): BertSelfAttention(\n",
              "              (query): Linear(in_features=768, out_features=768, bias=True)\n",
              "              (key): Linear(in_features=768, out_features=768, bias=True)\n",
              "              (value): Linear(in_features=768, out_features=768, bias=True)\n",
              "              (dropout): Dropout(p=0.1, inplace=False)\n",
              "            )\n",
              "            (output): BertSelfOutput(\n",
              "              (dense): Linear(in_features=768, out_features=768, bias=True)\n",
              "              (LayerNorm): LayerNorm((768,), eps=1e-12, elementwise_affine=True)\n",
              "              (dropout): Dropout(p=0.1, inplace=False)\n",
              "            )\n",
              "          )\n",
              "          (intermediate): BertIntermediate(\n",
              "            (dense): Linear(in_features=768, out_features=3072, bias=True)\n",
              "          )\n",
              "          (output): BertOutput(\n",
              "            (dense): Linear(in_features=3072, out_features=768, bias=True)\n",
              "            (LayerNorm): LayerNorm((768,), eps=1e-12, elementwise_affine=True)\n",
              "            (dropout): Dropout(p=0.1, inplace=False)\n",
              "          )\n",
              "        )\n",
              "        (7): BertLayer(\n",
              "          (attention): BertAttention(\n",
              "            (self): BertSelfAttention(\n",
              "              (query): Linear(in_features=768, out_features=768, bias=True)\n",
              "              (key): Linear(in_features=768, out_features=768, bias=True)\n",
              "              (value): Linear(in_features=768, out_features=768, bias=True)\n",
              "              (dropout): Dropout(p=0.1, inplace=False)\n",
              "            )\n",
              "            (output): BertSelfOutput(\n",
              "              (dense): Linear(in_features=768, out_features=768, bias=True)\n",
              "              (LayerNorm): LayerNorm((768,), eps=1e-12, elementwise_affine=True)\n",
              "              (dropout): Dropout(p=0.1, inplace=False)\n",
              "            )\n",
              "          )\n",
              "          (intermediate): BertIntermediate(\n",
              "            (dense): Linear(in_features=768, out_features=3072, bias=True)\n",
              "          )\n",
              "          (output): BertOutput(\n",
              "            (dense): Linear(in_features=3072, out_features=768, bias=True)\n",
              "            (LayerNorm): LayerNorm((768,), eps=1e-12, elementwise_affine=True)\n",
              "            (dropout): Dropout(p=0.1, inplace=False)\n",
              "          )\n",
              "        )\n",
              "        (8): BertLayer(\n",
              "          (attention): BertAttention(\n",
              "            (self): BertSelfAttention(\n",
              "              (query): Linear(in_features=768, out_features=768, bias=True)\n",
              "              (key): Linear(in_features=768, out_features=768, bias=True)\n",
              "              (value): Linear(in_features=768, out_features=768, bias=True)\n",
              "              (dropout): Dropout(p=0.1, inplace=False)\n",
              "            )\n",
              "            (output): BertSelfOutput(\n",
              "              (dense): Linear(in_features=768, out_features=768, bias=True)\n",
              "              (LayerNorm): LayerNorm((768,), eps=1e-12, elementwise_affine=True)\n",
              "              (dropout): Dropout(p=0.1, inplace=False)\n",
              "            )\n",
              "          )\n",
              "          (intermediate): BertIntermediate(\n",
              "            (dense): Linear(in_features=768, out_features=3072, bias=True)\n",
              "          )\n",
              "          (output): BertOutput(\n",
              "            (dense): Linear(in_features=3072, out_features=768, bias=True)\n",
              "            (LayerNorm): LayerNorm((768,), eps=1e-12, elementwise_affine=True)\n",
              "            (dropout): Dropout(p=0.1, inplace=False)\n",
              "          )\n",
              "        )\n",
              "        (9): BertLayer(\n",
              "          (attention): BertAttention(\n",
              "            (self): BertSelfAttention(\n",
              "              (query): Linear(in_features=768, out_features=768, bias=True)\n",
              "              (key): Linear(in_features=768, out_features=768, bias=True)\n",
              "              (value): Linear(in_features=768, out_features=768, bias=True)\n",
              "              (dropout): Dropout(p=0.1, inplace=False)\n",
              "            )\n",
              "            (output): BertSelfOutput(\n",
              "              (dense): Linear(in_features=768, out_features=768, bias=True)\n",
              "              (LayerNorm): LayerNorm((768,), eps=1e-12, elementwise_affine=True)\n",
              "              (dropout): Dropout(p=0.1, inplace=False)\n",
              "            )\n",
              "          )\n",
              "          (intermediate): BertIntermediate(\n",
              "            (dense): Linear(in_features=768, out_features=3072, bias=True)\n",
              "          )\n",
              "          (output): BertOutput(\n",
              "            (dense): Linear(in_features=3072, out_features=768, bias=True)\n",
              "            (LayerNorm): LayerNorm((768,), eps=1e-12, elementwise_affine=True)\n",
              "            (dropout): Dropout(p=0.1, inplace=False)\n",
              "          )\n",
              "        )\n",
              "        (10): BertLayer(\n",
              "          (attention): BertAttention(\n",
              "            (self): BertSelfAttention(\n",
              "              (query): Linear(in_features=768, out_features=768, bias=True)\n",
              "              (key): Linear(in_features=768, out_features=768, bias=True)\n",
              "              (value): Linear(in_features=768, out_features=768, bias=True)\n",
              "              (dropout): Dropout(p=0.1, inplace=False)\n",
              "            )\n",
              "            (output): BertSelfOutput(\n",
              "              (dense): Linear(in_features=768, out_features=768, bias=True)\n",
              "              (LayerNorm): LayerNorm((768,), eps=1e-12, elementwise_affine=True)\n",
              "              (dropout): Dropout(p=0.1, inplace=False)\n",
              "            )\n",
              "          )\n",
              "          (intermediate): BertIntermediate(\n",
              "            (dense): Linear(in_features=768, out_features=3072, bias=True)\n",
              "          )\n",
              "          (output): BertOutput(\n",
              "            (dense): Linear(in_features=3072, out_features=768, bias=True)\n",
              "            (LayerNorm): LayerNorm((768,), eps=1e-12, elementwise_affine=True)\n",
              "            (dropout): Dropout(p=0.1, inplace=False)\n",
              "          )\n",
              "        )\n",
              "        (11): BertLayer(\n",
              "          (attention): BertAttention(\n",
              "            (self): BertSelfAttention(\n",
              "              (query): Linear(in_features=768, out_features=768, bias=True)\n",
              "              (key): Linear(in_features=768, out_features=768, bias=True)\n",
              "              (value): Linear(in_features=768, out_features=768, bias=True)\n",
              "              (dropout): Dropout(p=0.1, inplace=False)\n",
              "            )\n",
              "            (output): BertSelfOutput(\n",
              "              (dense): Linear(in_features=768, out_features=768, bias=True)\n",
              "              (LayerNorm): LayerNorm((768,), eps=1e-12, elementwise_affine=True)\n",
              "              (dropout): Dropout(p=0.1, inplace=False)\n",
              "            )\n",
              "          )\n",
              "          (intermediate): BertIntermediate(\n",
              "            (dense): Linear(in_features=768, out_features=3072, bias=True)\n",
              "          )\n",
              "          (output): BertOutput(\n",
              "            (dense): Linear(in_features=3072, out_features=768, bias=True)\n",
              "            (LayerNorm): LayerNorm((768,), eps=1e-12, elementwise_affine=True)\n",
              "            (dropout): Dropout(p=0.1, inplace=False)\n",
              "          )\n",
              "        )\n",
              "      )\n",
              "    )\n",
              "    (pooler): BertPooler(\n",
              "      (dense): Linear(in_features=768, out_features=768, bias=True)\n",
              "      (activation): Tanh()\n",
              "    )\n",
              "  )\n",
              "  (dropout): Dropout(p=0.1, inplace=False)\n",
              "  (classifier): Linear(in_features=768, out_features=6, bias=True)\n",
              ")"
            ]
          },
          "metadata": {},
          "execution_count": 19
        }
      ]
    },
    {
      "cell_type": "markdown",
      "metadata": {
        "id": "e5Hya2GPRUS8"
      },
      "source": [
        "可以根據引數名來檢視所有的模型引數。\n",
        "\n",
        "下面會列印引數名和引數的形狀：\n",
        "\n",
        "1.embedding 層\n",
        "2.12 層 transformers 的第 1 層\n",
        "3.輸出層"
      ]
    },
    {
      "cell_type": "code",
      "metadata": {
        "colab": {
          "base_uri": "https://localhost:8080/"
        },
        "id": "JNg8tVzDRR1Z",
        "outputId": "e3dc3704-22ca-492f-ed86-53264d3d2a26"
      },
      "source": [
        "params = list(model.named_parameters())\n",
        "\n",
        "print('The BERT model has {:} different named parameters.\\n'.format(len(params)))\n",
        "\n",
        "print('==== Embedding Layer ====\\n')\n",
        "\n",
        "for p in params[0:5]:\n",
        "    print(\"{:<55} {:>12}\".format(p[0], str(tuple(p[1].size()))))\n",
        "\n",
        "print('\\n==== First Transformer ====\\n')\n",
        "\n",
        "for p in params[5:21]:\n",
        "    print(\"{:<55} {:>12}\".format(p[0], str(tuple(p[1].size()))))\n",
        "\n",
        "print('\\n==== Output Layer ====\\n')\n",
        "\n",
        "for p in params[-4:]:\n",
        "    print(\"{:<55} {:>12}\".format(p[0], str(tuple(p[1].size()))))"
      ],
      "execution_count": null,
      "outputs": [
        {
          "output_type": "stream",
          "name": "stdout",
          "text": [
            "The BERT model has 201 different named parameters.\n",
            "\n",
            "==== Embedding Layer ====\n",
            "\n",
            "bert.embeddings.word_embeddings.weight                  (21128, 768)\n",
            "bert.embeddings.position_embeddings.weight                (512, 768)\n",
            "bert.embeddings.token_type_embeddings.weight                (2, 768)\n",
            "bert.embeddings.LayerNorm.weight                              (768,)\n",
            "bert.embeddings.LayerNorm.bias                                (768,)\n",
            "\n",
            "==== First Transformer ====\n",
            "\n",
            "bert.encoder.layer.0.attention.self.query.weight          (768, 768)\n",
            "bert.encoder.layer.0.attention.self.query.bias                (768,)\n",
            "bert.encoder.layer.0.attention.self.key.weight            (768, 768)\n",
            "bert.encoder.layer.0.attention.self.key.bias                  (768,)\n",
            "bert.encoder.layer.0.attention.self.value.weight          (768, 768)\n",
            "bert.encoder.layer.0.attention.self.value.bias                (768,)\n",
            "bert.encoder.layer.0.attention.output.dense.weight        (768, 768)\n",
            "bert.encoder.layer.0.attention.output.dense.bias              (768,)\n",
            "bert.encoder.layer.0.attention.output.LayerNorm.weight        (768,)\n",
            "bert.encoder.layer.0.attention.output.LayerNorm.bias          (768,)\n",
            "bert.encoder.layer.0.intermediate.dense.weight           (3072, 768)\n",
            "bert.encoder.layer.0.intermediate.dense.bias                 (3072,)\n",
            "bert.encoder.layer.0.output.dense.weight                 (768, 3072)\n",
            "bert.encoder.layer.0.output.dense.bias                        (768,)\n",
            "bert.encoder.layer.0.output.LayerNorm.weight                  (768,)\n",
            "bert.encoder.layer.0.output.LayerNorm.bias                    (768,)\n",
            "\n",
            "==== Output Layer ====\n",
            "\n",
            "bert.pooler.dense.weight                                  (768, 768)\n",
            "bert.pooler.dense.bias                                        (768,)\n",
            "classifier.weight                                           (6, 768)\n",
            "classifier.bias                                                 (6,)\n"
          ]
        }
      ]
    },
    {
      "cell_type": "markdown",
      "metadata": {
        "id": "eIV8bxbqRYBr"
      },
      "source": [
        "4.2. 優化器 & 學習率排程器\n",
        "載入了模型後，下一步我們來調節超引數。\n",
        "\n",
        "在微調過程中，BERT 的作者建議使用以下超參 (from Appendix A.3 of the BERT paper):："
      ]
    },
    {
      "cell_type": "code",
      "metadata": {
        "id": "oVJL0b9qbZ1h"
      },
      "source": [
        "optimizer = AdamW(model.parameters(),\n",
        "                  lr = 2e-5, # args.learning_rate - default is 5e-5\n",
        "                  eps = 1e-8 # args.adam_epsilon  - default is 1e-8\n",
        "                )"
      ],
      "execution_count": null,
      "outputs": []
    },
    {
      "cell_type": "code",
      "metadata": {
        "id": "yROZodpqbZ3s"
      },
      "source": [
        "from transformers import get_linear_schedule_with_warmup\n",
        "\n",
        "# 訓練 epochs。 BERT 作者建議在 2 和 4 之間，設大了容易過擬合 \n",
        "epochs = 4\n",
        "\n",
        "# 總的訓練樣本數\n",
        "total_steps = len(train_dataloader) * epochs\n",
        "\n",
        "# 建立學習率排程器\n",
        "scheduler = get_linear_schedule_with_warmup(optimizer, \n",
        "                                            num_warmup_steps = 0, \n",
        "                                            num_training_steps = total_steps)\n"
      ],
      "execution_count": null,
      "outputs": []
    },
    {
      "cell_type": "markdown",
      "metadata": {
        "id": "OZas-aEaRfyF"
      },
      "source": [
        "我們的選擇如下：\n",
        "\n",
        "Batch size: 32（在構建 DataLoaders 時設定）\n",
        "Learning rate：2e-5\n",
        "Epochs： 4（我們將看到這個值對於本任務來說有點大了）\n",
        "引數 epsilon = 1e-8 是一個非常小的值，他可以避免實現過程中的分母為 0 的情況 (from here)。\n",
        "\n",
        "你可以在 run_glue.py 中找到優化器 AdamW 的建立："
      ]
    },
    {
      "cell_type": "code",
      "metadata": {
        "id": "4j7vOvhJbvKb"
      },
      "source": [
        "def flat_accuracy(preds, labels):\n",
        "    pred_flat = np.argmax(preds, axis=1).flatten()\n",
        "    labels_flat = labels.flatten()\n",
        "    return np.sum(pred_flat == labels_flat) / len(labels_flat)\n",
        "\n",
        "import time\n",
        "import datetime\n",
        "\n",
        "def format_time(elapsed):\n",
        "    '''\n",
        "    Takes a time in seconds and returns a string hh:mm:ss\n",
        "    '''\n",
        "    # 四捨五入到最近的秒\n",
        "    elapsed_rounded = int(round((elapsed)))\n",
        "    \n",
        "    # 格式化為 hh:mm:ss\n",
        "    return str(datetime.timedelta(seconds=elapsed_rounded))"
      ],
      "execution_count": null,
      "outputs": []
    },
    {
      "cell_type": "code",
      "metadata": {
        "colab": {
          "base_uri": "https://localhost:8080/"
        },
        "id": "ZM4HTV-RbvOd",
        "outputId": "d8c304bd-7c7a-4ec7-ae2e-6d1522b47d20"
      },
      "source": [
        "import random\n",
        "import numpy as np\n",
        "\n",
        "# 以下訓練程式碼是基於 `run_glue.py` 指令碼:\n",
        "# https://github.com/huggingface/transformers/blob/5bfcd0485ece086ebcbed2d008813037968a9e58/examples/run_glue.py#L128\n",
        "\n",
        "# 設定隨機種子值，以確保輸出是確定的\n",
        "seed_val = 42\n",
        "\n",
        "random.seed(seed_val)\n",
        "np.random.seed(seed_val)\n",
        "torch.manual_seed(seed_val)\n",
        "torch.cuda.manual_seed_all(seed_val)\n",
        "\n",
        "# 儲存訓練和評估的 loss、準確率、訓練時長等統計指標, \n",
        "training_stats = []\n",
        "\n",
        "# 統計整個訓練時長\n",
        "total_t0 = time.time()\n",
        "\n",
        "for epoch_i in range(0, epochs):\n",
        "    \n",
        "    # ========================================\n",
        "    #               Training\n",
        "    # ========================================\n",
        "    \n",
        "\n",
        "    print(\"\")\n",
        "    print('======== Epoch {:} / {:} ========'.format(epoch_i + 1, epochs))\n",
        "    print('Training...')\n",
        "\n",
        "    # 統計單次 epoch 的訓練時間\n",
        "    t0 = time.time()\n",
        "\n",
        "    # 重置每次 epoch 的訓練總 loss\n",
        "    total_train_loss = 0\n",
        "\n",
        "    # 將模型設定為訓練模式。這裡並不是呼叫訓練介面的意思\n",
        "    # dropout、batchnorm 層在訓練和測試模式下的表現是不同的 (source: https://stackoverflow.com/questions/51433378/what-does-model-train-do-in-pytorch)\n",
        "    model.train()\n",
        "\n",
        "    # 訓練集小批量迭代\n",
        "    for step, batch in enumerate(train_dataloader):\n",
        "\n",
        "        # 每經過40次迭代，就輸出進度資訊\n",
        "        if step % 40 == 0 and not step == 0:\n",
        "            elapsed = format_time(time.time() - t0)\n",
        "            print('  Batch {:>5,}  of  {:>5,}.    Elapsed: {:}.'.format(step, len(train_dataloader), elapsed))\n",
        "\n",
        "        # 準備輸入資料，並將其拷貝到 gpu 中\n",
        "        b_input_ids = batch[0].to(device)\n",
        "        b_input_mask = batch[1].to(device)\n",
        "        b_labels = batch[2].to(device)\n",
        "\n",
        "        # 每次計算梯度前，都需要將梯度清 0，因為 pytorch 的梯度是累加的\n",
        "        model.zero_grad()        \n",
        "\n",
        "        # 前向傳播\n",
        "        # 文件參見: \n",
        "        # https://huggingface.co/transformers/v2.2.0/model_doc/bert.html#transformers.BertForSequenceClassification\n",
        "        # 該函式會根據不同的引數，會返回不同的值。 本例中, 會返回 loss 和 logits -- 模型的預測結果\n",
        "        loss, logits = model(b_input_ids, \n",
        "                             token_type_ids=None, \n",
        "                             attention_mask=b_input_mask, \n",
        "                             labels=b_labels)\n",
        "\n",
        "        # 累加 loss\n",
        "        total_train_loss += loss.item()\n",
        "\n",
        "        # 反向傳播\n",
        "        loss.backward()\n",
        "\n",
        "        # 梯度裁剪，避免出現梯度爆炸情況\n",
        "        torch.nn.utils.clip_grad_norm_(model.parameters(), 1.0)\n",
        "\n",
        "        # 更新引數\n",
        "        optimizer.step()\n",
        "\n",
        "        # 更新學習率\n",
        "        scheduler.step()\n",
        "\n",
        "    # 平均訓練誤差\n",
        "    avg_train_loss = total_train_loss / len(train_dataloader)            \n",
        "    \n",
        "    # 單次 epoch 的訓練時長\n",
        "    training_time = format_time(time.time() - t0)\n",
        "\n",
        "    print(\"\")\n",
        "    print(\"  Average training loss: {0:.2f}\".format(avg_train_loss))\n",
        "    print(\"  Training epcoh took: {:}\".format(training_time))\n",
        "        \n",
        "    # ========================================\n",
        "    #               Validation\n",
        "    # ========================================\n",
        "    # 完成一次 epoch 訓練後，就對該模型的效能進行驗證\n",
        "\n",
        "    print(\"\")\n",
        "    print(\"Running Validation...\")\n",
        "\n",
        "    t0 = time.time()\n",
        "\n",
        "    # 設定模型為評估模式\n",
        "    model.eval()\n",
        "\n",
        "    # Tracking variables \n",
        "    total_eval_accuracy = 0\n",
        "    total_eval_loss = 0\n",
        "    nb_eval_steps = 0\n",
        "\n",
        "    # Evaluate data for one epoch\n",
        "    for batch in validation_dataloader:\n",
        "        \n",
        "        # 將輸入資料載入到 gpu 中\n",
        "        b_input_ids = batch[0].to(device)\n",
        "        b_input_mask = batch[1].to(device)\n",
        "        b_labels = batch[2].to(device)\n",
        "        \n",
        "        # 評估的時候不需要更新引數、計算梯度\n",
        "        with torch.no_grad():        \n",
        "            (loss, logits) = model(b_input_ids, \n",
        "                                   token_type_ids=None, \n",
        "                                   attention_mask=b_input_mask,\n",
        "                                   labels=b_labels)\n",
        "            \n",
        "        # 累加 loss\n",
        "        total_eval_loss += loss.item()\n",
        "\n",
        "        # 將預測結果和 labels 載入到 cpu 中計算\n",
        "        logits = logits.detach().cpu().numpy()\n",
        "        label_ids = b_labels.to('cpu').numpy()\n",
        "\n",
        "        # 計算準確率\n",
        "        total_eval_accuracy += flat_accuracy(logits, label_ids)\n",
        "        \n",
        "\n",
        "    # 列印本次 epoch 的準確率\n",
        "    avg_val_accuracy = total_eval_accuracy / len(validation_dataloader)\n",
        "    print(\"  Accuracy: {0:.2f}\".format(avg_val_accuracy))\n",
        "\n",
        "    # 統計本次 epoch 的 loss\n",
        "    avg_val_loss = total_eval_loss / len(validation_dataloader)\n",
        "    \n",
        "    # 統計本次評估的時長\n",
        "    validation_time = format_time(time.time() - t0)\n",
        "    \n",
        "    print(\"  Validation Loss: {0:.2f}\".format(avg_val_loss))\n",
        "    print(\"  Validation took: {:}\".format(validation_time))\n",
        "\n",
        "    # 記錄本次 epoch 的所有統計資訊\n",
        "    training_stats.append(\n",
        "        {\n",
        "            'epoch': epoch_i + 1,\n",
        "            'Training Loss': avg_train_loss,\n",
        "            'Valid. Loss': avg_val_loss,\n",
        "            'Valid. Accur.': avg_val_accuracy,\n",
        "            'Training Time': training_time,\n",
        "            'Validation Time': validation_time\n",
        "        }\n",
        "    )\n",
        "\n",
        "torch.save(model,'Bert_classification.pth')\n",
        "\n",
        "print(\"\")\n",
        "print(\"Training complete!\")\n",
        "print(\"Total training took {:} (h:mm:ss)\".format(format_time(time.time()-total_t0)))"
      ],
      "execution_count": null,
      "outputs": [
        {
          "output_type": "stream",
          "name": "stdout",
          "text": [
            "\n",
            "======== Epoch 1 / 4 ========\n",
            "Training...\n",
            "\n",
            "  Average training loss: 1.92\n",
            "  Training epcoh took: 0:00:00\n",
            "\n",
            "Running Validation...\n",
            "  Accuracy: 0.33\n",
            "  Validation Loss: 1.90\n",
            "  Validation took: 0:00:00\n",
            "\n",
            "======== Epoch 2 / 4 ========\n",
            "Training...\n",
            "\n",
            "  Average training loss: 1.73\n",
            "  Training epcoh took: 0:00:00\n",
            "\n",
            "Running Validation...\n",
            "  Accuracy: 0.33\n",
            "  Validation Loss: 1.86\n",
            "  Validation took: 0:00:00\n",
            "\n",
            "======== Epoch 3 / 4 ========\n",
            "Training...\n",
            "\n",
            "  Average training loss: 1.71\n",
            "  Training epcoh took: 0:00:00\n",
            "\n",
            "Running Validation...\n",
            "  Accuracy: 0.33\n",
            "  Validation Loss: 1.83\n",
            "  Validation took: 0:00:00\n",
            "\n",
            "======== Epoch 4 / 4 ========\n",
            "Training...\n",
            "\n",
            "  Average training loss: 1.59\n",
            "  Training epcoh took: 0:00:00\n",
            "\n",
            "Running Validation...\n",
            "  Accuracy: 0.33\n",
            "  Validation Loss: 1.81\n",
            "  Validation took: 0:00:00\n",
            "\n",
            "Training complete!\n",
            "Total training took 0:00:02 (h:mm:ss)\n"
          ]
        }
      ]
    },
    {
      "cell_type": "markdown",
      "metadata": {
        "id": "97er7x2RLaD9"
      },
      "source": [
        "# 訓練效果呈現"
      ]
    },
    {
      "cell_type": "code",
      "metadata": {
        "colab": {
          "base_uri": "https://localhost:8080/",
          "height": 202
        },
        "id": "kEBvRfybbvQ2",
        "outputId": "83e25b24-3027-4985-dda8-5e7238e319db"
      },
      "source": [
        "# 保留 2 位小數\n",
        "pd.set_option('precision', 2)\n",
        "\n",
        "# 載入訓練統計到 DataFrame 中\n",
        "df_stats = pd.DataFrame(data=training_stats)\n",
        "\n",
        "# 使用 epoch 值作為每行的索引\n",
        "df_stats = df_stats.set_index('epoch')\n",
        "\n",
        "# 展示表格資料\n",
        "df_stats\n"
      ],
      "execution_count": null,
      "outputs": [
        {
          "output_type": "execute_result",
          "data": {
            "text/html": [
              "<div>\n",
              "<style scoped>\n",
              "    .dataframe tbody tr th:only-of-type {\n",
              "        vertical-align: middle;\n",
              "    }\n",
              "\n",
              "    .dataframe tbody tr th {\n",
              "        vertical-align: top;\n",
              "    }\n",
              "\n",
              "    .dataframe thead th {\n",
              "        text-align: right;\n",
              "    }\n",
              "</style>\n",
              "<table border=\"1\" class=\"dataframe\">\n",
              "  <thead>\n",
              "    <tr style=\"text-align: right;\">\n",
              "      <th></th>\n",
              "      <th>Training Loss</th>\n",
              "      <th>Valid. Loss</th>\n",
              "      <th>Valid. Accur.</th>\n",
              "      <th>Training Time</th>\n",
              "      <th>Validation Time</th>\n",
              "    </tr>\n",
              "    <tr>\n",
              "      <th>epoch</th>\n",
              "      <th></th>\n",
              "      <th></th>\n",
              "      <th></th>\n",
              "      <th></th>\n",
              "      <th></th>\n",
              "    </tr>\n",
              "  </thead>\n",
              "  <tbody>\n",
              "    <tr>\n",
              "      <th>1</th>\n",
              "      <td>1.92</td>\n",
              "      <td>1.90</td>\n",
              "      <td>0.33</td>\n",
              "      <td>0:00:00</td>\n",
              "      <td>0:00:00</td>\n",
              "    </tr>\n",
              "    <tr>\n",
              "      <th>2</th>\n",
              "      <td>1.73</td>\n",
              "      <td>1.86</td>\n",
              "      <td>0.33</td>\n",
              "      <td>0:00:00</td>\n",
              "      <td>0:00:00</td>\n",
              "    </tr>\n",
              "    <tr>\n",
              "      <th>3</th>\n",
              "      <td>1.71</td>\n",
              "      <td>1.83</td>\n",
              "      <td>0.33</td>\n",
              "      <td>0:00:00</td>\n",
              "      <td>0:00:00</td>\n",
              "    </tr>\n",
              "    <tr>\n",
              "      <th>4</th>\n",
              "      <td>1.59</td>\n",
              "      <td>1.81</td>\n",
              "      <td>0.33</td>\n",
              "      <td>0:00:00</td>\n",
              "      <td>0:00:00</td>\n",
              "    </tr>\n",
              "  </tbody>\n",
              "</table>\n",
              "</div>"
            ],
            "text/plain": [
              "       Training Loss  Valid. Loss  Valid. Accur. Training Time Validation Time\n",
              "epoch                                                                         \n",
              "1               1.92         1.90           0.33       0:00:00         0:00:00\n",
              "2               1.73         1.86           0.33       0:00:00         0:00:00\n",
              "3               1.71         1.83           0.33       0:00:00         0:00:00\n",
              "4               1.59         1.81           0.33       0:00:00         0:00:00"
            ]
          },
          "metadata": {},
          "execution_count": 25
        }
      ]
    },
    {
      "cell_type": "code",
      "metadata": {
        "id": "MIM_f2jCUUPk"
      },
      "source": [
        ""
      ],
      "execution_count": null,
      "outputs": []
    },
    {
      "cell_type": "code",
      "metadata": {
        "id": "powheUdlbvTi",
        "colab": {
          "base_uri": "https://localhost:8080/",
          "height": 426
        },
        "outputId": "60004801-8784-4819-86e2-d45736fb88f4"
      },
      "source": [
        "import matplotlib.pyplot as plt\n",
        "% matplotlib inline\n",
        "\n",
        "import seaborn as sns\n",
        "\n",
        "# 繪圖風格設定\n",
        "sns.set(style='darkgrid')\n",
        "\n",
        "# Increase the plot size and font size.\n",
        "sns.set(font_scale=1.5)\n",
        "plt.rcParams[\"figure.figsize\"] = (12,6)\n",
        "\n",
        "# 繪製學習曲線\n",
        "plt.plot(df_stats['Training Loss'], 'b-o', label=\"Training\")\n",
        "plt.plot(df_stats['Valid. Loss'], 'g-o', label=\"Validation\")\n",
        "\n",
        "# Label the plot.\n",
        "plt.title(\"Training & Validation Loss\")\n",
        "plt.xlabel(\"Epoch\")\n",
        "plt.ylabel(\"Loss\")\n",
        "plt.legend()\n",
        "plt.xticks([1, 2, 3, 4])\n",
        "\n",
        "plt.show()\n",
        "\n",
        "# Val_Loss如果越來越高 代表過擬和"
      ],
      "execution_count": null,
      "outputs": [
        {
          "output_type": "display_data",
          "data": {
            "image/png": "[encoded data removed]",
            "text/plain": [
              "<Figure size 864x432 with 1 Axes>"
            ]
          },
          "metadata": {}
        }
      ]
    },
    {
      "cell_type": "markdown",
      "metadata": {
        "id": "TWg1rD8PyiZU"
      },
      "source": [
        "# 模型應用\n",
        "\n",
        "下面我們載入測試集，並使用 Matthew相關係數來評估模型效能，因為這是一種在 NLP 社群中被廣泛使用的衡量 CoLA 任務效能的方法。使用這種測量方法，+1 為最高分，-1 為最低分。於是，我們就可以在特定任務上，橫向和最好的模型進行效能對比了。\n",
        "\n",
        "5.1. 資料準備\n",
        "對測試集的處理，和處理訓練資料集的步驟是一致的，如下"
      ]
    },
    {
      "cell_type": "code",
      "metadata": {
        "id": "_VbcC3HPrLKA",
        "colab": {
          "base_uri": "https://localhost:8080/"
        },
        "outputId": "44519f5f-b1d5-491e-992c-3adb435fea44"
      },
      "source": [
        "import pandas as pd\n",
        "\n",
        "# 載入資料集\n",
        "# df = pd.read_csv(\"./cola_public/raw/out_of_domain_dev.tsv\", delimiter='\\t', header=None, names=['sentence_source', 'label', 'label_notes', 'sentence'])\n",
        "df = pd.read_excel(\"bert_test.xlsx\", header=None, names=['sentence_source', 'sentence', 'label'])\n",
        "# 列印資料集大小\n",
        "print('Number of test sentences: {:,}\\n'.format(df.shape[0]))\n",
        "# 將資料集轉換為列表\n",
        "sentences = df.sentence.values\n",
        "labels = df.label.values\n",
        "\n",
        "# 分詞、填充或截斷\n",
        "input_ids = []\n",
        "attention_masks = []\n",
        "for sent in sentences:\n",
        "    encoded_dict = tokenizer.encode_plus(\n",
        "                        sent,                      \n",
        "                        add_special_tokens = True, \n",
        "                        max_length = 64,           \n",
        "                        pad_to_max_length = True,\n",
        "                        return_attention_mask = True,   \n",
        "                        return_tensors = 'pt',     \n",
        "                   )\n",
        "    input_ids.append(encoded_dict['input_ids'])\n",
        "    attention_masks.append(encoded_dict['attention_mask'])\n",
        "\n",
        "input_ids = torch.cat(input_ids, dim=0)\n",
        "attention_masks = torch.cat(attention_masks, dim=0)\n",
        "labels = torch.tensor(labels)\n",
        "\n",
        "batch_size = 32  \n",
        "\n",
        "# 準備好資料集\n",
        "prediction_data = TensorDataset(input_ids, attention_masks, labels)\n",
        "prediction_sampler = SequentialSampler(prediction_data)\n",
        "prediction_dataloader = DataLoader(prediction_data, sampler=prediction_sampler, batch_size=batch_size)"
      ],
      "execution_count": null,
      "outputs": [
        {
          "output_type": "stream",
          "name": "stdout",
          "text": [
            "Number of test sentences: 21\n",
            "\n"
          ]
        }
      ]
    },
    {
      "cell_type": "markdown",
      "metadata": {
        "id": "8pSfZMUtykzF"
      },
      "source": [
        "5.2. 評估測試集效能\n",
        "準備好測試集資料後，就可以用之前微調的模型來對測試集進行預測了"
      ]
    },
    {
      "cell_type": "code",
      "metadata": {
        "colab": {
          "base_uri": "https://localhost:8080/"
        },
        "id": "X0Zmx6FGylzi",
        "outputId": "45c87e84-c42a-4b7a-9573-262f6dcc8d2c"
      },
      "source": [
        "# 預測測試集\n",
        "\n",
        "print('Predicting labels for {:,} test sentences...'.format(len(input_ids)))\n",
        "# 依然是評估模式\n",
        "model.eval()\n",
        "\n",
        "# Tracking variables \n",
        "predictions , true_labels = [], []\n",
        "\n",
        "# 預測\n",
        "for batch in prediction_dataloader:\n",
        "  # 將資料載入到 gpu 中\n",
        "  batch = tuple(t.to(device) for t in batch)\n",
        "  b_input_ids, b_input_mask, b_labels = batch\n",
        "  \n",
        "  # 不需要計算梯度\n",
        "  with torch.no_grad():\n",
        "      # 前向傳播，獲取預測結果\n",
        "      outputs = model(b_input_ids, token_type_ids=None, \n",
        "                      attention_mask=b_input_mask)\n",
        "\n",
        "  logits = outputs[0]\n",
        "\n",
        "  # 將結果載入到 cpu 中\n",
        "  logits = logits.detach().cpu().numpy()\n",
        "  label_ids = b_labels.to('cpu').numpy()\n",
        "  \n",
        "  # 儲存預測結果和 labels\n",
        "  predictions.append(logits)\n",
        "  true_labels.append(label_ids)\n",
        "\n",
        "print('   \\n DONE. \\n')\n",
        "\n",
        "print('Positive samples: %d of %d (%.2f%%)' % (df.label.sum(), len(df.label), (df.label.sum() / len(df.label) * 100.0)))"
      ],
      "execution_count": null,
      "outputs": [
        {
          "output_type": "stream",
          "name": "stdout",
          "text": [
            "Predicting labels for 21 test sentences...\n",
            "   \n",
            " DONE. \n",
            "\n",
            "Positive samples: 57 of 21 (271.43%)\n"
          ]
        }
      ]
    },
    {
      "cell_type": "markdown",
      "metadata": {
        "id": "xBhm9fN5tNEG"
      },
      "source": [
        "# 預測結果\n",
        "正確率 accuracy：在所有情況中，正確判斷真假的比例。\n",
        "\n",
        "精確率 precision：判斷為真的情況下，有多少是真的真。\n",
        "\n",
        "召回率 recall：為真的情況下，有多少被正確判斷出來。\n",
        "\n",
        "FP被還被稱為第一型錯誤(Type 1 Error)，FN被稱為第二型錯誤"
      ]
    },
    {
      "cell_type": "code",
      "metadata": {
        "colab": {
          "base_uri": "https://localhost:8080/"
        },
        "id": "f30dMVz-g-_R",
        "outputId": "84bbe24d-e5aa-4da9-fccb-c57230b48505"
      },
      "source": [
        "predict_labels_ = [predictions[0][i].tolist().index(max(predictions[0][i])) for i in range(len(predictions[0]))]  # 利用新模型預測出的分類結果\n",
        "true_labels_ = true_labels[0].tolist()\n",
        "\n",
        "print(f'利用模型預測出的分類結果： {predict_labels_}')\n",
        "print(f'真實的分類結果：           {true_labels_}')"
      ],
      "execution_count": null,
      "outputs": [
        {
          "output_type": "stream",
          "name": "stdout",
          "text": [
            "利用模型預測出的分類結果： [2, 2, 2, 1, 1, 2, 2, 2, 2, 2, 3, 3, 3, 2, 2, 2, 5, 2, 2, 5, 2]\n",
            "真實的分類結果：           [0, 0, 0, 1, 1, 1, 2, 2, 2, 2, 3, 3, 3, 4, 4, 4, 5, 5, 5, 5, 5]\n"
          ]
        }
      ]
    },
    {
      "cell_type": "code",
      "metadata": {
        "id": "g7meBJTIhkUX"
      },
      "source": [
        "from sklearn.metrics import accuracy_score\n",
        "from sklearn.metrics import precision_score\n",
        "from sklearn.metrics import recall_score\n",
        "\n"
      ],
      "execution_count": null,
      "outputs": []
    },
    {
      "cell_type": "code",
      "metadata": {
        "colab": {
          "base_uri": "https://localhost:8080/"
        },
        "id": "iZo-8Sbzdr01",
        "outputId": "c849d4c6-2f2d-447f-faa4-25edc0d0043d"
      },
      "source": [
        "accuracy = round(accuracy_score(true_labels_, predict_labels_), 4)\n",
        "precision = round(precision_score(true_labels_, predict_labels_, average = 'micro'), 4)\n",
        "recall = round(recall_score(true_labels_, predict_labels_, average = 'micro'), 4)\n",
        "\n",
        "\n",
        "print(f'accuracy: {accuracy}')\n",
        "print(f'precision: {precision}')\n",
        "print(f'recall: {recall}')"
      ],
      "execution_count": null,
      "outputs": [
        {
          "output_type": "stream",
          "name": "stdout",
          "text": [
            "accuracy: 0.5238\n",
            "precision: 0.5238\n",
            "recall: 0.5238\n"
          ]
        }
      ]
    },
    {
      "cell_type": "markdown",
      "metadata": {
        "id": "2WXSt2jDEsJa"
      },
      "source": [
        "# 混淆矩陣\n",
        "\n",
        "混淆矩陣是機器學習中總結分類模型預測結果的情形分析表，以矩陣形式將數據集中的記錄按照真實的類別與分類模型預測的類別判斷兩個標準進行匯總。其中矩陣的行表示真實值，矩陣的列表示預測值\n",
        "\n"
      ]
    },
    {
      "cell_type": "code",
      "metadata": {
        "colab": {
          "base_uri": "https://localhost:8080/",
          "height": 398
        },
        "id": "d25-cWnOyl7I",
        "outputId": "4893ba4b-e0db-4eb0-ab98-d72b3f898a6d"
      },
      "source": [
        "import seaborn as sns\n",
        "from sklearn.metrics import confusion_matrix \n",
        "import matplotlib.pyplot as plt \n",
        "\n",
        "predict_labels_str = [str(i) for i in predict_labels_]\n",
        "true_labels_str = [str(i) for i in true_labels_]\n",
        "\n",
        "sns.set() \n",
        "\n",
        "C2= confusion_matrix(true_labels_str, predict_labels_str, labels=[\"0\", \"1\", \"2\", '3', '4', '5']) \n",
        "\n",
        "sns.heatmap(C2,annot=True)\n"
      ],
      "execution_count": null,
      "outputs": [
        {
          "output_type": "execute_result",
          "data": {
            "text/plain": [
              "<matplotlib.axes._subplots.AxesSubplot at 0x7fc8f778f450>"
            ]
          },
          "metadata": {},
          "execution_count": 32
        },
        {
          "output_type": "display_data",
          "data": {
            "image/png": "[encoded data removed]",
            "text/plain": [
              "<Figure size 864x432 with 2 Axes>"
            ]
          },
          "metadata": {}
        }
      ]
    },
    {
      "cell_type": "code",
      "metadata": {
        "id": "GHDX_g3PCQfm"
      },
      "source": [
        ""
      ],
      "execution_count": null,
      "outputs": []
    }
  ]
}