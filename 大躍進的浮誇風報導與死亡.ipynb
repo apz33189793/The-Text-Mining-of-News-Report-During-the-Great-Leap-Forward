{
  "cells": [
    {
      "cell_type": "code",
      "execution_count": null,
      "metadata": {
        "id": "Pj9LM2wBvTNL"
      },
      "outputs": [],
      "source": [
        "import re\n",
        "import pandas as pd\n",
        "import numpy as np\n",
        "import gdown\n",
        "import matplotlib.pyplot as plt"
      ]
    },
    {
      "cell_type": "code",
      "execution_count": null,
      "metadata": {
        "colab": {
          "base_uri": "https://localhost:8080/"
        },
        "id": "7QDRHAcXvczl",
        "outputId": "4d801ce3-1a36-4509-d18e-43b74e169bcb"
      },
      "outputs": [
        {
          "output_type": "stream",
          "name": "stdout",
          "text": [
            "Access denied with the following error:\n",
            "\n",
            " \tCannot retrieve the public link of the file. You may need to change\n",
            "\tthe permission to 'Anyone with the link', or have had many accesses. \n",
            "\n",
            "You may still be able to access the file from the browser:\n",
            "\n",
            "\t https://drive.google.com/uc?id=1FHsZ7ZzsIg5ufBjrNjUi5UfOL2tisBaK \n",
            "\n",
            "Downloading...\n",
            "From: https://drive.google.com/uc?id=1gxVJ4WyLwdg1_xM5TATBDNY9oxaHIrxT\n",
            "To: /content/area.xlsx\n",
            "100% 177k/177k [00:00<00:00, 28.6MB/s]\n",
            "Archive:  data.zip\n",
            "replace data/1962_jieba.xlsx? [y]es, [n]o, [A]ll, [N]one, [r]ename: A\n",
            "  inflating: data/1962_jieba.xlsx    \n",
            "  inflating: data/1961_jieba.xlsx    \n",
            "  inflating: data/1959_jieba.xlsx    \n",
            "  inflating: data/1960_jieba.xlsx    \n",
            "  inflating: data/1958_jieba.xlsx    \n"
          ]
        }
      ],
      "source": [
        "!gdown --id '1FHsZ7ZzsIg5ufBjrNjUi5UfOL2tisBaK' --output data.zip\n",
        "!gdown --id '1gxVJ4WyLwdg1_xM5TATBDNY9oxaHIrxT' --output area.xlsx\n",
        "# !wget -O TaipeiSansTCBeta-Regular.ttf https://drive.google.com/uc?id=1eGAsTN1HBpJAkeVM57_C7ccp7hbgSz3_&export=download\n",
        "!unzip 'data.zip'"
      ]
    },
    {
      "cell_type": "code",
      "execution_count": null,
      "metadata": {
        "colab": {
          "base_uri": "https://localhost:8080/",
          "height": 1000
        },
        "id": "MLiKezR4vgs_",
        "outputId": "771fe63a-72f1-4217-e473-a0745a9c4fbd"
      },
      "outputs": [
        {
          "output_type": "stream",
          "name": "stdout",
          "text": [
            "資料量：　112484\n"
          ]
        },
        {
          "output_type": "execute_result",
          "data": {
            "text/html": [
              "\n",
              "  <div id=\"df-036270ec-1ebb-42f5-9fa5-98c7a7b38139\">\n",
              "    <div class=\"colab-df-container\">\n",
              "      <div>\n",
              "<style scoped>\n",
              "    .dataframe tbody tr th:only-of-type {\n",
              "        vertical-align: middle;\n",
              "    }\n",
              "\n",
              "    .dataframe tbody tr th {\n",
              "        vertical-align: top;\n",
              "    }\n",
              "\n",
              "    .dataframe thead th {\n",
              "        text-align: right;\n",
              "    }\n",
              "</style>\n",
              "<table border=\"1\" class=\"dataframe\">\n",
              "  <thead>\n",
              "    <tr style=\"text-align: right;\">\n",
              "      <th></th>\n",
              "      <th>Unnamed: 0</th>\n",
              "      <th>Unnamed: 0.1</th>\n",
              "      <th>filename</th>\n",
              "      <th>corpus</th>\n",
              "      <th>timeseq_not_before</th>\n",
              "      <th>era</th>\n",
              "      <th>compilation_vol</th>\n",
              "      <th>docclass</th>\n",
              "      <th>doctype</th>\n",
              "      <th>compilation_name</th>\n",
              "      <th>author</th>\n",
              "      <th>title</th>\n",
              "      <th>doc_content</th>\n",
              "      <th>token</th>\n",
              "      <th>pos</th>\n",
              "      <th>tfidf</th>\n",
              "    </tr>\n",
              "  </thead>\n",
              "  <tbody>\n",
              "    <tr>\n",
              "      <th>0</th>\n",
              "      <td>0</td>\n",
              "      <td>0</td>\n",
              "      <td>人民日報_19580101_1_184147</td>\n",
              "      <td>1958</td>\n",
              "      <td>19580101</td>\n",
              "      <td>195801</td>\n",
              "      <td>第1版</td>\n",
              "      <td>NaN</td>\n",
              "      <td>社论</td>\n",
              "      <td>NaN</td>\n",
              "      <td>NaN</td>\n",
              "      <td>乘风破浪</td>\n",
              "      <td>人们的思想常常落后于实际，对于客观形势发展之快估计不足。回顾1957年，国际和国内形势的发展...</td>\n",
              "      <td>人们 的 思想 常常 落后 于 实际 ， 对于 客观 形势 发展 之 快 估计不足 。 回顾...</td>\n",
              "      <td>n uj n d a p n x p n n vn u a v x v m m x n c ...</td>\n",
              "      <td>整风运动,1957,五年计划,力量,胜利,帝国主义,和平,亚非,运动,发展,革命,共产主义,...</td>\n",
              "    </tr>\n",
              "    <tr>\n",
              "      <th>1</th>\n",
              "      <td>1</td>\n",
              "      <td>1</td>\n",
              "      <td>人民日報_19580101_5_184208</td>\n",
              "      <td>1958</td>\n",
              "      <td>19580101</td>\n",
              "      <td>195801</td>\n",
              "      <td>第5版</td>\n",
              "      <td>NaN</td>\n",
              "      <td>NaN</td>\n",
              "      <td>NaN</td>\n",
              "      <td>NaN</td>\n",
              "      <td>流年不利</td>\n",
              "      <td>方成钟灵</td>\n",
              "      <td>方成 钟灵</td>\n",
              "      <td>nrfg nr</td>\n",
              "      <td>钟灵,方成</td>\n",
              "    </tr>\n",
              "    <tr>\n",
              "      <th>2</th>\n",
              "      <td>2</td>\n",
              "      <td>2</td>\n",
              "      <td>人民日報_19580101_5_184207</td>\n",
              "      <td>1958</td>\n",
              "      <td>19580101</td>\n",
              "      <td>195801</td>\n",
              "      <td>第5版</td>\n",
              "      <td>NaN</td>\n",
              "      <td>扎记</td>\n",
              "      <td>NaN</td>\n",
              "      <td>所提出的</td>\n",
              "      <td>次等伙伴的悲哀</td>\n",
              "      <td>在回答“美国新闻与世界报道”杂志的记者所提出的，美国能够做些什么来“帮助”法国这一问题的时候...</td>\n",
              "      <td>在 回答 “ 美国 新闻 与 世界 报道 ” 杂志 的 记者 所 提出 的 ， 美国 能够 ...</td>\n",
              "      <td>p v x ns n p n v x n uj n c v uj x ns v v q r ...</td>\n",
              "      <td>盖伊,美国,北非,美国政府,可怜,阿说,阿在,多费,法国总理,一百八十度,满腹牢骚,法国,圆...</td>\n",
              "    </tr>\n",
              "    <tr>\n",
              "      <th>3</th>\n",
              "      <td>3</td>\n",
              "      <td>3</td>\n",
              "      <td>人民日報_19580101_5_184206</td>\n",
              "      <td>1958</td>\n",
              "      <td>19580101</td>\n",
              "      <td>195801</td>\n",
              "      <td>第5版</td>\n",
              "      <td>NaN</td>\n",
              "      <td>扎记</td>\n",
              "      <td>NaN</td>\n",
              "      <td>NaN</td>\n",
              "      <td>又是他！</td>\n",
              "      <td>最近，美国新闻处发出了一条无地点、无日期的电讯。它引用了贾马利的一些言论，来污蔑正在开罗举行...</td>\n",
              "      <td>最近 ， 美国 新闻处 发出 了 一条 无 地点 、 无 日期 的 电讯 。 它 引用 了 ...</td>\n",
              "      <td>f x ns nt v ul m v n x v t uj n x r v ul nr uj...</td>\n",
              "      <td>搜罗,贾马利,亚非,捣乱,团结,造谣生事,美国,亚非会议,贾马利来,悲哉,万隆会议,新闻处,...</td>\n",
              "    </tr>\n",
              "    <tr>\n",
              "      <th>4</th>\n",
              "      <td>4</td>\n",
              "      <td>4</td>\n",
              "      <td>人民日報_19580101_5_184205</td>\n",
              "      <td>1958</td>\n",
              "      <td>19580101</td>\n",
              "      <td>195801</td>\n",
              "      <td>第5版</td>\n",
              "      <td>NaN</td>\n",
              "      <td>扎记</td>\n",
              "      <td>NaN</td>\n",
              "      <td>NaN</td>\n",
              "      <td>帮闲的嘴脸</td>\n",
              "      <td>当一年前埃及把西方殖民者的银行、公司收回来的时候，“纽约时报”曾经说：“由于丧失了外国资本、...</td>\n",
              "      <td>当 一年 前 埃及 把 西方 殖民者 的 银行 、 公司 收回 来 的 时候 ， “ 纽约时...</td>\n",
              "      <td>t m f ns p s n uj n x n v v uj n x x nt x d v ...</td>\n",
              "      <td>殖民者,印度尼西亚,纽约时报,埃及,活不下去,援助,荷兰,管理,外国,米价,帮闲,挨饿,摇摇...</td>\n",
              "    </tr>\n",
              "    <tr>\n",
              "      <th>...</th>\n",
              "      <td>...</td>\n",
              "      <td>...</td>\n",
              "      <td>...</td>\n",
              "      <td>...</td>\n",
              "      <td>...</td>\n",
              "      <td>...</td>\n",
              "      <td>...</td>\n",
              "      <td>...</td>\n",
              "      <td>...</td>\n",
              "      <td>...</td>\n",
              "      <td>...</td>\n",
              "      <td>...</td>\n",
              "      <td>...</td>\n",
              "      <td>...</td>\n",
              "      <td>...</td>\n",
              "      <td>...</td>\n",
              "    </tr>\n",
              "    <tr>\n",
              "      <th>113141</th>\n",
              "      <td>17332</td>\n",
              "      <td>17332</td>\n",
              "      <td>人民日報_19621231_1_301127</td>\n",
              "      <td>1962</td>\n",
              "      <td>19621231</td>\n",
              "      <td>196212</td>\n",
              "      <td>第1版</td>\n",
              "      <td>NaN</td>\n",
              "      <td>NaN</td>\n",
              "      <td>新华社</td>\n",
              "      <td>NaN</td>\n",
              "      <td>我边防部队忠实执行我国政府停火后撤的决定国防部发言人声明：我边防部队于十二月三十日继续主动后...</td>\n",
              "      <td>新华社30日讯我国防部发言人今日就我边防部队继续从中印边界东西两段主动后撤发表声明如下：我西...</td>\n",
              "      <td>新华社 30 日 讯 我 国防部 发言人 今日 就 我 边防部队 继续 从中 印 边界 东西...</td>\n",
              "      <td>nt m m ng r nt l t d r n v d v n ns m b v l t ...</td>\n",
              "      <td>边防部队,12,后撤,30,控制线,地区,1959,边界,中印,以北,习惯线,山口,进驻,我...</td>\n",
              "    </tr>\n",
              "    <tr>\n",
              "      <th>113142</th>\n",
              "      <td>17333</td>\n",
              "      <td>17333</td>\n",
              "      <td>人民日報_19621231_1_301126</td>\n",
              "      <td>1962</td>\n",
              "      <td>19621231</td>\n",
              "      <td>196212</td>\n",
              "      <td>第1版</td>\n",
              "      <td>NaN</td>\n",
              "      <td>NaN</td>\n",
              "      <td>新华社</td>\n",
              "      <td>NaN</td>\n",
              "      <td>西丽玛沃·班达拉奈克总理简历</td>\n",
              "      <td>新华社30日讯锡兰总理西丽玛沃·班达拉奈克阁下1916年4月17日生于锡兰康堤的一个贵族家庭...</td>\n",
              "      <td>新华社 30 日讯 锡兰 总理 西丽玛沃 · 班达拉奈克 阁下 1916 年 4 月 17 ...</td>\n",
              "      <td>nt m nz ns n nr x ns n m m m m m m v ns nr uj ...</td>\n",
              "      <td>班达拉奈克,锡兰,西丽玛沃,总理,丈夫,夫人,1960,科伦坡,国防,议会,妇女,协会,30...</td>\n",
              "    </tr>\n",
              "    <tr>\n",
              "      <th>113143</th>\n",
              "      <td>17334</td>\n",
              "      <td>17334</td>\n",
              "      <td>人民日報_19621231_1_301125</td>\n",
              "      <td>1962</td>\n",
              "      <td>19621231</td>\n",
              "      <td>196212</td>\n",
              "      <td>第1版</td>\n",
              "      <td>NaN</td>\n",
              "      <td>NaN</td>\n",
              "      <td>新华社广州30日</td>\n",
              "      <td>NaN</td>\n",
              "      <td>锡兰总理班达拉奈克夫人到广州数千广州市民到车站热烈欢迎广东省省长设宴欢迎贵宾</td>\n",
              "      <td>新华社广州30日电锡兰总理西丽玛沃·班达拉奈克夫人和随行人员今天下午从深圳乘专车到达广州。贵...</td>\n",
              "      <td>新华社 广州 30 日电 锡兰 总理 西丽玛沃 · 班达拉奈克 夫人 和 随行人员 今天下午...</td>\n",
              "      <td>nt ns m j ns n nr x ns n c n nr p ns v n v ns ...</td>\n",
              "      <td>锡兰,班达拉奈克,贵宾,陈郁,夫人,总理,西丽玛沃,广州,广东省,车站,曾生,省长,广州市,...</td>\n",
              "    </tr>\n",
              "    <tr>\n",
              "      <th>113144</th>\n",
              "      <td>17335</td>\n",
              "      <td>17335</td>\n",
              "      <td>人民日報_19621231_4_301139</td>\n",
              "      <td>1962</td>\n",
              "      <td>19621231</td>\n",
              "      <td>196212</td>\n",
              "      <td>第4版</td>\n",
              "      <td>NaN</td>\n",
              "      <td>NaN</td>\n",
              "      <td>NaN</td>\n",
              "      <td>NaN</td>\n",
              "      <td>大会通电</td>\n",
              "      <td>首都各界人民庆祝古巴革命胜利四周年和中古友协成立，全文如下：首都各界人民今天举行了隆重集会，...</td>\n",
              "      <td>首都 各界 人民 庆祝 古巴 革命胜利 四周 年 和 中古 友协 成立 ， 全文如下 ： 首...</td>\n",
              "      <td>d r n v ns nz m m c ns j v x l x d r n t v ul ...</td>\n",
              "      <td>古巴,美帝国主义,革命,菲德尔,卡斯特罗,英雄,革命胜利,拉丁美洲,各界,庆祝,坚强,胜利,...</td>\n",
              "    </tr>\n",
              "    <tr>\n",
              "      <th>113145</th>\n",
              "      <td>17336</td>\n",
              "      <td>17336</td>\n",
              "      <td>人民日報_19621231_7_301153</td>\n",
              "      <td>1962</td>\n",
              "      <td>19621231</td>\n",
              "      <td>196212</td>\n",
              "      <td>第7版</td>\n",
              "      <td>NaN</td>\n",
              "      <td>NaN</td>\n",
              "      <td>新华社平壤29日</td>\n",
              "      <td>NaN</td>\n",
              "      <td>朝中方面强烈抗议美国舰艇武装挑衅指责美国侵略行为进一步加剧了朝鲜紧张局势</td>\n",
              "      <td>新华社平壤29日电据朝鲜中央通讯社讯：昨天在开城举行的第一百六十二次军事停战委员会会议上，朝...</td>\n",
              "      <td>新华社 平壤 29 日电 据 朝鲜中央通讯社 讯 ： 昨天 在 开城 举行 的 第 一百六十...</td>\n",
              "      <td>nt n m j p nt ng x t p ns v uj m m m n v n n f...</td>\n",
              "      <td>朝鲜,停战,12,张正桓,一艘,美方,袭击,巡逻艇,朝中,军事,侵略,武装,朝鲜中央通讯社,...</td>\n",
              "    </tr>\n",
              "  </tbody>\n",
              "</table>\n",
              "<p>112484 rows × 16 columns</p>\n",
              "</div>\n",
              "      <button class=\"colab-df-convert\" onclick=\"convertToInteractive('df-036270ec-1ebb-42f5-9fa5-98c7a7b38139')\"\n",
              "              title=\"Convert this dataframe to an interactive table.\"\n",
              "              style=\"display:none;\">\n",
              "        \n",
              "  <svg xmlns=\"http://www.w3.org/2000/svg\" height=\"24px\"viewBox=\"0 0 24 24\"\n",
              "       width=\"24px\">\n",
              "    <path d=\"M0 0h24v24H0V0z\" fill=\"none\"/>\n",
              "    <path d=\"M18.56 5.44l.94 2.06.94-2.06 2.06-.94-2.06-.94-.94-2.06-.94 2.06-2.06.94zm-11 1L8.5 8.5l.94-2.06 2.06-.94-2.06-.94L8.5 2.5l-.94 2.06-2.06.94zm10 10l.94 2.06.94-2.06 2.06-.94-2.06-.94-.94-2.06-.94 2.06-2.06.94z\"/><path d=\"M17.41 7.96l-1.37-1.37c-.4-.4-.92-.59-1.43-.59-.52 0-1.04.2-1.43.59L10.3 9.45l-7.72 7.72c-.78.78-.78 2.05 0 2.83L4 21.41c.39.39.9.59 1.41.59.51 0 1.02-.2 1.41-.59l7.78-7.78 2.81-2.81c.8-.78.8-2.07 0-2.86zM5.41 20L4 18.59l7.72-7.72 1.47 1.35L5.41 20z\"/>\n",
              "  </svg>\n",
              "      </button>\n",
              "      \n",
              "  <style>\n",
              "    .colab-df-container {\n",
              "      display:flex;\n",
              "      flex-wrap:wrap;\n",
              "      gap: 12px;\n",
              "    }\n",
              "\n",
              "    .colab-df-convert {\n",
              "      background-color: #E8F0FE;\n",
              "      border: none;\n",
              "      border-radius: 50%;\n",
              "      cursor: pointer;\n",
              "      display: none;\n",
              "      fill: #1967D2;\n",
              "      height: 32px;\n",
              "      padding: 0 0 0 0;\n",
              "      width: 32px;\n",
              "    }\n",
              "\n",
              "    .colab-df-convert:hover {\n",
              "      background-color: #E2EBFA;\n",
              "      box-shadow: 0px 1px 2px rgba(60, 64, 67, 0.3), 0px 1px 3px 1px rgba(60, 64, 67, 0.15);\n",
              "      fill: #174EA6;\n",
              "    }\n",
              "\n",
              "    [theme=dark] .colab-df-convert {\n",
              "      background-color: #3B4455;\n",
              "      fill: #D2E3FC;\n",
              "    }\n",
              "\n",
              "    [theme=dark] .colab-df-convert:hover {\n",
              "      background-color: #434B5C;\n",
              "      box-shadow: 0px 1px 3px 1px rgba(0, 0, 0, 0.15);\n",
              "      filter: drop-shadow(0px 1px 2px rgba(0, 0, 0, 0.3));\n",
              "      fill: #FFFFFF;\n",
              "    }\n",
              "  </style>\n",
              "\n",
              "      <script>\n",
              "        const buttonEl =\n",
              "          document.querySelector('#df-036270ec-1ebb-42f5-9fa5-98c7a7b38139 button.colab-df-convert');\n",
              "        buttonEl.style.display =\n",
              "          google.colab.kernel.accessAllowed ? 'block' : 'none';\n",
              "\n",
              "        async function convertToInteractive(key) {\n",
              "          const element = document.querySelector('#df-036270ec-1ebb-42f5-9fa5-98c7a7b38139');\n",
              "          const dataTable =\n",
              "            await google.colab.kernel.invokeFunction('convertToInteractive',\n",
              "                                                     [key], {});\n",
              "          if (!dataTable) return;\n",
              "\n",
              "          const docLinkHtml = 'Like what you see? Visit the ' +\n",
              "            '<a target=\"_blank\" href=https://colab.research.google.com/notebooks/data_table.ipynb>data table notebook</a>'\n",
              "            + ' to learn more about interactive tables.';\n",
              "          element.innerHTML = '';\n",
              "          dataTable['output_type'] = 'display_data';\n",
              "          await google.colab.output.renderOutput(dataTable, element);\n",
              "          const docLink = document.createElement('div');\n",
              "          docLink.innerHTML = docLinkHtml;\n",
              "          element.appendChild(docLink);\n",
              "        }\n",
              "      </script>\n",
              "    </div>\n",
              "  </div>\n",
              "  "
            ],
            "text/plain": [
              "        Unnamed: 0  ...                                              tfidf\n",
              "0                0  ...  整风运动,1957,五年计划,力量,胜利,帝国主义,和平,亚非,运动,发展,革命,共产主义,...\n",
              "1                1  ...                                              钟灵,方成\n",
              "2                2  ...  盖伊,美国,北非,美国政府,可怜,阿说,阿在,多费,法国总理,一百八十度,满腹牢骚,法国,圆...\n",
              "3                3  ...  搜罗,贾马利,亚非,捣乱,团结,造谣生事,美国,亚非会议,贾马利来,悲哉,万隆会议,新闻处,...\n",
              "4                4  ...  殖民者,印度尼西亚,纽约时报,埃及,活不下去,援助,荷兰,管理,外国,米价,帮闲,挨饿,摇摇...\n",
              "...            ...  ...                                                ...\n",
              "113141       17332  ...  边防部队,12,后撤,30,控制线,地区,1959,边界,中印,以北,习惯线,山口,进驻,我...\n",
              "113142       17333  ...  班达拉奈克,锡兰,西丽玛沃,总理,丈夫,夫人,1960,科伦坡,国防,议会,妇女,协会,30...\n",
              "113143       17334  ...  锡兰,班达拉奈克,贵宾,陈郁,夫人,总理,西丽玛沃,广州,广东省,车站,曾生,省长,广州市,...\n",
              "113144       17335  ...  古巴,美帝国主义,革命,菲德尔,卡斯特罗,英雄,革命胜利,拉丁美洲,各界,庆祝,坚强,胜利,...\n",
              "113145       17336  ...  朝鲜,停战,12,张正桓,一艘,美方,袭击,巡逻艇,朝中,军事,侵略,武装,朝鲜中央通讯社,...\n",
              "\n",
              "[112484 rows x 16 columns]"
            ]
          },
          "metadata": {},
          "execution_count": 3
        }
      ],
      "source": [
        "df0 = pd.read_excel('data/'+'1958_jieba.xlsx')\n",
        "df1 = pd.read_excel('data/'+'1959_jieba.xlsx')\n",
        "df2 = pd.read_excel('data/'+'1960_jieba.xlsx')\n",
        "df3 = pd.read_excel('data/'+'1961_jieba.xlsx')\n",
        "df4 = pd.read_excel('data/'+'1962_jieba.xlsx')\n",
        "df = pd.concat([df0, df1, df2, df3, df4],axis=0, ignore_index=True)\n",
        "\n",
        "df = df.dropna(subset=[\"title\",'doc_content','tfidf']) #去除遺漏值\n",
        "print(f'資料量：　{len(df)}')\n",
        "df"
      ]
    },
    {
      "cell_type": "code",
      "execution_count": null,
      "metadata": {
        "id": "D1SUC1pXvgvH"
      },
      "outputs": [],
      "source": [
        "# 先把縣市新聞先歸納出來\n",
        "area = pd.read_excel('area.xlsx')\n",
        "new_df = []\n",
        "\n",
        "\n",
        "for k in list(area.columns):\n",
        "  a = list(area[k])\n",
        "  temp_ = []\n",
        "  for j in range(len(a)):\n",
        "    if type(a[j]) == str:\n",
        "      if len(a[j])>=3:\n",
        "        # b = a[j].replace('自治区','').replace('自治州','').replace('自治市','').replace('自治市','').replace('自治县','').replace('自治旗','').replace('区','').replace('市','').replace('县','').replace('旗','') \n",
        "        b = a[j].replace('自治区','').replace('自治州','').replace('自治市','').replace('自治市','').replace('自治县','').replace('自治旗','')\n",
        "        temp_.append(b)\n",
        "      else:\n",
        "        temp_.append(a[j])\n",
        "    else:\n",
        "      continue\n",
        "  new_df.append(temp_)\n"
      ]
    },
    {
      "cell_type": "markdown",
      "metadata": {
        "id": "ndSihhiKZ4IR"
      },
      "source": [
        "# 一次定義多變數"
      ]
    },
    {
      "cell_type": "code",
      "execution_count": null,
      "metadata": {
        "colab": {
          "base_uri": "https://localhost:8080/"
        },
        "id": "zSo1Rko-ZzJN",
        "outputId": "1c0293eb-5a8d-4be3-b67a-14d1fd517cf9"
      },
      "outputs": [
        {
          "output_type": "stream",
          "name": "stdout",
          "text": [
            "['和平区', '河东区', '河西区', '南开区', '河北区', '红桥区', '东丽区', '西青区', '津南区', '北辰区', '武清区', '宝坻区', '滨海新区', '宁河区', '静海区', '蓟州区']\n"
          ]
        }
      ],
      "source": [
        "for i,j in zip(list(area.columns), new_df):\n",
        "    globals()[str(i)] = j\n",
        "\n",
        "whole_region = 北京+天津+河北+山西+内蒙+辽宁+吉林+黑龙江+上海+江苏+浙江+安徽+福建+江西+山东+河南+湖北+广东+广西+四川+贵州+云南+陕西+甘肃+青海+新疆+湖南 # 全部行政區    \n",
        "print(天津)\n"
      ]
    },
    {
      "cell_type": "markdown",
      "source": [
        "# 特殊地名微調"
      ],
      "metadata": {
        "id": "B8tduS65ud95"
      }
    },
    {
      "cell_type": "code",
      "source": [
        "天津 = ['和平区' if x=='和平' else x for x in 天津]\n",
        "辽宁 = ['和平区' if x=='和平' else x for x in 辽宁]\n",
        "广东 = ['和平县' if x=='和平' else x for x in 广东]\n",
        "河北 = ['新华区' if x=='新华' else x for x in 河北]\n",
        "河南 = ['新华区' if x=='新华' else x for x in 河南]"
      ],
      "metadata": {
        "id": "nL0k5qESudpF"
      },
      "execution_count": null,
      "outputs": []
    },
    {
      "cell_type": "markdown",
      "metadata": {
        "id": "vS6Ijjxzfmxc"
      },
      "source": [
        "# 文章篩選"
      ]
    },
    {
      "cell_type": "code",
      "execution_count": null,
      "metadata": {
        "id": "cUCQDdpCvc11"
      },
      "outputs": [],
      "source": [
        "\n",
        "北京_list, 天津_list, 河北_list, 山西_list, 内蒙_list, 辽宁_list, 吉林_list, 黑龙江_list, 上海_list, 江苏_list, 浙江_list, 安徽_list, 福建_list, 江西_list, 山东_list, 河南_list, 湖北_list, 广东_list, 广西_list, 四川_list, 贵州_list, 云南_list, 陕西_list, 甘肃_list, 青海_list, 新疆_list, 湖南_list = [], [], [], [], [], [], [], [], [], [], [], [], [], [], [], [], [], [], [], [], [], [], [], [], [], [], []\n",
        "region_list = [北京, 天津, 河北, 山西, 内蒙, 辽宁, 吉林, 黑龙江, 上海, 江苏, 浙江, 安徽, 福建, 江西, 山东, 河南, 湖北, 广东, 广西, 四川, 贵州, 云南, 陕西, 甘肃, 青海, 新疆, 湖南]\n",
        "region_dict_list = [北京_list, 天津_list, 河北_list, 山西_list, 内蒙_list, 辽宁_list, 吉林_list, 黑龙江_list, 上海_list, 江苏_list, 浙江_list, 安徽_list, 福建_list, 江西_list, 山东_list, 河南_list, 湖北_list, 广东_list, 广西_list, 四川_list, 贵州_list, 云南_list, 陕西_list, 甘肃_list, 青海_list, 新疆_list, 湖南_list]\n",
        "for i in df['doc_content']:\n",
        "  for k,z in zip(region_list, region_dict_list):\n",
        "    for j in k: # 字典\n",
        "      if j in i: \n",
        "        z.append(i)\n",
        "        break\n",
        "      else:\n",
        "        continue\n"
      ]
    },
    {
      "cell_type": "code",
      "execution_count": null,
      "metadata": {
        "id": "MDOvsyaKgHXu"
      },
      "outputs": [],
      "source": [
        "region_dict_list = [北京_list, 天津_list, 河北_list, 山西_list, 内蒙_list, 辽宁_list, 吉林_list, 黑龙江_list, 上海_list, 江苏_list, 浙江_list, 安徽_list, 福建_list, 江西_list, 山东_list, 河南_list, 湖北_list, 广东_list, 广西_list, 四川_list, 贵州_list, 云南_list, 陕西_list, 甘肃_list, 青海_list, 新疆_list, 湖南_list]"
      ]
    },
    {
      "cell_type": "code",
      "execution_count": null,
      "metadata": {
        "colab": {
          "base_uri": "https://localhost:8080/"
        },
        "id": "d5HgZNGQhbxA",
        "outputId": "ee8de136-1940-45d1-e3bd-162d4e5f307a"
      },
      "outputs": [
        {
          "output_type": "stream",
          "name": "stdout",
          "text": [
            "0：460\n",
            "1：255\n",
            "2：1647\n",
            "3：5708\n",
            "4：877\n",
            "5：1655\n",
            "6：899\n",
            "7：3417\n",
            "8：181\n",
            "9：1462\n",
            "10：740\n",
            "11：4092\n",
            "12：1090\n",
            "13：869\n",
            "14：1341\n",
            "15：2355\n",
            "16：1608\n",
            "17：1746\n",
            "18：767\n",
            "19：2510\n",
            "20：785\n",
            "21：1024\n",
            "22：1025\n",
            "23：2416\n",
            "24：460\n",
            "25：540\n",
            "26：1890\n"
          ]
        }
      ],
      "source": [
        "num = 0\n",
        "for i in region_dict_list:\n",
        "  print(str(num) + '：' + str(len(i)))\n",
        "  num += 1"
      ]
    },
    {
      "cell_type": "code",
      "source": [
        "天津"
      ],
      "metadata": {
        "colab": {
          "base_uri": "https://localhost:8080/"
        },
        "id": "eZ-nyX6j_vRR",
        "outputId": "6e1f0d0c-f17e-4884-f98f-743cee3b355b"
      },
      "execution_count": null,
      "outputs": [
        {
          "output_type": "execute_result",
          "data": {
            "text/plain": [
              "['和平区',\n",
              " '河东区',\n",
              " '河西区',\n",
              " '南开区',\n",
              " '河北区',\n",
              " '红桥区',\n",
              " '东丽区',\n",
              " '西青区',\n",
              " '津南区',\n",
              " '北辰区',\n",
              " '武清区',\n",
              " '宝坻区',\n",
              " '滨海新区',\n",
              " '宁河区',\n",
              " '静海区',\n",
              " '蓟州区']"
            ]
          },
          "metadata": {},
          "execution_count": 19
        }
      ]
    },
    {
      "cell_type": "code",
      "execution_count": null,
      "metadata": {
        "colab": {
          "base_uri": "https://localhost:8080/",
          "height": 174
        },
        "id": "E7hxKOaKd7xZ",
        "outputId": "40fdc017-6e31-45c7-ea56-1432a0e4d090"
      },
      "outputs": [
        {
          "output_type": "execute_result",
          "data": {
            "application/vnd.google.colaboratory.intrinsic+json": {
              "type": "string"
            },
            "text/plain": [
              "'新华社唐山3日电中共唐山市委在最近召开的有各厂矿党委领导干部参加的市委扩大会议上，检查了整改和工业生产高潮准备工作。会议上，批判了某些厂矿企业领导干部对即将到来的工业生产高潮估计不足，干劲不大的右倾保守思想，号召各厂矿的干部和职工鼓起革命干劲，保证今年第一季度的生产不低于去年四季度的实际生产水平。唐山市随着厂矿企业整改高潮而来的，一个新的规模壮阔的工业生产高潮正在形成。开滦林西矿有十二个掘进队开展同工种生产竞赛后，到去年12月26日就有九个队的工人实现了全月竞赛条件中规定的保证计划。启新水泥厂工人，从去年12月初就开展起磨与磨、班与班的竞赛，生产水平不断提高，到28日提前完成了去年第四季度增产五千吨水泥计划。会议指出，目前有些厂矿企业的领导干部对新形势估计不足，他们认为即将到来的工业生产高潮和往年的增产节约运动不会有多大区别；他们没有认识到经过这次整风运动和社会主义教育运动，工人的政治觉悟和劳动热情高于过去的任何一次政治运动。因此他们在新的工业生产高潮前面表现了领导气魄不大，干劲不足，强调困难多，初步拟定的1958年的一些生产指标偏低。开滦煤矿唐家庄矿根据去年的实际生产水平稍加努力就能使1958年的产量提高到二百零七万吨，但是开滦煤矿只分配给这个矿一百九十万吨的生产任务，这个数字比去年的实际生产数字还少二万吨。唐山钢厂去年每炼一吨钢的平均实际生铁消耗已降到一千一百八十公斤，但这个厂在制定今年第一季度的生产计划时，强调供应的生铁可能含磷高，消耗大，因而规定第一季度每一吨转炉钢的生铁消耗为一千一百九十公斤，比去年的实际消耗还多十公斤。这次会议要求各厂矿领导干部要以革命的干劲，领导好新的工业生产高潮，并且要充分做好生产高潮的准备工作。在今年1月份，要发动职工群众，重新修订1958年的特别是第一季度的增产节约计划。会议要求凡是生产原材料的厂矿，在保证质量的前提下尽量增产；原材料供应有困难的厂矿，在保证产品质量的原则下想尽一切办法降低原材料消耗，研究试用代用品，节约原料保证增产；凡是产供销都有困难的厂矿，要积极承揽订货；并试制适应市场需要的新产品。同时各厂矿要坚决贯彻一竿子扎到底的整改方针，彻底作好系统整改工作，及时发动群众掀起生产高潮。'"
            ]
          },
          "metadata": {},
          "execution_count": 22
        }
      ],
      "source": [
        "河北_list[2]"
      ]
    },
    {
      "cell_type": "code",
      "source": [
        ""
      ],
      "metadata": {
        "id": "Olwvt-9dH126"
      },
      "execution_count": null,
      "outputs": []
    },
    {
      "cell_type": "code",
      "execution_count": null,
      "metadata": {
        "id": "AQKA2H3hVJdC"
      },
      "outputs": [],
      "source": [
        "# https://bbs.creaders.net/politics/bbsviewer.php?trd_id=831648&language=big5\n",
        "\n",
        "# http://ww2.usc.cuhk.edu.hk/PaperCollection/Details.aspx?id=362"
      ]
    },
    {
      "cell_type": "code",
      "execution_count": null,
      "metadata": {
        "id": "3TNt4LgUVNfS"
      },
      "outputs": [],
      "source": [
        "# 科爾估算的死亡率 與整體災害報導、高產衛星報導做比較"
      ]
    },
    {
      "cell_type": "code",
      "execution_count": null,
      "metadata": {
        "id": "-NGhXYZnVNhT"
      },
      "outputs": [],
      "source": [
        "# 蔣政華估算的死亡率 與整體災害報導、高產衛星報導做比較"
      ]
    },
    {
      "cell_type": "code",
      "execution_count": null,
      "metadata": {
        "id": "tCUY46uwV8Yz"
      },
      "outputs": [],
      "source": [
        "# 官方估計的死亡率 與整體災害報導、高產衛星報導做比較"
      ]
    },
    {
      "cell_type": "code",
      "execution_count": null,
      "metadata": {
        "id": "2gLIGH6TVNjS"
      },
      "outputs": [],
      "source": [
        "# 曹樹基的各省死亡率。 與各省的災害報導、高產衛星報導做比較"
      ]
    },
    {
      "cell_type": "code",
      "execution_count": null,
      "metadata": {
        "id": "DKlWcjTxVNnw"
      },
      "outputs": [],
      "source": [
        "# 楊繼繩，歷年鋼產量vs高產衛星。"
      ]
    },
    {
      "cell_type": "code",
      "execution_count": null,
      "metadata": {
        "id": "WoF57vTtVNpx"
      },
      "outputs": [],
      "source": [
        "# 楊繼繩，歷年農產量vs高產衛星。"
      ]
    },
    {
      "cell_type": "code",
      "execution_count": null,
      "metadata": {
        "id": "ApGmvywFVNrv"
      },
      "outputs": [],
      "source": [
        ""
      ]
    }
  ],
  "metadata": {
    "colab": {
      "collapsed_sections": [],
      "name": "大躍進的浮誇風報導與死亡.ipynb",
      "provenance": []
    },
    "kernelspec": {
      "display_name": "Python 3",
      "name": "python3"
    },
    "language_info": {
      "name": "python"
    }
  },
  "nbformat": 4,
  "nbformat_minor": 0
}